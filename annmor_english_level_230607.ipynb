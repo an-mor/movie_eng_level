{
 "cells": [
  {
   "cell_type": "markdown",
   "id": "0b381400",
   "metadata": {
    "toc": true
   },
   "source": [
    "<h1>Table of Contents<span class=\"tocSkip\"></span></h1>\n",
    "<div class=\"toc\"><ul class=\"toc-item\"><li><span><a href=\"#Подготовка-данных\" data-toc-modified-id=\"Подготовка-данных-1\"><span class=\"toc-item-num\">1&nbsp;&nbsp;</span>Подготовка данных</a></span><ul class=\"toc-item\"><li><span><a href=\"#Загрузка-данных\" data-toc-modified-id=\"Загрузка-данных-1.1\"><span class=\"toc-item-num\">1.1&nbsp;&nbsp;</span>Загрузка данных</a></span></li><li><span><a href=\"#Анализ-и-обработка-данных\" data-toc-modified-id=\"Анализ-и-обработка-данных-1.2\"><span class=\"toc-item-num\">1.2&nbsp;&nbsp;</span>Анализ и обработка данных</a></span></li><li><span><a href=\"#Очистка-и-обработка-текста\" data-toc-modified-id=\"Очистка-и-обработка-текста-1.3\"><span class=\"toc-item-num\">1.3&nbsp;&nbsp;</span>Очистка и обработка текста</a></span></li><li><span><a href=\"#Разделение-на-выборки\" data-toc-modified-id=\"Разделение-на-выборки-1.4\"><span class=\"toc-item-num\">1.4&nbsp;&nbsp;</span>Разделение на выборки</a></span></li><li><span><a href=\"#Векторизация\" data-toc-modified-id=\"Векторизация-1.5\"><span class=\"toc-item-num\">1.5&nbsp;&nbsp;</span>Векторизация</a></span><ul class=\"toc-item\"><li><span><a href=\"#Bag-of-words\" data-toc-modified-id=\"Bag-of-words-1.5.1\"><span class=\"toc-item-num\">1.5.1&nbsp;&nbsp;</span>Bag of words</a></span></li><li><span><a href=\"#TF-IDF\" data-toc-modified-id=\"TF-IDF-1.5.2\"><span class=\"toc-item-num\">1.5.2&nbsp;&nbsp;</span>TF-IDF</a></span></li></ul></li></ul></li><li><span><a href=\"#Модели\" data-toc-modified-id=\"Модели-2\"><span class=\"toc-item-num\">2&nbsp;&nbsp;</span>Модели</a></span><ul class=\"toc-item\"><li><span><a href=\"#LogisticRegressionCV\" data-toc-modified-id=\"LogisticRegressionCV-2.1\"><span class=\"toc-item-num\">2.1&nbsp;&nbsp;</span>LogisticRegressionCV</a></span></li><li><span><a href=\"#Catboost\" data-toc-modified-id=\"Catboost-2.2\"><span class=\"toc-item-num\">2.2&nbsp;&nbsp;</span>Catboost</a></span><ul class=\"toc-item\"><li><span><a href=\"#Сatboost-textfeatures\" data-toc-modified-id=\"Сatboost-textfeatures-2.2.1\"><span class=\"toc-item-num\">2.2.1&nbsp;&nbsp;</span>Сatboost textfeatures</a></span></li></ul></li><li><span><a href=\"#Проверка-на-тестовой-выборке\" data-toc-modified-id=\"Проверка-на-тестовой-выборке-2.3\"><span class=\"toc-item-num\">2.3&nbsp;&nbsp;</span>Проверка на тестовой выборке</a></span></li></ul></li><li><span><a href=\"#Отчёт\" data-toc-modified-id=\"Отчёт-3\"><span class=\"toc-item-num\">3&nbsp;&nbsp;</span>Отчёт</a></span></li></ul></div>"
   ]
  },
  {
   "cell_type": "markdown",
   "id": "778d0505",
   "metadata": {},
   "source": [
    "# Прогнозирование уровня сложности фильмов на английском"
   ]
  },
  {
   "cell_type": "markdown",
   "id": "bef90864",
   "metadata": {},
   "source": [
    "**Описание**: Просмотр фильмов на изучаемом языке помогает прокачать знания. Важно выбрать фильм, который подходит по уровню сложности - студент должен понимать 50-70% диалогов.\n",
    "\n",
    "Есть датасет от заказчика с выборкой фильмов и уровнем сложности. Уровень проставлял заказчик, эксперты просматривали фильмы и делали вывод об их сложности.\n",
    "\n",
    "**Цель**: разработать ML модель для определения уровня сложности англоязычных фильмов."
   ]
  },
  {
   "cell_type": "markdown",
   "id": "19fa2760",
   "metadata": {},
   "source": [
    "**Исходные данные**\n",
    "- разметка: оценка сложности фильмов (около 200)\n",
    "- субтитры фильмов\n",
    "- словарь со словами по уровню языка"
   ]
  },
  {
   "cell_type": "markdown",
   "id": "c82d1ec7",
   "metadata": {},
   "source": [
    "**План работы**\n",
    "- субтитры содержат много мусора, предобработать их, отфильтровать\n",
    "- рассмотреть добавление дополнительных признаков\n",
    "- провести токенизацию, лемматизацию\n",
    "- провести векторизацию признаков различными методами\n",
    "- обучить различные модели, выбрать лучшую, проверить на тестовой выборке\n",
    "- использовать метрику `accuracy`, `balanced accuracy`\n",
    "- построить матрицу ошибок `confusion matrix`, проанализировать предсказания модели по каждому классу"
   ]
  },
  {
   "cell_type": "markdown",
   "id": "431412dc",
   "metadata": {},
   "source": [
    "## Подготовка данных"
   ]
  },
  {
   "cell_type": "code",
   "execution_count": 1,
   "id": "89191536",
   "metadata": {
    "ExecuteTime": {
     "end_time": "2023-06-07T09:44:57.791718Z",
     "start_time": "2023-06-07T09:44:57.772695Z"
    }
   },
   "outputs": [],
   "source": [
    "# установка дополнительных библиотек закомментирована\n",
    "# при ошибках импорта установить нужные\n",
    "\n",
    "# ! pip install openpyxl\n",
    "# ! pip install pysrt\n",
    "# ! pip install nltk"
   ]
  },
  {
   "cell_type": "code",
   "execution_count": 2,
   "id": "c9ed41c9",
   "metadata": {
    "ExecuteTime": {
     "end_time": "2023-06-07T09:45:01.289141Z",
     "start_time": "2023-06-07T09:45:00.621662Z"
    }
   },
   "outputs": [],
   "source": [
    "from datetime import datetime\n",
    "import matplotlib.pyplot as plt\n",
    "import numpy as np\n",
    "import pandas as pd\n",
    "import re\n",
    "import seaborn as sns\n",
    "\n",
    "# работа с файлами\n",
    "from chardet.universaldetector import UniversalDetector\n",
    "from difflib import get_close_matches\n",
    "from pathlib import Path\n",
    "import pysrt\n",
    "\n",
    "# обработка текста\n",
    "import nltk\n",
    "#nltk.download('all')\n",
    "from nltk.corpus import stopwords\n",
    "from nltk.tokenize import word_tokenize, sent_tokenize\n",
    "from nltk.stem import WordNetLemmatizer\n",
    "\n",
    "# векторизация\n",
    "from sklearn.feature_extraction.text import CountVectorizer, TfidfVectorizer\n",
    "\n",
    "# ML\n",
    "from catboost import CatBoostClassifier, cv, metrics, Pool\n",
    "from sklearn.linear_model import LogisticRegressionCV\n",
    "from sklearn.metrics import balanced_accuracy_score, confusion_matrix, f1_score\n",
    "from sklearn.model_selection import cross_val_score, train_test_split"
   ]
  },
  {
   "cell_type": "code",
   "execution_count": 3,
   "id": "bb6cb258",
   "metadata": {
    "ExecuteTime": {
     "end_time": "2023-06-07T09:45:04.264583Z",
     "start_time": "2023-06-07T09:45:04.246632Z"
    }
   },
   "outputs": [],
   "source": [
    "# постоянные параметры\n",
    "RND_STATE = 3210"
   ]
  },
  {
   "cell_type": "markdown",
   "id": "928aa8e4",
   "metadata": {},
   "source": [
    "### Загрузка данных"
   ]
  },
  {
   "cell_type": "markdown",
   "id": "5da4a41c",
   "metadata": {
    "ExecuteTime": {
     "end_time": "2023-05-24T21:29:06.946679Z",
     "start_time": "2023-05-24T21:26:58.498493Z"
    }
   },
   "source": [
    "Загружаю файл с разметкой фильмов по уровню сложности"
   ]
  },
  {
   "cell_type": "code",
   "execution_count": 4,
   "id": "b9613640",
   "metadata": {
    "ExecuteTime": {
     "end_time": "2023-06-07T09:45:36.418937Z",
     "start_time": "2023-06-07T09:45:35.925176Z"
    }
   },
   "outputs": [],
   "source": [
    "movies = pd.read_excel('English_scores/movies_labels.xlsx', index_col=0)"
   ]
  },
  {
   "cell_type": "code",
   "execution_count": 5,
   "id": "9f9deb1e",
   "metadata": {
    "ExecuteTime": {
     "end_time": "2023-06-07T09:45:37.985060Z",
     "start_time": "2023-06-07T09:45:37.974060Z"
    }
   },
   "outputs": [
    {
     "data": {
      "text/plain": [
       "(241, 2)"
      ]
     },
     "execution_count": 5,
     "metadata": {},
     "output_type": "execute_result"
    }
   ],
   "source": [
    "movies.shape"
   ]
  },
  {
   "cell_type": "code",
   "execution_count": 6,
   "id": "b7eb47dd",
   "metadata": {
    "ExecuteTime": {
     "end_time": "2023-06-07T09:45:40.517406Z",
     "start_time": "2023-06-07T09:45:40.494435Z"
    }
   },
   "outputs": [
    {
     "data": {
      "text/html": [
       "<div>\n",
       "<style scoped>\n",
       "    .dataframe tbody tr th:only-of-type {\n",
       "        vertical-align: middle;\n",
       "    }\n",
       "\n",
       "    .dataframe tbody tr th {\n",
       "        vertical-align: top;\n",
       "    }\n",
       "\n",
       "    .dataframe thead th {\n",
       "        text-align: right;\n",
       "    }\n",
       "</style>\n",
       "<table border=\"1\" class=\"dataframe\">\n",
       "  <thead>\n",
       "    <tr style=\"text-align: right;\">\n",
       "      <th></th>\n",
       "      <th>Movie</th>\n",
       "      <th>Level</th>\n",
       "    </tr>\n",
       "    <tr>\n",
       "      <th>id</th>\n",
       "      <th></th>\n",
       "      <th></th>\n",
       "    </tr>\n",
       "  </thead>\n",
       "  <tbody>\n",
       "    <tr>\n",
       "      <th>0</th>\n",
       "      <td>10_Cloverfield_lane(2016)</td>\n",
       "      <td>B1</td>\n",
       "    </tr>\n",
       "    <tr>\n",
       "      <th>1</th>\n",
       "      <td>10_things_I_hate_about_you(1999)</td>\n",
       "      <td>B1</td>\n",
       "    </tr>\n",
       "    <tr>\n",
       "      <th>2</th>\n",
       "      <td>A_knights_tale(2001)</td>\n",
       "      <td>B2</td>\n",
       "    </tr>\n",
       "    <tr>\n",
       "      <th>3</th>\n",
       "      <td>A_star_is_born(2018)</td>\n",
       "      <td>B2</td>\n",
       "    </tr>\n",
       "    <tr>\n",
       "      <th>4</th>\n",
       "      <td>Aladdin(1992)</td>\n",
       "      <td>A2/A2+</td>\n",
       "    </tr>\n",
       "  </tbody>\n",
       "</table>\n",
       "</div>"
      ],
      "text/plain": [
       "                               Movie   Level\n",
       "id                                          \n",
       "0          10_Cloverfield_lane(2016)      B1\n",
       "1   10_things_I_hate_about_you(1999)      B1\n",
       "2               A_knights_tale(2001)      B2\n",
       "3               A_star_is_born(2018)      B2\n",
       "4                      Aladdin(1992)  A2/A2+"
      ]
     },
     "execution_count": 6,
     "metadata": {},
     "output_type": "execute_result"
    }
   ],
   "source": [
    "movies.head()"
   ]
  },
  {
   "cell_type": "markdown",
   "id": "6cb77c8a",
   "metadata": {},
   "source": [
    "Датафрейм содержит два столбца - название фильма и уровень английского, рекомендуемый для просмотра. Переименовываю столбцы для удобства"
   ]
  },
  {
   "cell_type": "code",
   "execution_count": 8,
   "id": "c1b95a9e",
   "metadata": {
    "ExecuteTime": {
     "end_time": "2023-06-07T09:48:03.892828Z",
     "start_time": "2023-06-07T09:48:03.884652Z"
    }
   },
   "outputs": [],
   "source": [
    "movies.columns = ['movie', 'level']"
   ]
  },
  {
   "cell_type": "code",
   "execution_count": 9,
   "id": "693f2e5d",
   "metadata": {
    "ExecuteTime": {
     "end_time": "2023-06-07T09:48:05.837783Z",
     "start_time": "2023-06-07T09:48:05.812850Z"
    }
   },
   "outputs": [
    {
     "data": {
      "text/html": [
       "<div>\n",
       "<style scoped>\n",
       "    .dataframe tbody tr th:only-of-type {\n",
       "        vertical-align: middle;\n",
       "    }\n",
       "\n",
       "    .dataframe tbody tr th {\n",
       "        vertical-align: top;\n",
       "    }\n",
       "\n",
       "    .dataframe thead th {\n",
       "        text-align: right;\n",
       "    }\n",
       "</style>\n",
       "<table border=\"1\" class=\"dataframe\">\n",
       "  <thead>\n",
       "    <tr style=\"text-align: right;\">\n",
       "      <th></th>\n",
       "      <th>movie</th>\n",
       "      <th>level</th>\n",
       "    </tr>\n",
       "    <tr>\n",
       "      <th>id</th>\n",
       "      <th></th>\n",
       "      <th></th>\n",
       "    </tr>\n",
       "  </thead>\n",
       "  <tbody>\n",
       "    <tr>\n",
       "      <th>0</th>\n",
       "      <td>10_Cloverfield_lane(2016)</td>\n",
       "      <td>B1</td>\n",
       "    </tr>\n",
       "    <tr>\n",
       "      <th>1</th>\n",
       "      <td>10_things_I_hate_about_you(1999)</td>\n",
       "      <td>B1</td>\n",
       "    </tr>\n",
       "    <tr>\n",
       "      <th>2</th>\n",
       "      <td>A_knights_tale(2001)</td>\n",
       "      <td>B2</td>\n",
       "    </tr>\n",
       "    <tr>\n",
       "      <th>3</th>\n",
       "      <td>A_star_is_born(2018)</td>\n",
       "      <td>B2</td>\n",
       "    </tr>\n",
       "    <tr>\n",
       "      <th>4</th>\n",
       "      <td>Aladdin(1992)</td>\n",
       "      <td>A2/A2+</td>\n",
       "    </tr>\n",
       "  </tbody>\n",
       "</table>\n",
       "</div>"
      ],
      "text/plain": [
       "                               movie   level\n",
       "id                                          \n",
       "0          10_Cloverfield_lane(2016)      B1\n",
       "1   10_things_I_hate_about_you(1999)      B1\n",
       "2               A_knights_tale(2001)      B2\n",
       "3               A_star_is_born(2018)      B2\n",
       "4                      Aladdin(1992)  A2/A2+"
      ]
     },
     "execution_count": 9,
     "metadata": {},
     "output_type": "execute_result"
    }
   ],
   "source": [
    "movies.head()"
   ]
  },
  {
   "cell_type": "code",
   "execution_count": 10,
   "id": "25f48b7d",
   "metadata": {
    "ExecuteTime": {
     "end_time": "2023-06-07T09:53:09.954200Z",
     "start_time": "2023-06-07T09:53:09.930954Z"
    }
   },
   "outputs": [
    {
     "name": "stdout",
     "output_type": "stream",
     "text": [
      "<class 'pandas.core.frame.DataFrame'>\n",
      "Int64Index: 241 entries, 0 to 240\n",
      "Data columns (total 2 columns):\n",
      " #   Column  Non-Null Count  Dtype \n",
      "---  ------  --------------  ----- \n",
      " 0   movie   241 non-null    object\n",
      " 1   level   241 non-null    object\n",
      "dtypes: object(2)\n",
      "memory usage: 5.6+ KB\n"
     ]
    }
   ],
   "source": [
    "movies.info()"
   ]
  },
  {
   "cell_type": "markdown",
   "id": "e325f1f1",
   "metadata": {},
   "source": [
    "241 запись, пропусков в данных нет."
   ]
  },
  {
   "cell_type": "markdown",
   "id": "ef7ec322",
   "metadata": {},
   "source": [
    "### Анализ и обработка данных"
   ]
  },
  {
   "cell_type": "markdown",
   "id": "3719f3ac",
   "metadata": {},
   "source": [
    "Проверяю данные на дубликаты"
   ]
  },
  {
   "cell_type": "code",
   "execution_count": 13,
   "id": "8f3bebab",
   "metadata": {
    "ExecuteTime": {
     "end_time": "2023-06-07T10:50:59.455267Z",
     "start_time": "2023-06-07T10:50:59.442241Z"
    }
   },
   "outputs": [
    {
     "data": {
      "text/plain": [
       "2"
      ]
     },
     "execution_count": 13,
     "metadata": {},
     "output_type": "execute_result"
    }
   ],
   "source": [
    "movies.duplicated().sum()"
   ]
  },
  {
   "cell_type": "code",
   "execution_count": 12,
   "id": "55ca64ce",
   "metadata": {
    "ExecuteTime": {
     "end_time": "2023-06-07T10:50:39.853684Z",
     "start_time": "2023-06-07T10:50:39.825758Z"
    }
   },
   "outputs": [
    {
     "data": {
      "text/html": [
       "<div>\n",
       "<style scoped>\n",
       "    .dataframe tbody tr th:only-of-type {\n",
       "        vertical-align: middle;\n",
       "    }\n",
       "\n",
       "    .dataframe tbody tr th {\n",
       "        vertical-align: top;\n",
       "    }\n",
       "\n",
       "    .dataframe thead th {\n",
       "        text-align: right;\n",
       "    }\n",
       "</style>\n",
       "<table border=\"1\" class=\"dataframe\">\n",
       "  <thead>\n",
       "    <tr style=\"text-align: right;\">\n",
       "      <th></th>\n",
       "      <th>movie</th>\n",
       "      <th>level</th>\n",
       "    </tr>\n",
       "    <tr>\n",
       "      <th>id</th>\n",
       "      <th></th>\n",
       "      <th></th>\n",
       "    </tr>\n",
       "  </thead>\n",
       "  <tbody>\n",
       "    <tr>\n",
       "      <th>44</th>\n",
       "      <td>Inside_out(2015)</td>\n",
       "      <td>B1</td>\n",
       "    </tr>\n",
       "    <tr>\n",
       "      <th>68</th>\n",
       "      <td>Powder(1995)</td>\n",
       "      <td>B1</td>\n",
       "    </tr>\n",
       "    <tr>\n",
       "      <th>84</th>\n",
       "      <td>The_blind_side(2009)</td>\n",
       "      <td>B1</td>\n",
       "    </tr>\n",
       "    <tr>\n",
       "      <th>99</th>\n",
       "      <td>The_terminal(2004)</td>\n",
       "      <td>A2/A2+, B1</td>\n",
       "    </tr>\n",
       "    <tr>\n",
       "      <th>236</th>\n",
       "      <td>Matilda(1996)</td>\n",
       "      <td>C1</td>\n",
       "    </tr>\n",
       "  </tbody>\n",
       "</table>\n",
       "</div>"
      ],
      "text/plain": [
       "                    movie       level\n",
       "id                                   \n",
       "44       Inside_out(2015)          B1\n",
       "68           Powder(1995)          B1\n",
       "84   The_blind_side(2009)          B1\n",
       "99     The_terminal(2004)  A2/A2+, B1\n",
       "236         Matilda(1996)          C1"
      ]
     },
     "execution_count": 12,
     "metadata": {},
     "output_type": "execute_result"
    }
   ],
   "source": [
    "movies[movies['movie'].duplicated()]"
   ]
  },
  {
   "cell_type": "markdown",
   "id": "672c1608",
   "metadata": {},
   "source": [
    "В данных 2 полных дубликата и помимо них ещё 3, в которых дублируются названия фильмов, а уровень им присвоен разный. Полные дубликаты удаляю сразу, дубликаты по имени вывожу на просмотр"
   ]
  },
  {
   "cell_type": "code",
   "execution_count": 14,
   "id": "054e4830",
   "metadata": {
    "ExecuteTime": {
     "end_time": "2023-06-07T10:53:11.829503Z",
     "start_time": "2023-06-07T10:53:11.810520Z"
    }
   },
   "outputs": [],
   "source": [
    "movies = movies.drop_duplicates().reset_index(drop=True)"
   ]
  },
  {
   "cell_type": "code",
   "execution_count": 15,
   "id": "edcd8426",
   "metadata": {
    "ExecuteTime": {
     "end_time": "2023-06-07T10:53:21.532505Z",
     "start_time": "2023-06-07T10:53:21.513556Z"
    }
   },
   "outputs": [
    {
     "data": {
      "text/html": [
       "<div>\n",
       "<style scoped>\n",
       "    .dataframe tbody tr th:only-of-type {\n",
       "        vertical-align: middle;\n",
       "    }\n",
       "\n",
       "    .dataframe tbody tr th {\n",
       "        vertical-align: top;\n",
       "    }\n",
       "\n",
       "    .dataframe thead th {\n",
       "        text-align: right;\n",
       "    }\n",
       "</style>\n",
       "<table border=\"1\" class=\"dataframe\">\n",
       "  <thead>\n",
       "    <tr style=\"text-align: right;\">\n",
       "      <th></th>\n",
       "      <th>movie</th>\n",
       "      <th>level</th>\n",
       "    </tr>\n",
       "  </thead>\n",
       "  <tbody>\n",
       "    <tr>\n",
       "      <th>82</th>\n",
       "      <td>The_blind_side(2009)</td>\n",
       "      <td>B1</td>\n",
       "    </tr>\n",
       "    <tr>\n",
       "      <th>97</th>\n",
       "      <td>The_terminal(2004)</td>\n",
       "      <td>A2/A2+, B1</td>\n",
       "    </tr>\n",
       "    <tr>\n",
       "      <th>234</th>\n",
       "      <td>Matilda(1996)</td>\n",
       "      <td>C1</td>\n",
       "    </tr>\n",
       "  </tbody>\n",
       "</table>\n",
       "</div>"
      ],
      "text/plain": [
       "                    movie       level\n",
       "82   The_blind_side(2009)          B1\n",
       "97     The_terminal(2004)  A2/A2+, B1\n",
       "234         Matilda(1996)          C1"
      ]
     },
     "execution_count": 15,
     "metadata": {},
     "output_type": "execute_result"
    }
   ],
   "source": [
    "movies[movies['movie'].duplicated()]"
   ]
  },
  {
   "cell_type": "code",
   "execution_count": 16,
   "id": "5f19bfca",
   "metadata": {
    "ExecuteTime": {
     "end_time": "2023-06-07T10:53:48.856494Z",
     "start_time": "2023-06-07T10:53:48.827571Z"
    }
   },
   "outputs": [
    {
     "data": {
      "text/html": [
       "<div>\n",
       "<style scoped>\n",
       "    .dataframe tbody tr th:only-of-type {\n",
       "        vertical-align: middle;\n",
       "    }\n",
       "\n",
       "    .dataframe tbody tr th {\n",
       "        vertical-align: top;\n",
       "    }\n",
       "\n",
       "    .dataframe thead th {\n",
       "        text-align: right;\n",
       "    }\n",
       "</style>\n",
       "<table border=\"1\" class=\"dataframe\">\n",
       "  <thead>\n",
       "    <tr style=\"text-align: right;\">\n",
       "      <th></th>\n",
       "      <th>movie</th>\n",
       "      <th>level</th>\n",
       "    </tr>\n",
       "  </thead>\n",
       "  <tbody>\n",
       "    <tr>\n",
       "      <th>73</th>\n",
       "      <td>The_blind_side(2009)</td>\n",
       "      <td>B2</td>\n",
       "    </tr>\n",
       "    <tr>\n",
       "      <th>82</th>\n",
       "      <td>The_blind_side(2009)</td>\n",
       "      <td>B1</td>\n",
       "    </tr>\n",
       "  </tbody>\n",
       "</table>\n",
       "</div>"
      ],
      "text/plain": [
       "                   movie level\n",
       "73  The_blind_side(2009)    B2\n",
       "82  The_blind_side(2009)    B1"
      ]
     },
     "execution_count": 16,
     "metadata": {},
     "output_type": "execute_result"
    }
   ],
   "source": [
    "movies[movies['movie'] == 'The_blind_side(2009)']"
   ]
  },
  {
   "cell_type": "code",
   "execution_count": 17,
   "id": "b3ebe272",
   "metadata": {
    "ExecuteTime": {
     "end_time": "2023-06-07T10:54:08.091753Z",
     "start_time": "2023-06-07T10:54:08.068328Z"
    }
   },
   "outputs": [
    {
     "data": {
      "text/html": [
       "<div>\n",
       "<style scoped>\n",
       "    .dataframe tbody tr th:only-of-type {\n",
       "        vertical-align: middle;\n",
       "    }\n",
       "\n",
       "    .dataframe tbody tr th {\n",
       "        vertical-align: top;\n",
       "    }\n",
       "\n",
       "    .dataframe thead th {\n",
       "        text-align: right;\n",
       "    }\n",
       "</style>\n",
       "<table border=\"1\" class=\"dataframe\">\n",
       "  <thead>\n",
       "    <tr style=\"text-align: right;\">\n",
       "      <th></th>\n",
       "      <th>movie</th>\n",
       "      <th>level</th>\n",
       "    </tr>\n",
       "  </thead>\n",
       "  <tbody>\n",
       "    <tr>\n",
       "      <th>81</th>\n",
       "      <td>The_terminal(2004)</td>\n",
       "      <td>B1</td>\n",
       "    </tr>\n",
       "    <tr>\n",
       "      <th>97</th>\n",
       "      <td>The_terminal(2004)</td>\n",
       "      <td>A2/A2+, B1</td>\n",
       "    </tr>\n",
       "  </tbody>\n",
       "</table>\n",
       "</div>"
      ],
      "text/plain": [
       "                 movie       level\n",
       "81  The_terminal(2004)          B1\n",
       "97  The_terminal(2004)  A2/A2+, B1"
      ]
     },
     "execution_count": 17,
     "metadata": {},
     "output_type": "execute_result"
    }
   ],
   "source": [
    "movies[movies['movie'] == 'The_terminal(2004)']"
   ]
  },
  {
   "cell_type": "code",
   "execution_count": 18,
   "id": "c11d0372",
   "metadata": {
    "ExecuteTime": {
     "end_time": "2023-06-07T10:54:26.897877Z",
     "start_time": "2023-06-07T10:54:26.882923Z"
    }
   },
   "outputs": [
    {
     "data": {
      "text/html": [
       "<div>\n",
       "<style scoped>\n",
       "    .dataframe tbody tr th:only-of-type {\n",
       "        vertical-align: middle;\n",
       "    }\n",
       "\n",
       "    .dataframe tbody tr th {\n",
       "        vertical-align: top;\n",
       "    }\n",
       "\n",
       "    .dataframe thead th {\n",
       "        text-align: right;\n",
       "    }\n",
       "</style>\n",
       "<table border=\"1\" class=\"dataframe\">\n",
       "  <thead>\n",
       "    <tr style=\"text-align: right;\">\n",
       "      <th></th>\n",
       "      <th>movie</th>\n",
       "      <th>level</th>\n",
       "    </tr>\n",
       "  </thead>\n",
       "  <tbody>\n",
       "    <tr>\n",
       "      <th>55</th>\n",
       "      <td>Matilda(1996)</td>\n",
       "      <td>B1</td>\n",
       "    </tr>\n",
       "    <tr>\n",
       "      <th>234</th>\n",
       "      <td>Matilda(1996)</td>\n",
       "      <td>C1</td>\n",
       "    </tr>\n",
       "  </tbody>\n",
       "</table>\n",
       "</div>"
      ],
      "text/plain": [
       "             movie level\n",
       "55   Matilda(1996)    B1\n",
       "234  Matilda(1996)    C1"
      ]
     },
     "execution_count": 18,
     "metadata": {},
     "output_type": "execute_result"
    }
   ],
   "source": [
    "movies[movies['movie'] == 'Matilda(1996)']"
   ]
  },
  {
   "cell_type": "markdown",
   "id": "e012d88b",
   "metadata": {},
   "source": [
    "Оставляю более сложный уровень"
   ]
  },
  {
   "cell_type": "code",
   "execution_count": 19,
   "id": "3143cd90",
   "metadata": {
    "ExecuteTime": {
     "end_time": "2023-06-07T11:56:30.588741Z",
     "start_time": "2023-06-07T11:56:30.570790Z"
    }
   },
   "outputs": [],
   "source": [
    "movies = movies.drop(movies[(movies['movie'] == 'The_blind_side(2009)') & (movies['level'] == 'B1')].index)\n",
    "movies = movies.drop(movies[(movies['movie'] == 'The_terminal(2004)') & (movies['level'] == 'A2/A2+, B1')].index)\n",
    "movies = movies.drop(movies[(movies['movie'] == 'Matilda(1996)') & (movies['level'] == 'B1')].index)\n",
    "movies = movies.reset_index(drop=True)"
   ]
  },
  {
   "cell_type": "code",
   "execution_count": 21,
   "id": "8da58f51",
   "metadata": {
    "ExecuteTime": {
     "end_time": "2023-06-07T11:57:25.812759Z",
     "start_time": "2023-06-07T11:57:25.801788Z"
    }
   },
   "outputs": [
    {
     "data": {
      "text/plain": [
       "0"
      ]
     },
     "execution_count": 21,
     "metadata": {},
     "output_type": "execute_result"
    }
   ],
   "source": [
    "movies[movies['movie'].duplicated()]['movie'].count()"
   ]
  },
  {
   "cell_type": "markdown",
   "id": "038c1b29",
   "metadata": {},
   "source": [
    "Посмотрим на баланс классов"
   ]
  },
  {
   "cell_type": "code",
   "execution_count": 22,
   "id": "a736133c",
   "metadata": {
    "ExecuteTime": {
     "end_time": "2023-06-07T11:58:15.915081Z",
     "start_time": "2023-06-07T11:58:15.905490Z"
    }
   },
   "outputs": [
    {
     "data": {
      "text/plain": [
       "B2            101\n",
       "B1             51\n",
       "C1             40\n",
       "A2/A2+         26\n",
       "B1, B2          8\n",
       "A2              6\n",
       "A2/A2+, B1      4\n",
       "Name: level, dtype: int64"
      ]
     },
     "execution_count": 22,
     "metadata": {},
     "output_type": "execute_result"
    }
   ],
   "source": [
    "movies['level'].value_counts()"
   ]
  },
  {
   "cell_type": "markdown",
   "id": "3ff734e8",
   "metadata": {},
   "source": [
    "Представлены категории A2, B1, B2 и C1. Есть смешанные категории. Т.к. данных небольшое количество, лучше сократить количество категорий. Решаю A2/A2+ принять за A2, A2/A2+, B1 - за B1, B1, B2 - за B2 - по принципу присвоения более сложной, наличие возможной A2+ не буду считать за отдельную категорию."
   ]
  },
  {
   "cell_type": "code",
   "execution_count": 23,
   "id": "0936978f",
   "metadata": {
    "ExecuteTime": {
     "end_time": "2023-06-07T12:02:09.374616Z",
     "start_time": "2023-06-07T12:02:09.344731Z"
    }
   },
   "outputs": [],
   "source": [
    "movies['level'] = movies['level'].where(movies['level'] != 'A2/A2+', 'A2')\n",
    "movies['level'] = movies['level'].where(movies['level'] != 'A2/A2+, B1', 'B1')\n",
    "movies['level'] = movies['level'].where(movies['level'] != 'B1, B2', 'B2')"
   ]
  },
  {
   "cell_type": "code",
   "execution_count": 24,
   "id": "5e5da0ae",
   "metadata": {
    "ExecuteTime": {
     "end_time": "2023-06-07T12:02:17.804940Z",
     "start_time": "2023-06-07T12:02:17.784649Z"
    }
   },
   "outputs": [
    {
     "data": {
      "text/plain": [
       "B2    109\n",
       "B1     55\n",
       "C1     40\n",
       "A2     32\n",
       "Name: level, dtype: int64"
      ]
     },
     "execution_count": 24,
     "metadata": {},
     "output_type": "execute_result"
    }
   ],
   "source": [
    "movies['level'].value_counts()"
   ]
  },
  {
   "cell_type": "code",
   "execution_count": 25,
   "id": "9dceda8b",
   "metadata": {
    "ExecuteTime": {
     "end_time": "2023-06-07T12:02:43.412309Z",
     "start_time": "2023-06-07T12:02:43.184241Z"
    }
   },
   "outputs": [
    {
     "data": {
      "image/png": "[encoded data removed]",
      "text/plain": [
       "<Figure size 360x360 with 1 Axes>"
      ]
     },
     "metadata": {
      "needs_background": "light"
     },
     "output_type": "display_data"
    }
   ],
   "source": [
    "sns.catplot(data=movies, x='level', kind='count').set(title='Фильмы по уровням английского'+ '\\n')\n",
    "plt.show()"
   ]
  },
  {
   "cell_type": "markdown",
   "id": "c3995e16",
   "metadata": {},
   "source": [
    "Наблюдается дисбаланс классов. Больше всего данных по фильмам с уровнем `B2`, меньше всего - с `A1`"
   ]
  },
  {
   "cell_type": "markdown",
   "id": "b239800c",
   "metadata": {},
   "source": [
    "### Очистка и обработка текста"
   ]
  },
  {
   "cell_type": "code",
   "execution_count": 26,
   "id": "c820423e",
   "metadata": {
    "ExecuteTime": {
     "end_time": "2023-06-07T12:26:29.310667Z",
     "start_time": "2023-06-07T12:26:29.266770Z"
    }
   },
   "outputs": [
    {
     "data": {
      "text/plain": [
       "'1\\n00:00:55,279 --> 00:01:07,279\\n<font color=\"#ffff80\"><b>Fixed & Synced by bozxphd. Enjoy The Flick</b></font>\\n\\n2\\n00:01:11,280 --> 00:01:12,838\\n(CLANGING)\\n\\n3\\n00:01:16,480 --> 00:01:17,833\\n(DRAWER CLOSES)\\n\\n4\\n00:01:55,800 --> 00:01:57,597\\n(INAUDIBLE)\\n\\n5\\n00:04:07,800 --> 00:04:09,313\\n(CELL PHONE RINGING)\\n\\n6\\n00:04:20,200 --> 00:04:22,919\\nBEN ON PHONE: <i>Michelle,<br/>please don\\'t hang up.</i>\\n\\n7\\n00:04:23,680 --> 00:04:27,673\\n<i>Just talk to me, okay?<br/>I can\\'t believe you just left.</i>\\n\\n8\\n00:04:28,840 --> 00:04:30,068\\n<i>Michelle.</i>\\n\\n9\\n00:04:30,920 --> 00:04:32,273\\n<i>Come back.</i>\\n\\n10\\n00:04:34,200 --> 00:04:35,872\\n<i>Please say something.</i>\\n\\n11\\n00:04:37,360 --> 00:04:39,555\\n<i>Michelle, talk to me.</i>\\n\\n12\\n00:04:40,800 --> 00:04:42,950\\n<i>Look, we had an argument.<br/>Couples fight.</i>\\n\\n13\\n00:04:43,040 --> 00:04:45,713\\n<i>That is no reason<br/>to just leave everything behind.</i>\\n\\n14\\n00:04:48,040 --> 00:04:50,349\\n<i>Running away isn\\'t gonna help it any.<br/>Michelle, please...</i>\\n\\n15\\n00:04:51,040 --> 00:04:52,519\\n(DIALTONE)\\n\\n16\\n00:04:58,200 --> 00:04:59,394\\nNEWSCASTER: More details on that.\\n\\n17\\n00:04:59,480 --> 00:05:01,675\\n<i>Elsewhere today,<br/>power has still not been restored</i>\\n\\n18\\n00:05:01,760 --> 00:05:03,637\\n<i>to many cities on the southern seaboard</i>\\n\\n19\\n00:05:03,720 --> 00:05:06,280\\n<i>in the wake of<br/>this afternoon\\'s widespread blackout.</i>\\n\\n20\\n00:05:06,360 --> 00:05:08,715\\n<i>While there had been<br/>some inclement weather in the region,</i>\\n\\n21\\n00:05:08,800 --> 00:05:10,472\\n<i>the problem seems linked to<br/>what authorities are calling</i>\\n\\n22\\n00:05:10,560 --> 00:05:13,552\\n<i>a catastrophic power surge<br/>that has crippled traffic in the area.</i>\\n\\n23\\n00:05:14,880 --> 00:05:16,233\\n- (LOUD CRASH)<br/>- (GRUNTS)\\n\\n24\\n00:05:17,240 --> 00:05:19,435\\n- (TIRES SCREECHING)<br/>- (SCREAMS)\\n\\n25\\n00:05:24,120 --> 00:05:25,951\\n- (GLASS SHATTERING)<br/>- (GASPING)\\n\\n26\\n00:05:28,240 --> 00:05:29,355\\n(GROANS)\\n\\n27\\n00:05:33,840 --> 00:05:35,512\\n(HORN HONKING)\\n\\n28\\n00:06:08,760 --> 00:06:09,954\\n(INHALES DEEPLY)\\n\\n29\\n00:06:13,440 --> 00:06:14,634\\n(SNIFFS)\\n\\n30\\n00:06:21,360 --> 00:06:22,679\\n(SIGHS)\\n\\n31\\n00:06:53,600 --> 00:06:55,113\\n(GASPING)\\n\\n32\\n00:06:55,640 --> 00:06:57,710\\n(CHAINS RATTLING)\\n\\n33\\n00:06:58,520 --> 00:07:00,511\\n(BREATHING HEAVILY)\\n\\n34\\n00:07:01,040 --> 00:07:02,553\\n(GRUNTING)\\n\\n35\\n00:07:30,720 --> 00:07:32,119\\n(GROANING)\\n\\n36\\n00:07:34,960 --> 00:07:36,439\\n(GROANING)\\n\\n37\\n00:07:37,360 --> 00:07:39,669\\n(GRUNTING)\\n\\n38\\n00:07:53,400 --> 00:07:54,469\\n(SOBS) No.\\n\\n39\\n00:07:55,000 --> 00:07:56,877\\n(CHAIN JANGLING)\\n\\n40\\n00:07:57,760 --> 00:07:59,079\\nNo! (SOBBING)\\n\\n41\\n00:08:08,160 --> 00:08:09,957\\n(BREATHING HEAVILY)\\n\\n42\\n00:08:48,040 --> 00:08:49,189\\nDamn.\\n\\n43\\n00:08:55,720 --> 00:08:56,914\\n(CLATTERS)\\n\\n44\\n00:09:06,560 --> 00:09:07,913\\n(GRUNTS)\\n\\n45\\n00:09:38,360 --> 00:09:40,078\\n(RUMBLING)\\n\\n46\\n00:09:40,680 --> 00:09:42,591\\n(FOOTSTEPS APPROACHING)\\n\\n47\\n00:09:45,920 --> 00:09:48,275\\n(PANTING)\\n\\n48\\n00:09:57,800 --> 00:09:58,915\\n(GASPS)\\n\\n49\\n00:09:59,920 --> 00:10:01,672\\n(DOOR CREAKING)\\n\\n50\\n00:10:13,640 --> 00:10:15,551\\nOkay. Okay, please.\\n\\n51\\n00:10:16,120 --> 00:10:17,314\\nPlease.\\n\\n52\\n00:10:18,360 --> 00:10:20,112\\nPlease don\\'t hurt me.\\n\\n53\\n00:10:21,160 --> 00:10:22,354\\n(BREATHING HEAVILY) Please.\\n\\n54\\n00:10:27,720 --> 00:10:29,870\\nJust let me go, okay?<br/>I won\\'t tell anybody.\\n\\n55\\n00:10:30,240 --> 00:10:33,357\\nI promise, okay?<br/>Please just let me go. Please.\\n\\n56\\n00:10:34,600 --> 00:10:37,910\\nMAN: You need fluids.<br/>You were in shock.\\n\\n57\\n00:10:41,480 --> 00:10:43,630\\nWhat are you going to do to me?\\n\\n58\\n00:10:45,880 --> 00:10:48,030\\nI\\'m going to keep you alive.\\n\\n59\\n00:10:56,960 --> 00:10:59,030\\nWork on getting handy with these.\\n\\n60\\n00:11:04,480 --> 00:11:06,755\\nMy boyfriend was expecting me.\\n\\n61\\n00:11:07,640 --> 00:11:09,551\\nHe\\'ll send the cops looking.\\n\\n62\\n00:11:09,640 --> 00:11:10,959\\nI\\'m sorry.\\n\\n63\\n00:11:12,000 --> 00:11:14,150\\nBut no one is looking for you.\\n\\n64\\n00:11:23,880 --> 00:11:25,518\\n(CLANGS)\\n\\n65\\n00:11:43,440 --> 00:11:44,440\\n(GRUNTS)\\n\\n66\\n00:11:52,840 --> 00:11:54,273\\n(GROANS SOFTLY)\\n\\n67\\n00:11:59,680 --> 00:12:00,795\\n(GRUNTS)\\n\\n68\\n00:12:17,640 --> 00:12:18,993\\n(EXHALES)\\n\\n69\\n00:12:36,840 --> 00:12:38,353\\n(SCRAPING)\\n\\n70\\n00:13:05,920 --> 00:13:07,638\\n(BREATHING HEAVILY)\\n\\n71\\n00:13:23,480 --> 00:13:24,879\\n(SIGHS)\\n\\n72\\n00:14:14,800 --> 00:14:16,552\\n(COUGHING)\\n\\n73\\n00:14:20,760 --> 00:14:22,432\\n(FIRE ALARM BEEPING)\\n\\n74\\n00:14:27,400 --> 00:14:29,277\\n(RAPID FOOTSTEPS APPROACHING)\\n\\n75\\n00:14:30,440 --> 00:14:31,668\\n(DOOR OPENS)\\n\\n76\\n00:14:34,440 --> 00:14:35,793\\n- (GASPS)<br/>- (GRUNTS)\\n\\n77\\n00:14:36,640 --> 00:14:38,073\\n(SCREAMING)\\n\\n78\\n00:14:50,320 --> 00:14:51,355\\n(MAN CLEARS THROAT)\\n\\n79\\n00:14:51,720 --> 00:14:52,869\\n(GASPS)\\n\\n80\\n00:14:56,720 --> 00:14:58,836\\nYou\\'ve got some fight in you.\\n\\n81\\n00:15:01,280 --> 00:15:02,759\\nI can respect that.\\n\\n82\\n00:15:04,400 --> 00:15:07,392\\nBut don\\'t even think<br/>about trying that again.\\n\\n83\\n00:15:09,840 --> 00:15:12,229\\nYou\\'re lucky to be here at all.\\n\\n84\\n00:15:12,320 --> 00:15:15,995\\nAnd my generosity only extends so far.\\n\\n85\\n00:15:17,920 --> 00:15:19,148\\nEggs.\\n\\n86\\n00:15:20,880 --> 00:15:22,598\\nToradol to help with your pain.\\n\\n87\\n00:15:23,920 --> 00:15:25,239\\nPlease.\\n\\n88\\n00:15:25,840 --> 00:15:27,990\\nPlease, just let me go. Please.\\n\\n89\\n00:15:28,080 --> 00:15:30,196\\nThere is nowhere to go, Michelle.\\n\\n90\\n00:15:33,880 --> 00:15:36,553\\nI looked through your wallet.\\n\\n91\\n00:15:36,640 --> 00:15:39,996\\nGiven as how I saved your life,<br/>I think that\\'s acceptable.\\n\\n92\\n00:15:40,080 --> 00:15:42,036\\nYou\\'re lucky to be here at all.\\n\\n93\\n00:15:43,960 --> 00:15:45,439\\nWhat do you mean?\\n\\n94\\n00:15:45,520 --> 00:15:49,354\\nI found you, and I saved your life<br/>by bringing you here.\\n\\n95\\n00:15:50,800 --> 00:15:52,711\\nI don\\'t understand. I...\\n\\n96\\n00:16:02,280 --> 00:16:03,679\\n(SIGHING)\\n\\n97\\n00:16:04,880 --> 00:16:06,791\\nThere\\'s been an attack.\\n\\n98\\n00:16:09,680 --> 00:16:10,680\\nWhat?\\n\\n99\\n00:16:11,320 --> 00:16:13,470\\nAn attack. A big one.\\n\\n100\\n00:16:14,040 --> 00:16:16,952\\nI\\'m not sure yet<br/>if it\\'s chemical or nuclear,\\n\\n101\\n00:16:17,680 --> 00:16:19,159\\nbut down here, we\\'re safe.\\n\\n102\\n00:16:21,080 --> 00:16:24,550\\n- And where are we exactly?<br/>- Underneath my farmhouse.\\n\\n103\\n00:16:25,240 --> 00:16:27,913\\nForty miles outside of Lake Charles.\\n\\n104\\n00:16:29,240 --> 00:16:31,708\\nI was driving north of here.\\n\\n105\\n00:16:31,800 --> 00:16:33,791\\nYou were in an accident.\\n\\n106\\n00:16:35,680 --> 00:16:37,955\\nYou were turned over<br/>on the side of the road.\\n\\n107\\n00:16:38,040 --> 00:16:40,873\\nI was driving by and I saw...\\n\\n108\\n00:16:42,240 --> 00:16:44,037\\nI saved your life, Michelle.\\n\\n109\\n00:16:45,480 --> 00:16:47,755\\nI couldn\\'t just leave you there.\\n\\n110\\n00:16:50,280 --> 00:16:51,429\\n(SOFTLY) Okay.\\n\\n111\\n00:16:52,240 --> 00:16:53,434\\nWell,\\n\\n112\\n00:16:53,920 --> 00:16:56,593\\nthank you so much\\n\\n113\\n00:16:56,680 --> 00:16:58,830\\nfor saving my life.\\n\\n114\\n00:16:59,760 --> 00:17:02,149\\nI guess I should go to a hospital now.\\n\\n115\\n00:17:05,440 --> 00:17:06,953\\nYou can\\'t leave.\\n\\n116\\n00:17:09,520 --> 00:17:12,114\\nAn attack means fallout.\\n\\n117\\n00:17:13,200 --> 00:17:15,350\\nWhich contaminates<br/>the air above ground.\\n\\n118\\n00:17:15,440 --> 00:17:16,953\\n(STUTTERS) That\\'s how it works.\\n\\n119\\n00:17:17,040 --> 00:17:19,031\\nHow long do we have to wait<br/>until it\\'s safe?\\n\\n120\\n00:17:19,120 --> 00:17:21,236\\nDepends on the proximity<br/>of the closest blast.\\n\\n121\\n00:17:21,320 --> 00:17:22,435\\nOne year, maybe two.\\n\\n122\\n00:17:22,560 --> 00:17:24,118\\n(HOWARD SIGHS)\\n\\n123\\n00:17:25,320 --> 00:17:28,949\\nAnd that\\'s if we\\'re talking<br/>about weapons that we know of.\\n\\n124\\n00:17:29,040 --> 00:17:30,996\\nRussians are developing<br/>some nasty stuff.\\n\\n125\\n00:17:31,080 --> 00:17:34,470\\nAnd if the Martians<br/>finally figured out a way to get here,\\n\\n126\\n00:17:34,560 --> 00:17:38,997\\ntheir weapons will make<br/>the Russkies\\' look like sticks and stones.\\n\\n127\\n00:17:42,160 --> 00:17:43,479\\nLuckily,\\n\\n128\\n00:17:44,480 --> 00:17:46,436\\nI\\'ve prepared for this.\\n\\n129\\n00:17:53,520 --> 00:17:54,635\\n(SOFTLY) Right.\\n\\n130\\n00:17:56,480 --> 00:17:58,755\\nWell, I\\'ll need to use your phone then\\n\\n131\\n00:17:58,840 --> 00:18:01,832\\nto call my family<br/>and tell them that I\\'m safe here\\n\\n132\\n00:18:01,920 --> 00:18:04,195\\nand make sure they\\'re okay.\\n\\n133\\n00:18:04,280 --> 00:18:06,350\\nMichelle, they\\'re not okay.\\n\\n134\\n00:18:08,040 --> 00:18:09,075\\n(HOWARD SIGHS)\\n\\n135\\n00:18:09,160 --> 00:18:10,593\\nHow do you know that?\\n\\n136\\n00:18:13,720 --> 00:18:16,109\\nEveryone outside of here is dead.\\n\\n137\\n00:18:23,920 --> 00:18:26,673\\nBut what about you?<br/>Don\\'t you have a family?\\n\\n138\\n00:18:27,360 --> 00:18:29,476\\n(OBJECTS CLATTERING)\\n\\n139\\n00:18:31,040 --> 00:18:32,268\\nWho\\'s that?\\n\\n140\\n00:18:33,640 --> 00:18:34,640\\nExcuse me.\\n\\n141\\n00:18:42,360 --> 00:18:44,032\\nHOWARD: (SHOUTS) What did you do?\\n\\n142\\n00:18:44,120 --> 00:18:46,111\\n(LOUD THUDDING)\\n\\n143\\n00:18:46,200 --> 00:18:48,031\\n(INDISTINCT SHOUTING)\\n\\n144\\n00:18:55,080 --> 00:18:56,479\\n(GASPS)\\n\\n145\\n00:18:57,600 --> 00:19:00,319\\nYou know what, Michelle?<br/>I\\'m gonna tell you what I told him.\\n\\n146\\n00:19:01,240 --> 00:19:03,071\\nYou need to eat, you need to sleep,\\n\\n147\\n00:19:03,160 --> 00:19:06,675\\nand you need to start<br/>showing me a little bit of appreciation.\\n\\n148\\n00:19:11,000 --> 00:19:12,399\\nMy name is Howard, by the way.\\n\\n149\\n00:19:12,600 --> 00:19:14,238\\n(DOOR CREAKING)\\n\\n150\\n00:19:15,960 --> 00:19:16,995\\n(DOOR LOCKS)\\n\\n151\\n00:19:19,360 --> 00:19:20,839\\n(VEHICLE ENGINE STARTS)\\n\\n152\\n00:19:29,840 --> 00:19:31,637\\n(VEHICLE DRIVES AWAY)\\n\\n153\\n00:19:41,760 --> 00:19:43,751\\n(MUSIC PLAYING IN DISTANCE)\\n\\n154\\n00:19:57,680 --> 00:19:59,159\\n- (CLATTERS)<br/>- (GASPS)\\n\\n155\\n00:19:59,240 --> 00:20:01,231\\nOh, God! Oh, shit.\\n\\n156\\n00:20:02,160 --> 00:20:03,513\\nI\\'m sorry. (CHUCKLES)\\n\\n157\\n00:20:04,000 --> 00:20:05,479\\n(GROANS SOFTLY)\\n\\n158\\n00:20:07,160 --> 00:20:08,673\\nI\\'m sorry about that.\\n\\n159\\n00:20:08,760 --> 00:20:10,955\\nUh, I didn\\'t mean to scare you.\\n\\n160\\n00:20:11,640 --> 00:20:12,959\\nAre you, um...\\n\\n161\\n00:20:13,440 --> 00:20:14,634\\nHere. You hungry?\\n\\n162\\n00:20:20,360 --> 00:20:22,749\\nSo, how are you doing? You okay?\\n\\n163\\n00:20:24,400 --> 00:20:26,789\\n- What is this?<br/>- It\\'s a bunker.\\n\\n164\\n00:20:27,720 --> 00:20:32,157\\nYour room\\'s a little bit of a fixer-upper,<br/>but at least you got a door.\\n\\n165\\n00:20:32,680 --> 00:20:35,035\\nA scary door, but you still got a door.\\n\\n166\\n00:20:36,480 --> 00:20:38,436\\nHow long have you been down here?\\n\\n167\\n00:20:38,520 --> 00:20:40,078\\nCouple of days, I think.\\n\\n168\\n00:20:40,520 --> 00:20:41,953\\nYou know,<br/>it\\'s actually kind of hard to tell\\n\\n169\\n00:20:42,040 --> 00:20:45,157\\nwith no windows or sunlight<br/>or anything. (CHUCKLES)\\n\\n170\\n00:20:46,160 --> 00:20:48,037\\n(WHISPERS) I mean,<br/>how do we get out of here?\\n\\n171\\n00:20:49,480 --> 00:20:51,072\\nOh, he didn\\'t tell you?\\n\\n172\\n00:20:52,040 --> 00:20:53,189\\nAbout...\\n\\n173\\n00:20:56,760 --> 00:20:59,433\\nGetting out of here<br/>is the last thing you want to do.\\n\\n174\\n00:20:59,920 --> 00:21:01,911\\nBecause the air up there,\\n\\n175\\n00:21:02,360 --> 00:21:03,554\\nit\\'s contaminated.\\n\\n176\\n00:21:05,480 --> 00:21:07,038\\nHOWARD: I see you\\'ve met Emmett.\\n\\n177\\n00:21:10,800 --> 00:21:12,028\\nWhat happened to him?\\n\\n178\\n00:21:12,120 --> 00:21:13,997\\nHe did that to himself.\\n\\n179\\n00:21:14,080 --> 00:21:15,960\\nAnd his stumbling around<br/>isn\\'t helping anything.\\n\\n180\\n00:21:16,480 --> 00:21:18,152\\nWhat you heard earlier,\\n\\n181\\n00:21:18,240 --> 00:21:22,199\\nwas him knocking over a shelf<br/>with a whole week\\'s worth of food,\\n\\n182\\n00:21:22,280 --> 00:21:24,236\\nwhich he\\'s sorry for, correct?\\n\\n183\\n00:21:26,880 --> 00:21:28,029\\nTotally.\\n\\n184\\n00:21:32,680 --> 00:21:34,830\\nLet\\'s go. Bathroom time.\\n\\n185\\n00:21:40,560 --> 00:21:42,596\\n(MUSIC CONTINUES PLAYING)\\n\\n186\\n00:21:47,240 --> 00:21:48,912\\nHOWARD: This is the common area.\\n\\n187\\n00:21:49,240 --> 00:21:50,798\\nGood for R & R.\\n\\n188\\n00:21:50,880 --> 00:21:53,553\\nAs you can see,<br/>I\\'ve planned for a long stay.\\n\\n189\\n00:21:54,080 --> 00:21:57,470\\nThe aquaponics system<br/>cleans the air and keeps it fresh.\\n\\n190\\n00:21:58,200 --> 00:22:01,909\\nThis is the living room.<br/>Help yourself to any reading.\\n\\n191\\n00:22:02,000 --> 00:22:06,790\\nIf you like to watch films,<br/>I have some on DVD and VHS cassette.\\n\\n192\\n00:22:07,240 --> 00:22:10,676\\nJust make sure you put them back<br/>in their sleeve when they\\'re done.\\n\\n193\\n00:22:11,360 --> 00:22:13,635\\nThe kitchen\\'s fully functional.\\n\\n194\\n00:22:13,720 --> 00:22:18,077\\nHas an electric stove,<br/>refrigerator, freezer, silverware.\\n\\n195\\n00:22:18,520 --> 00:22:20,158\\nAnd that table\\'s a family heirloom,\\n\\n196\\n00:22:20,240 --> 00:22:21,832\\nwhich means watch your glasses.\\n\\n197\\n00:22:21,920 --> 00:22:25,071\\nAlways use coasters and placemats.\\n\\n198\\n00:22:26,360 --> 00:22:28,271\\nKeep your hands to yourself!\\n\\n199\\n00:22:30,600 --> 00:22:31,919\\nUnderstand?\\n\\n200\\n00:22:32,760 --> 00:22:34,193\\nNo touching.\\n\\n201\\n00:22:35,200 --> 00:22:36,200\\nTake a seat.\\n\\n202\\n00:22:42,120 --> 00:22:43,269\\nThis way.\\n\\n203\\n00:23:06,040 --> 00:23:08,395\\nThis is my private space.\\n\\n204\\n00:23:08,880 --> 00:23:12,156\\nOff-limits, unless<br/>I give express permission.\\n\\n205\\n00:23:12,960 --> 00:23:14,188\\nGo ahead.\\n\\n206\\n00:23:16,640 --> 00:23:19,359\\n- I don\\'t need to.<br/>- You will, though.\\n\\n207\\n00:23:19,440 --> 00:23:22,113\\nAnd I\\'ve got to pace<br/>these things out, so please.\\n\\n208\\n00:23:24,680 --> 00:23:26,159\\nI need privacy.\\n\\n209\\n00:23:26,240 --> 00:23:28,231\\nYou\\'re welcome to close the curtain.\\n\\n210\\n00:23:32,080 --> 00:23:34,230\\nI can\\'t with you standing there.\\n\\n211\\n00:23:34,760 --> 00:23:37,433\\nAnd I can\\'t trust you<br/>not to burn this place down.\\n\\n212\\n00:23:37,560 --> 00:23:39,516\\nThis is for my own safety.\\n\\n213\\n00:23:40,680 --> 00:23:43,513\\nI\\'m not some pervert! Just go.\\n\\n214\\n00:23:43,920 --> 00:23:45,512\\n(SIGHING)\\n\\n215\\n00:23:58,040 --> 00:24:00,110\\nHOWARD: Don\\'t flush<br/>unless you\\'ve gone!\\n\\n216\\n00:24:01,040 --> 00:24:02,678\\nWe can\\'t afford wasted flushes.\\n\\n217\\n00:24:11,360 --> 00:24:13,954\\nTake a seat. Are you hungry?\\n\\n218\\n00:24:20,040 --> 00:24:22,031\\n- Those are Megan\\'s.<br/>- (VESSELS CLANG)\\n\\n219\\n00:24:22,760 --> 00:24:25,797\\nShe never went anywhere<br/>without two or three of those things.\\n\\n220\\n00:24:25,880 --> 00:24:27,199\\nWho\\'s Megan?\\n\\n221\\n00:24:27,720 --> 00:24:29,870\\nMegan\\'s not with us anymore.\\n\\n222\\n00:24:31,480 --> 00:24:33,232\\n(FAINT WHIRRING)\\n\\n223\\n00:24:36,040 --> 00:24:38,349\\nDon\\'t worry. Just the generator.\\n\\n224\\n00:24:42,080 --> 00:24:43,718\\nMaybe it\\'s a car outside.\\n\\n225\\n00:24:43,840 --> 00:24:45,239\\n(SCOFFS)\\n\\n226\\n00:24:46,120 --> 00:24:47,712\\nThat\\'s not possible.\\n\\n227\\n00:24:47,840 --> 00:24:50,400\\nI heard one earlier. Above my room.\\n\\n228\\n00:24:50,480 --> 00:24:53,677\\nIf you had heard a car,<br/>the driver would be long dead by now.\\n\\n229\\n00:24:53,760 --> 00:24:55,955\\nWell, shouldn\\'t we at least try\\n\\n230\\n00:24:56,040 --> 00:25:00,079\\nto call the police or someone<br/>to find out what actually happened?\\n\\n231\\n00:25:00,160 --> 00:25:01,991\\nThere\\'s no one left to call.\\n\\n232\\n00:25:02,080 --> 00:25:04,230\\nSee that? Nothing\\'s coming through.\\n\\n233\\n00:25:08,720 --> 00:25:09,914\\n(HOWARD EXHALES DEEPLY)\\n\\n234\\n00:25:11,600 --> 00:25:13,113\\nYou think I sound crazy.\\n\\n235\\n00:25:16,760 --> 00:25:19,433\\nI mean, it\\'s amazing. You people...\\n\\n236\\n00:25:20,160 --> 00:25:22,390\\nYou wear helmets<br/>when you ride your bikes.\\n\\n237\\n00:25:22,480 --> 00:25:24,675\\nYou have seat belts in your cars.\\n\\n238\\n00:25:24,760 --> 00:25:26,955\\nYou have alarm systems<br/>to protect your homes.\\n\\n239\\n00:25:27,040 --> 00:25:29,190\\nBut what do you do<br/>when those alarms go off?\\n\\n240\\n00:25:30,720 --> 00:25:35,032\\n\"Crazy\" is building your ark<br/>after the flood has already come!\\n\\n241\\n00:25:42,640 --> 00:25:45,677\\nI think maybe it\\'s time<br/>you met Frank and Mildred.\\n\\n242\\n00:26:09,160 --> 00:26:10,559\\n(KEYS JANGLING)\\n\\n243\\n00:26:30,880 --> 00:26:33,553\\nClosest I could get to an airlock.\\n\\n244\\n00:27:03,040 --> 00:27:04,996\\n- (GASPING)<br/>- See?\\n\\n245\\n00:27:08,360 --> 00:27:10,078\\nWhat happened to them?\\n\\n246\\n00:27:10,160 --> 00:27:12,071\\nThey weren\\'t as lucky as you.\\n\\n247\\n00:27:12,560 --> 00:27:14,039\\nIt\\'s the air, Michelle.\\n\\n248\\n00:27:14,120 --> 00:27:16,395\\nThat\\'s what happens<br/>when you get exposed.\\n\\n249\\n00:27:21,240 --> 00:27:22,719\\n(CELL PHONE RINGING)\\n\\n250\\n00:27:24,920 --> 00:27:26,638\\n(TIRES SQUEALING)\\n\\n251\\n00:27:28,520 --> 00:27:29,520\\n(CRASHING)\\n\\n252\\n00:27:33,000 --> 00:27:36,834\\nI keep this door sealed at all times.\\n\\n253\\n00:27:42,000 --> 00:27:43,672\\nNo one comes in or out.\\n\\n254\\n00:27:55,840 --> 00:27:57,478\\nEMMETT: Met Frank and Mildred, huh?\\n\\n255\\n00:27:59,840 --> 00:28:01,353\\nIt\\'s funny, right?\\n\\n256\\n00:28:02,000 --> 00:28:03,194\\nThe whole world ends\\n\\n257\\n00:28:03,280 --> 00:28:06,158\\nand the thing he\\'s most upset about<br/>is a pair of dead pigs?\\n\\n258\\n00:28:08,040 --> 00:28:10,156\\nYou in need of some reading material?\\n\\n259\\n00:28:11,200 --> 00:28:12,758\\nI took all the quizzes. Sorry.\\n\\n260\\n00:28:21,960 --> 00:28:24,554\\nBut I did learn<br/>how to do a French braid, so,\\n\\n261\\n00:28:24,680 --> 00:28:27,956\\nyou know, if you want me<br/>to do that for you, just let me know.\\n\\n262\\n00:28:34,120 --> 00:28:35,792\\nWhat do you know about him?\\n\\n263\\n00:28:38,440 --> 00:28:40,749\\nHe was in the Navy, I know that.\\n\\n264\\n00:28:41,720 --> 00:28:45,190\\nI guess he did, uh,<br/>some stuff with satellites.\\n\\n265\\n00:28:46,360 --> 00:28:47,998\\nWhat kind of stuff?\\n\\n266\\n00:28:48,720 --> 00:28:50,472\\nSatellite stuff.\\n\\n267\\n00:28:52,280 --> 00:28:53,998\\nWell, what brought him out here?\\n\\n268\\n00:28:54,680 --> 00:28:56,113\\nI\\'m not sure.\\n\\n269\\n00:28:57,520 --> 00:28:59,829\\nHe bought this property a while back.\\n\\n270\\n00:29:00,400 --> 00:29:02,038\\nBut I never paid much attention\\n\\n271\\n00:29:02,120 --> 00:29:04,998\\ntill he hired me to help him<br/>get this place set up.\\n\\n272\\n00:29:06,200 --> 00:29:10,159\\nThe work was entertaining, though,<br/>that\\'s for sure. (CHUCKLES)\\n\\n273\\n00:29:11,520 --> 00:29:14,830\\nYou know, Howard\\'s like a black belt<br/>in conspiracy theory.\\n\\n274\\n00:29:16,520 --> 00:29:18,556\\nPlus, you know, how often<br/>do you get hired to help build\\n\\n275\\n00:29:18,640 --> 00:29:20,358\\na doomsday bunker?\\n\\n276\\n00:29:21,160 --> 00:29:22,388\\nSo, he didn\\'t\\n\\n277\\n00:29:23,920 --> 00:29:25,273\\nkidnap you?\\n\\n278\\n00:29:26,360 --> 00:29:27,998\\n(SCOFFS) No!\\n\\n279\\n00:29:29,440 --> 00:29:31,874\\nWhat about your arm?<br/>Weren\\'t you trying to escape?\\n\\n280\\n00:29:32,000 --> 00:29:33,479\\nI was trying to get in.\\n\\n281\\n00:29:35,520 --> 00:29:39,035\\nI watched Howard build this place,<br/>piece by piece, for years.\\n\\n282\\n00:29:39,120 --> 00:29:41,156\\nHe was always talking about,\\n\\n283\\n00:29:41,240 --> 00:29:42,958\\nyou know, possible attacks from.\\n\\n284\\n00:29:43,960 --> 00:29:46,599\\nAl Qaeda, Russia, South Korea.\\n\\n285\\n00:29:46,720 --> 00:29:47,948\\nYou mean North Korea.\\n\\n286\\n00:29:48,040 --> 00:29:49,712\\n(STUTTERS) Is that the crazy one?\\n\\n287\\n00:29:51,040 --> 00:29:52,758\\nSo, yeah, that one.\\n\\n288\\n00:29:54,120 --> 00:29:56,554\\nAnd, uh, you know,<br/>poured all his money into this place.\\n\\n289\\n00:29:56,640 --> 00:29:58,790\\nTook to it like his life depended on it.\\n\\n290\\n00:29:59,880 --> 00:30:02,030\\nWhich, you know,\\n\\n291\\n00:30:02,720 --> 00:30:04,358\\nthat stays with you.\\n\\n292\\n00:30:08,360 --> 00:30:09,554\\nSo...\\n\\n293\\n00:30:10,560 --> 00:30:11,675\\n(GRUNTS SOFTLY)\\n\\n294\\n00:30:11,760 --> 00:30:13,273\\nHe told you all this\\n\\n295\\n00:30:15,240 --> 00:30:17,276\\nwhile you\\'re building his bomb shelter.\\n\\n296\\n00:30:17,360 --> 00:30:19,237\\nAnd now he says that\\n\\n297\\n00:30:19,320 --> 00:30:22,153\\nthe air is contaminated<br/>and everybody\\'s dead.\\n\\n298\\n00:30:23,600 --> 00:30:26,876\\nYeah, I know what you\\'re getting at,<br/>but there\\'s more to it.\\n\\n299\\n00:30:26,960 --> 00:30:28,313\\nHoward abducted me.\\n\\n300\\n00:30:29,680 --> 00:30:33,150\\nHe drove me off the road<br/>and he dragged me here.\\n\\n301\\n00:30:34,520 --> 00:30:38,638\\nSo, whatever he\\'s telling you<br/>about the air, some big attack,\\n\\n302\\n00:30:38,720 --> 00:30:41,359\\nthe purpose of this shelter, is a lie.\\n\\n303\\n00:30:41,440 --> 00:30:42,839\\nNo. No way.\\n\\n304\\n00:30:44,400 --> 00:30:46,277\\nThe attack, I saw it myself.\\n\\n305\\n00:30:46,360 --> 00:30:47,793\\nWhat do you mean?\\n\\n306\\n00:30:48,920 --> 00:30:50,990\\nI was on my way home from work.\\n\\n307\\n00:30:52,640 --> 00:30:54,676\\nAnd it looked like a flash.\\n\\n308\\n00:30:55,440 --> 00:30:56,873\\nBright red.\\n\\n309\\n00:30:57,760 --> 00:31:00,194\\nLike an explosion, from way far off.\\n\\n310\\n00:31:01,960 --> 00:31:03,678\\nIt wasn\\'t like fireworks.\\n\\n311\\n00:31:05,440 --> 00:31:08,591\\nNaw, this was more like<br/>something you\\'d read about in the Bible.\\n\\n312\\n00:31:11,680 --> 00:31:14,990\\nSo, what, you saw, what,<br/>a flash of light? Lightning?\\n\\n313\\n00:31:16,840 --> 00:31:18,353\\nA fire that flared up?\\n\\n314\\n00:31:18,480 --> 00:31:19,629\\nI\\'m not explaining it right.\\n\\n315\\n00:31:19,720 --> 00:31:21,950\\nThis wasn\\'t like anything I\\'d ever seen.\\n\\n316\\n00:31:22,800 --> 00:31:25,109\\nAnd so, my first thought<br/>was to come here.\\n\\n317\\n00:31:25,200 --> 00:31:28,431\\nAnd when I got here,<br/>Howard was closing the door.\\n\\n318\\n00:31:28,520 --> 00:31:30,795\\nAnd I could see it,<br/>right there on his face,\\n\\n319\\n00:31:30,880 --> 00:31:32,472\\nhe knew something was happening.\\n\\n320\\n00:31:33,320 --> 00:31:34,753\\nSomething bad.\\n\\n321\\n00:31:37,320 --> 00:31:39,151\\nAnd so, I fought my way in.\\n\\n322\\n00:31:45,920 --> 00:31:47,114\\nI heard a car.\\n\\n323\\n00:31:49,400 --> 00:31:51,391\\nRight here. Above us.\\n\\n324\\n00:31:55,160 --> 00:31:56,673\\nYou heard someone?\\n\\n325\\n00:31:56,760 --> 00:31:58,239\\nRight above us.\\n\\n326\\n00:32:02,880 --> 00:32:04,393\\nThat isn\\'t possible.\\n\\n327\\n00:32:05,000 --> 00:32:08,117\\n- The air is...<br/>- What, contaminated?\\n\\n328\\n00:32:09,040 --> 00:32:11,952\\n- How do you know that?<br/>- Because I told him.\\n\\n329\\n00:32:14,360 --> 00:32:15,759\\nDinner\\'s ready.\\n\\n330\\n00:32:30,640 --> 00:32:33,234\\nI see you two are getting along.\\n\\n331\\n00:32:54,560 --> 00:32:55,560\\nHmm.\\n\\n332\\n00:33:06,560 --> 00:33:07,913\\nHow\\'s that sauce?\\n\\n333\\n00:33:08,880 --> 00:33:09,880\\nIt\\'s fine.\\n\\n334\\n00:33:09,960 --> 00:33:12,190\\nAs cooks go, I\\'m okay.\\n\\n335\\n00:33:13,240 --> 00:33:15,151\\nNot great, but okay.\\n\\n336\\n00:33:15,960 --> 00:33:17,791\\nMegan was a good cook.\\n\\n337\\n00:33:19,240 --> 00:33:21,231\\nYou\\'ll learn to love cooking.\\n\\n338\\n00:33:27,880 --> 00:33:29,154\\nMmm...\\n\\n339\\n00:33:29,880 --> 00:33:31,154\\nEMMETT: Mmm.\\n\\n340\\n00:33:32,080 --> 00:33:33,593\\nIt\\'s delicious.\\n\\n341\\n00:33:34,600 --> 00:33:36,591\\nThat\\'s the best sauce I\\'ve ever tasted.\\n\\n342\\n00:33:37,160 --> 00:33:38,673\\nAre you being funny?\\n\\n343\\n00:33:38,760 --> 00:33:40,159\\nNo, I mean,\\n\\n344\\n00:33:40,920 --> 00:33:43,593\\nconsidering the alternative,<br/>which is, you know,\\n\\n345\\n00:33:43,680 --> 00:33:47,434\\ngetting burnt up in a chemical attack,<br/>or nuclear,\\n\\n346\\n00:33:47,920 --> 00:33:50,878\\nI\\'d say being alive and down here would\\n\\n347\\n00:33:50,960 --> 00:33:53,269\\nmake a fried turd taste pretty good, so...\\n\\n348\\n00:33:55,000 --> 00:33:56,752\\nBest damn sauce I ever had.\\n\\n349\\n00:33:59,640 --> 00:34:01,596\\nThat\\'s not a bad point.\\n\\n350\\n00:34:01,680 --> 00:34:03,671\\nAnd, please,<br/>watch your language at table.\\n\\n351\\n00:34:05,800 --> 00:34:07,074\\nRight?\\n\\n352\\n00:34:10,880 --> 00:34:13,553\\nYou know what I haven\\'t been able to<br/>get out of my head, for some reason?\\n\\n353\\n00:34:13,640 --> 00:34:15,471\\nEver since I got down here.\\n\\n354\\n00:34:17,040 --> 00:34:18,473\\nTattoos.\\n\\n355\\n00:34:19,240 --> 00:34:20,878\\nAlways wanted one.\\n\\n356\\n00:34:21,680 --> 00:34:23,640\\nBut I never got any.<br/>\\'Cause everybody always said,\\n\\n357\\n00:34:23,720 --> 00:34:26,200\\n\"No, no, Emmett, you\\'ll never get<br/>a decent job if you do that.\"\\n\\n358\\n00:34:26,560 --> 00:34:27,675\\nWhatever.\\n\\n359\\n00:34:27,760 --> 00:34:29,432\\nLike that matters now, right?\\n\\n360\\n00:34:30,680 --> 00:34:32,636\\nT ell you what,<br/>if I had known this was coming,\\n\\n361\\n00:34:32,720 --> 00:34:36,156\\nI would\\'ve gotten, like,<br/>50 of them. I swear, man.\\n\\n362\\n00:34:36,480 --> 00:34:38,675\\nI would look like a circus freak,<br/>or something.\\n\\n363\\n00:34:38,760 --> 00:34:40,239\\nI\\'d just be covered head to toe.\\n\\n364\\n00:34:40,320 --> 00:34:42,595\\nTattoos all over my...<br/>You know, everywhere. Face?\\n\\n365\\n00:34:42,680 --> 00:34:45,592\\nSure. Right there. Across my forehead.\\n\\n366\\n00:34:46,160 --> 00:34:48,674\\nJust my name. \"Emmett.\"\\n\\n367\\n00:34:49,600 --> 00:34:50,919\\nOr, you know,\\n\\n368\\n00:34:51,760 --> 00:34:53,478\\n- \"Thug Life.\"<br/>- (CHUCKLES)\\n\\n369\\n00:34:53,800 --> 00:34:54,835\\n\"YOLO.\"\\n\\n370\\n00:34:54,920 --> 00:34:56,069\\nI don\\'t even know what that means,\\n\\n371\\n00:34:56,160 --> 00:34:57,673\\nbut, you know,<br/>I hear people saying it all the time,\\n\\n372\\n00:34:57,760 --> 00:34:59,000\\nso, it must be cool. (CHUCKLES)\\n\\n373\\n00:35:03,560 --> 00:35:04,834\\nHey, what about you, Howard?\\n\\n374\\n00:35:08,520 --> 00:35:10,351\\nAnything you wish you\\'d done?\\n\\n375\\n00:35:14,160 --> 00:35:15,912\\nIn all honesty, no.\\n\\n376\\n00:35:17,240 --> 00:35:18,275\\nNo?\\n\\n377\\n00:35:19,760 --> 00:35:21,990\\nNo crazy nights in Vegas?\\n\\n378\\n00:35:23,960 --> 00:35:26,428\\nMaybe, uh, take a pilgrimage to Waco?\\n\\n379\\n00:35:28,880 --> 00:35:31,075\\nEverything I wanted to do, I did.\\n\\n380\\n00:35:31,880 --> 00:35:33,757\\nI focused on being prepared.\\n\\n381\\n00:35:34,120 --> 00:35:35,439\\nAnd I was.\\n\\n382\\n00:35:37,040 --> 00:35:38,519\\nAnd here we are.\\n\\n383\\n00:35:50,320 --> 00:35:51,958\\nEMMETT: Oh, my goodness.\\n\\n384\\n00:35:52,040 --> 00:35:53,473\\nIs that Monopoly?\\n\\n385\\n00:35:55,080 --> 00:35:56,559\\nThere we go!\\n\\n386\\n00:35:56,640 --> 00:35:58,517\\nYeah, that\\'s how we kill the time.\\n\\n387\\n00:35:58,600 --> 00:36:00,477\\nWhat would you say, Howard,<br/>we\\'re gonna be down here,\\n\\n388\\n00:36:00,560 --> 00:36:02,915\\nwhat, like, a year? Two? Maybe?\\n\\n389\\n00:36:04,000 --> 00:36:05,672\\nI bet you if we started a game right now,\\n\\n390\\n00:36:05,760 --> 00:36:07,432\\nwe might even<br/>get halfway finished by the time...\\n\\n391\\n00:36:07,560 --> 00:36:08,754\\nStop talking!\\n\\n392\\n00:36:09,560 --> 00:36:10,959\\n(BREATHES DEEPLY)\\n\\n393\\n00:36:17,080 --> 00:36:20,390\\nYou don\\'t need to make jokes about<br/>how long we\\'re going to be down here\\n\\n394\\n00:36:20,480 --> 00:36:22,948\\nwhen nobody knows<br/>how long that\\'s going to be.\\n\\n395\\n00:36:23,440 --> 00:36:25,670\\nYour humor is not funny.\\n\\n396\\n00:36:25,760 --> 00:36:27,671\\nI don\\'t appreciate it<br/>while I\\'m trying to eat,\\n\\n397\\n00:36:27,760 --> 00:36:28,800\\nand neither does Michelle.\\n\\n398\\n00:36:29,120 --> 00:36:32,271\\nNow, please shut up<br/>and let us eat in peace.\\n\\n399\\n00:36:58,000 --> 00:36:59,149\\nHmm.\\n\\n400\\n00:37:00,640 --> 00:37:01,640\\nEmmett?\\n\\n401\\n00:37:03,480 --> 00:37:05,152\\nWould you pass me a napkin?\\n\\n402\\n00:37:13,200 --> 00:37:14,474\\nThank you.\\n\\n403\\n00:37:14,560 --> 00:37:18,075\\nI know what you\\'re saying.<br/>I never could finish <i>Monopoly.</i>\\n\\n404\\n00:37:18,840 --> 00:37:21,274\\nThat game really<br/>does take forever, right?\\n\\n405\\n00:37:22,440 --> 00:37:24,158\\nFor me, though, it was, um...\\n\\n406\\n00:37:24,840 --> 00:37:26,353\\n<i>Chutes and Ladders,</i>\\n\\n407\\n00:37:26,880 --> 00:37:28,029\\nuh...\\n\\n408\\n00:37:28,720 --> 00:37:30,233\\n<i>Sorry!,</i>\\n\\n409\\n00:37:30,320 --> 00:37:32,072\\nand <i>Trouble.</i>\\n\\n410\\n00:37:32,160 --> 00:37:34,754\\nYou know, the thing with the dice<br/>and the thing that you pressed,\\n\\n411\\n00:37:34,840 --> 00:37:36,558\\n- what was that called?<br/>- The...\\n\\n412\\n00:37:36,640 --> 00:37:39,234\\nBOTH: Pop-O-Matic bubble! Yeah.\\n\\n413\\n00:37:39,360 --> 00:37:41,920\\nDid you ever play that, um...<br/>What was that, <i>Operation?</i>\\n\\n414\\n00:37:42,000 --> 00:37:43,274\\n- Loved <i>Operation!</i><br/>- I\\'m telling you, man,\\n\\n415\\n00:37:43,360 --> 00:37:44,429\\nI couldn\\'t play that game.\\n\\n416\\n00:37:44,520 --> 00:37:45,669\\n- It terrified me.<br/>- Why...\\n\\n417\\n00:37:45,760 --> 00:37:49,275\\nThat noise that thing would make<br/>when you hit that edge. I mean...\\n\\n418\\n00:37:49,360 --> 00:37:51,590\\n- Good Lord!<br/>- (CHUCKLING) It was pretty scary.\\n\\n419\\n00:37:52,600 --> 00:37:53,680\\nCould you hand me the salt?\\n\\n420\\n00:37:57,520 --> 00:37:58,589\\nPlease?\\n\\n421\\n00:38:03,880 --> 00:38:05,074\\nAh, shoot! I\\'m sorry.\\n\\n422\\n00:38:06,480 --> 00:38:08,198\\nI\\'m gonna need the pepper also.\\n\\n423\\n00:38:15,880 --> 00:38:17,632\\nWhat exactly do you think you\\'re doing?\\n\\n424\\n00:38:17,720 --> 00:38:18,755\\nI\\'m asking for pepper.\\n\\n425\\n00:38:18,840 --> 00:38:20,239\\nLike hell you were! What was that?\\n\\n426\\n00:38:20,360 --> 00:38:21,713\\nI don\\'t know what you\\'re<br/>talking about, Howard.\\n\\n427\\n00:38:21,800 --> 00:38:24,109\\nAre you trying to insult me?\\n\\n428\\n00:38:24,240 --> 00:38:28,153\\nHere, in the shelter that I built<br/>that\\'s keeping you alive?\\n\\n429\\n00:38:28,240 --> 00:38:31,073\\nYou don\\'t think I see what you just did?\\n\\n430\\n00:38:31,680 --> 00:38:34,478\\nIs that how you thank me<br/>for saving your life?\\n\\n431\\n00:38:34,560 --> 00:38:35,760\\n- Howard, calm down.<br/>- Shut up!\\n\\n432\\n00:38:36,080 --> 00:38:38,355\\nShut up and stay in your seat!\\n\\n433\\n00:38:45,080 --> 00:38:46,195\\nIs it?\\n\\n434\\n00:38:46,560 --> 00:38:48,391\\nNow, let me tell you,\\n\\n435\\n00:38:49,040 --> 00:38:51,349\\nI know what a traitor looks like.\\n\\n436\\n00:38:51,440 --> 00:38:52,793\\nUnderstand?\\n\\n437\\n00:38:54,760 --> 00:38:59,231\\nI have shown you nothing,<br/>but generosity and hospitality.\\n\\n438\\n00:39:01,920 --> 00:39:03,751\\nI want you to apologize.\\n\\n439\\n00:39:05,760 --> 00:39:07,955\\nTo tell me you\\'re going to behave.\\n\\n440\\n00:39:11,040 --> 00:39:12,268\\nI will.\\n\\n441\\n00:39:15,760 --> 00:39:17,273\\nYou will what?\\n\\n442\\n00:39:20,960 --> 00:39:22,473\\nI\\'ll behave.\\n\\n443\\n00:39:24,920 --> 00:39:26,797\\nAnd I\\'m so sorry.\\n\\n444\\n00:39:31,640 --> 00:39:32,640\\nHOWARD: Sit.\\n\\n445\\n00:39:33,960 --> 00:39:35,439\\n(HOWARD SIGHING)\\n\\n446\\n00:39:48,960 --> 00:39:50,279\\nAh...\\n\\n447\\n00:39:55,480 --> 00:39:57,277\\nHave to stay hydrated.\\n\\n448\\n00:39:58,640 --> 00:39:59,709\\nHmm.\\n\\n449\\n00:40:04,640 --> 00:40:06,710\\nThat\\'s easy to forget down here.\\n\\n450\\n00:40:14,360 --> 00:40:15,588\\nWhat\\'s wrong?\\n\\n451\\n00:40:17,120 --> 00:40:18,314\\n(SOFTLY) Nothing.\\n\\n452\\n00:40:29,680 --> 00:40:30,715\\nWhere are my keys?\\n\\n453\\n00:40:30,800 --> 00:40:32,028\\n(RUMBLING)\\n\\n454\\n00:40:36,920 --> 00:40:38,239\\n(SCREAMS)\\n\\n455\\n00:40:38,360 --> 00:40:40,032\\n(BREATHING HEAVILY)\\n\\n456\\n00:40:41,440 --> 00:40:43,317\\n- Michelle!<br/>- (GRUNTS)\\n\\n457\\n00:40:44,720 --> 00:40:45,994\\n(GROANS)\\n\\n458\\n00:40:48,040 --> 00:40:49,598\\n(PANTING)\\n\\n459\\n00:40:50,040 --> 00:40:52,156\\nMichelle! Stop!\\n\\n460\\n00:41:04,720 --> 00:41:06,392\\nGive me those keys!\\n\\n461\\n00:41:07,880 --> 00:41:09,871\\nMICHELLE: Come on.<br/>HOWARD: No! Don\\'t!\\n\\n462\\n00:41:15,240 --> 00:41:16,832\\n(MICHELLE PANTING)\\n\\n463\\n00:41:20,360 --> 00:41:21,679\\nStop!\\n\\n464\\n00:41:24,600 --> 00:41:27,319\\nNo! No, don\\'t! Don\\'t!\\n\\n465\\n00:41:27,400 --> 00:41:28,400\\nDon\\'t open that door!\\n\\n466\\n00:41:28,880 --> 00:41:30,313\\n(PANTING)\\n\\n467\\n00:41:32,920 --> 00:41:34,319\\nThere\\'s a car!\\n\\n468\\n00:41:34,400 --> 00:41:36,834\\n- There\\'s a car! I see a car!<br/>- HOWARD: No!\\n\\n469\\n00:41:37,400 --> 00:41:39,994\\nHere! Here! Here!\\n\\n470\\n00:41:40,080 --> 00:41:42,594\\nHOWARD: Michelle,<br/>listen to me, don\\'t do this!\\n\\n471\\n00:41:44,200 --> 00:41:45,679\\n- (THUD)<br/>- (GASPS)\\n\\n472\\n00:41:45,760 --> 00:41:47,796\\nOh, God! Thank God!\\n\\n473\\n00:41:49,360 --> 00:41:51,510\\n- There\\'s a woman.<br/>- WOMAN: Open the door!\\n\\n474\\n00:41:51,920 --> 00:41:54,832\\n(STUTTERING) It\\'s okay.<br/>I just want to come inside.\\n\\n475\\n00:41:54,920 --> 00:41:56,990\\nShe looks hurt.<br/>She wants me to let her in.\\n\\n476\\n00:41:57,080 --> 00:41:59,548\\nDo not let her in!\\n\\n477\\n00:41:59,640 --> 00:42:02,393\\n- Look at her face, Michelle!<br/>- No!\\n\\n478\\n00:42:02,480 --> 00:42:05,790\\nNo, no, no!\\n\\n479\\n00:42:06,280 --> 00:42:07,554\\nNo!\\n\\n480\\n00:42:07,640 --> 00:42:10,438\\nOh, my God, I\\'m fine. I really am fine.\\n\\n481\\n00:42:10,520 --> 00:42:13,034\\n- No, please, I\\'m okay.<br/>- There\\'s...\\n\\n482\\n00:42:13,120 --> 00:42:16,237\\nIt really only...<br/>It only touched me a little. A little!\\n\\n483\\n00:42:16,320 --> 00:42:19,392\\nSo, could you open the door? Open it!\\n\\n484\\n00:42:19,800 --> 00:42:22,314\\n- She\\'s begging me.<br/>- You can\\'t help her!\\n\\n485\\n00:42:22,400 --> 00:42:23,515\\nNo one can!\\n\\n486\\n00:42:23,600 --> 00:42:25,636\\nLet me in. I\\'ll be okay.\\n\\n487\\n00:42:25,720 --> 00:42:28,837\\nI\\'ll be okay.<br/>It really hardly touched me at all.\\n\\n488\\n00:42:30,160 --> 00:42:32,754\\n- Open the door!<br/>- HOWARD: Don\\'t listen to her!\\n\\n489\\n00:42:32,840 --> 00:42:35,912\\nGod! Open the door, you bitch!\\n\\n490\\n00:42:36,000 --> 00:42:37,479\\nLet me in!\\n\\n491\\n00:42:38,640 --> 00:42:40,949\\nLet me in! Let me in!\\n\\n492\\n00:42:41,320 --> 00:42:43,197\\nLet me in! Let me in!\\n\\n493\\n00:42:45,320 --> 00:42:46,639\\nYou!\\n\\n494\\n00:42:47,120 --> 00:42:50,271\\nYou! You! You!\\n\\n495\\n00:42:51,480 --> 00:42:52,629\\nYou!\\n\\n496\\n00:42:53,800 --> 00:42:54,994\\n(POUNDING ON DOOR)\\n\\n497\\n00:42:55,120 --> 00:42:56,314\\n(WHIMPERS)\\n\\n498\\n00:42:57,080 --> 00:42:58,080\\n(GRUNTS)\\n\\n499\\n00:43:04,720 --> 00:43:05,948\\n(KEYS JANGLING)\\n\\n500\\n00:43:06,040 --> 00:43:07,519\\n(DOOR OPENING)\\n\\n501\\n00:43:18,800 --> 00:43:20,028\\n(GRUNTS)\\n\\n502\\n00:43:21,320 --> 00:43:22,435\\nI know it\\'s hard,\\n\\n503\\n00:43:24,360 --> 00:43:26,476\\nrealizing they\\'re all gone.\\n\\n504\\n00:43:28,960 --> 00:43:30,598\\nThe ones you love.\\n\\n505\\n00:43:40,040 --> 00:43:42,429\\nI have something to confess to you.\\n\\n506\\n00:43:42,520 --> 00:43:43,953\\n(GULPS)\\n\\n507\\n00:43:44,600 --> 00:43:46,556\\nI crashed into your car.\\n\\n508\\n00:43:47,360 --> 00:43:48,475\\nYour accident\\n\\n509\\n00:43:50,040 --> 00:43:51,758\\nwas my fault.\\n\\n510\\n00:43:53,920 --> 00:43:57,151\\nWhen I found out about<br/>the incoming attack,\\n\\n511\\n00:43:57,280 --> 00:43:58,952\\nI got frantic.\\n\\n512\\n00:43:59,040 --> 00:44:01,759\\nI knew I needed to get back here<br/>as soon as possible,\\n\\n513\\n00:44:01,840 --> 00:44:04,115\\nso I was driving like a maniac.\\n\\n514\\n00:44:04,880 --> 00:44:06,359\\n(SIGHS)\\n\\n515\\n00:44:07,720 --> 00:44:09,711\\nI tried to pass you,\\n\\n516\\n00:44:10,280 --> 00:44:11,429\\nand\\n\\n517\\n00:44:13,920 --> 00:44:16,229\\nI\\'m the reason you went off the road.\\n\\n518\\n00:44:18,240 --> 00:44:21,073\\nI mean, I know I seem<br/>like a sensible guy,\\n\\n519\\n00:44:21,600 --> 00:44:24,353\\nbut at the time, I wasn\\'t myself.\\n\\n520\\n00:44:26,400 --> 00:44:29,551\\nIt was an accident, but it was my fault.\\n\\n521\\n00:44:32,080 --> 00:44:33,672\\nI was afraid to tell you,\\n\\n522\\n00:44:34,760 --> 00:44:35,909\\nand,\\n\\n523\\n00:44:38,080 --> 00:44:39,433\\nI\\'m sorry.\\n\\n524\\n00:44:48,440 --> 00:44:49,668\\nUm...\\n\\n525\\n00:44:49,760 --> 00:44:51,352\\nYou should shower.\\n\\n526\\n00:44:51,440 --> 00:44:53,078\\nEven the smallest amount of air\\n\\n527\\n00:44:53,160 --> 00:44:55,993\\nthat came through the hinges<br/>could be toxic.\\n\\n528\\n00:44:57,920 --> 00:44:59,273\\nThese were Megan\\'s.\\n\\n529\\n00:45:00,800 --> 00:45:02,028\\nIf you want.\\n\\n530\\n00:45:06,800 --> 00:45:09,394\\nI recognized that woman\\'s car.\\n\\n531\\n00:45:09,520 --> 00:45:11,556\\nHer name was Leslie, I think.\\n\\n532\\n00:45:13,960 --> 00:45:15,279\\nYou knew her?\\n\\n533\\n00:45:15,720 --> 00:45:17,278\\nShe was a neighbor.\\n\\n534\\n00:45:18,320 --> 00:45:21,232\\nEmmett wasn\\'t the only one<br/>who knew about this place.\\n\\n535\\n00:45:22,240 --> 00:45:25,789\\nIf any others somehow survived,<br/>they could be coming here, too.\\n\\n536\\n00:45:26,360 --> 00:45:27,793\\n(GRUNTS SOFTLY)\\n\\n537\\n00:45:28,800 --> 00:45:32,509\\nAs of Friday, kindness and generosity<br/>are antiquated customs.\\n\\n538\\n00:45:40,160 --> 00:45:42,151\\nI\\'m going to need some stitches.\\n\\n539\\n00:45:52,320 --> 00:45:53,958\\nWhat? You want me to...\\n\\n540\\n00:45:54,040 --> 00:45:55,678\\nThis is your doing, isn\\'t it?\\n\\n541\\n00:45:56,680 --> 00:45:58,477\\nI mean, I don\\'t think I\\'m really qualified.\\n\\n542\\n00:45:58,560 --> 00:46:00,357\\nI\\'ll walk you through it.\\n\\n543\\n00:46:04,520 --> 00:46:05,520\\nHere.\\n\\n544\\n00:46:08,880 --> 00:46:10,233\\nHave a drink.\\n\\n545\\n00:46:13,360 --> 00:46:14,509\\nWhat is it?\\n\\n546\\n00:46:15,400 --> 00:46:18,198\\nTechnically, it\\'s vodka.\\n\\n547\\n00:46:19,520 --> 00:46:21,033\\n(SLURPING)\\n\\n548\\n00:46:22,000 --> 00:46:24,639\\nAh! It\\'s safe. I distilled it myself.\\n\\n549\\n00:46:32,280 --> 00:46:34,669\\n(SLURPS AND COUGHS)\\n\\n550\\n00:46:34,760 --> 00:46:35,840\\nI just said I distilled it,\\n\\n551\\n00:46:35,880 --> 00:46:37,996\\nI didn\\'t say anything about it<br/>actually tasting good.\\n\\n552\\n00:46:38,080 --> 00:46:40,196\\n- Yeah, that\\'s awful.<br/>- You want it on the rocks?\\n\\n553\\n00:46:44,920 --> 00:46:46,600\\nLittle trick I taught myself<br/>as a young man\\n\\n554\\n00:46:46,680 --> 00:46:49,069\\nstationed on a ship<br/>with way too much free time.\\n\\n555\\n00:46:49,720 --> 00:46:52,757\\nEvery now and again,<br/>if the C.O. was working us too hard,\\n\\n556\\n00:46:52,840 --> 00:46:54,512\\nwe\\'d freeze and snap the knob off\\n\\n557\\n00:46:54,600 --> 00:46:56,750\\nthe bathroom door<br/>while he was still inside.\\n\\n558\\n00:46:57,840 --> 00:47:00,354\\nIt usually took him an hour or two<br/>to get out.\\n\\n559\\n00:47:03,920 --> 00:47:06,309\\n- I\\'m good.<br/>- Suit yourself. Cheers.\\n\\n560\\n00:47:09,120 --> 00:47:10,439\\nAh...\\n\\n561\\n00:47:15,800 --> 00:47:17,279\\nThis is clean.\\n\\n562\\n00:47:17,640 --> 00:47:19,835\\nAll you need to do is stitch.\\n\\n563\\n00:47:24,440 --> 00:47:26,078\\n(BREATHING DEEPLY)\\n\\n564\\n00:47:37,680 --> 00:47:38,680\\n(WINCES)\\n\\n565\\n00:47:40,480 --> 00:47:41,959\\n(HOWARD GASPS)\\n\\n566\\n00:47:42,720 --> 00:47:44,073\\nYou\\'re doing fine.\\n\\n567\\n00:47:47,960 --> 00:47:50,190\\nHOWARD: Some stuff<br/>I grabbed from your car.\\n\\n568\\n00:47:50,280 --> 00:47:53,272\\nI didn\\'t have time<br/>to bring in the booze. Sadly.\\n\\n569\\n00:47:57,280 --> 00:47:58,793\\nWhat is all that?\\n\\n570\\n00:48:02,640 --> 00:48:04,551\\nI wanted to design clothes.\\n\\n571\\n00:48:04,640 --> 00:48:06,915\\nNo wonder you were so good<br/>with the stitches.\\n\\n572\\n00:48:09,480 --> 00:48:11,357\\nMegan wanted to be an artist.\\n\\n573\\n00:48:14,240 --> 00:48:15,673\\nShe was your daughter?\\n\\n574\\n00:48:16,200 --> 00:48:17,349\\nYes.\\n\\n575\\n00:48:22,000 --> 00:48:23,991\\nShe was smart.\\n\\n576\\n00:48:24,760 --> 00:48:27,957\\nLoved to read.<br/>The magazines were just for fun.\\n\\n577\\n00:48:28,280 --> 00:48:31,272\\nShe inhaled books. Anything with Paris.\\n\\n578\\n00:48:31,600 --> 00:48:34,478\\nShe liked their movies,<br/>their culture, you know.\\n\\n579\\n00:48:35,120 --> 00:48:36,155\\nWe used to have this little joke.\\n\\n580\\n00:48:36,240 --> 00:48:38,515\\nEvery once in a while I\\'d ask her,\\n\\n581\\n00:48:38,600 --> 00:48:40,716\\n\"What do you want to be<br/>when you grow up?\"\\n\\n582\\n00:48:42,040 --> 00:48:43,268\\nYou know what she\\'d say?\\n\\n583\\n00:48:45,360 --> 00:48:46,679\\n\"French.\" (CHUCKLES)\\n\\n584\\n00:48:48,680 --> 00:48:52,468\\nAnyway, her mother<br/>turned her against me.\\n\\n585\\n00:48:52,560 --> 00:48:54,471\\nTook her off to Chicago.\\n\\n586\\n00:48:56,200 --> 00:48:58,191\\nPeople are strange creatures.\\n\\n587\\n00:48:59,040 --> 00:49:02,316\\nYou can\\'t always convince them<br/>that safety is in their own best interest.\\n\\n588\\n00:49:04,680 --> 00:49:06,591\\nYou don\\'t know they\\'re gone.\\n\\n589\\n00:49:09,200 --> 00:49:12,510\\nAnyway, at least I tried to help them.\\n\\n590\\n00:49:21,240 --> 00:49:23,196\\n- EMMETT: Hey.<br/>- (KNOCKING ON WALL)\\n\\n591\\n00:49:25,200 --> 00:49:28,397\\nThere was nothing<br/>you could\\'ve done for that woman.\\n\\n592\\n00:49:29,080 --> 00:49:31,753\\nEven if you let her in,<br/>she still would\\'ve died.\\n\\n593\\n00:49:37,600 --> 00:49:41,388\\nYou asked earlier about regrets?\\n\\n594\\n00:49:43,680 --> 00:49:45,398\\nYeah, I\\'ve got some of those.\\n\\n595\\n00:49:53,240 --> 00:49:54,798\\nWelcome to the club.\\n\\n596\\n00:49:54,920 --> 00:49:56,239\\n(SCOFFS)\\n\\n597\\n00:49:58,280 --> 00:50:01,511\\nI mean,<br/>I lived my life in a 40-mile radius.\\n\\n598\\n00:50:02,960 --> 00:50:06,396\\nAnd that was by design.<br/>I made sure that happened.\\n\\n599\\n00:50:07,840 --> 00:50:09,671\\nI was so fast in high school,\\n\\n600\\n00:50:09,760 --> 00:50:12,479\\nI even managed to outrun<br/>my bad grades.\\n\\n601\\n00:50:16,640 --> 00:50:20,633\\nI was All-State track three years in a row.\\n\\n602\\n00:50:20,720 --> 00:50:22,153\\n(SNIFFLES AND CLICKS TONGUE)\\n\\n603\\n00:50:22,800 --> 00:50:26,110\\nCaught a full ride to Louisiana Tech,<br/>up there in Ruston.\\n\\n604\\n00:50:28,000 --> 00:50:29,274\\n(CHUCKLES)\\n\\n605\\n00:50:30,440 --> 00:50:33,637\\nI remember I spent<br/>the last two weeks of that summer\\n\\n606\\n00:50:34,280 --> 00:50:38,159\\nshowing off the bus ticket they sent me<br/>to anybody who\\'d take a look at it.\\n\\n607\\n00:50:39,760 --> 00:50:42,877\\nAnd then came the night before<br/>I was supposed to leave.\\n\\n608\\n00:50:46,680 --> 00:50:48,511\\nAnd I just got so worried\\n\\n609\\n00:50:51,800 --> 00:50:54,473\\nabout how bad I was gonna do up there\\n\\n610\\n00:50:54,800 --> 00:50:56,677\\nwith all those smart kids.\\n\\n611\\n00:51:00,520 --> 00:51:02,431\\nSo, I went out of my way\\n\\n612\\n00:51:03,480 --> 00:51:06,278\\nto get just piss-wasted so bad\\n\\n613\\n00:51:06,360 --> 00:51:09,432\\nthat I knew there was no chance<br/>I was waking up in the morning.\\n\\n614\\n00:51:12,640 --> 00:51:14,392\\nSo, I missed the bus.\\n\\n615\\n00:51:16,360 --> 00:51:18,920\\nAnd I didn\\'t buy a ticket for the next one.\\n\\n616\\n00:51:19,880 --> 00:51:21,393\\nOr the one after that.\\n\\n617\\n00:51:24,880 --> 00:51:27,599\\nWell, if you\\'d gone,<br/>you might be dead now.\\n\\n618\\n00:51:27,680 --> 00:51:29,352\\n(CHUCKLING) Yeah, lucky me, right?\\n\\n619\\n00:51:32,120 --> 00:51:33,473\\nLucky us.\\n\\n620\\n00:51:39,480 --> 00:51:41,948\\n(STUTTERS) A few years ago,\\n\\n621\\n00:51:42,560 --> 00:51:44,551\\nI was at a hardware store.\\n\\n622\\n00:51:45,520 --> 00:51:48,796\\nAnd there was this little<br/>girl with her dad.\\n\\n623\\n00:51:50,280 --> 00:51:53,033\\nAnd he was in a hurry,<br/>and she wasn\\'t keeping up.\\n\\n624\\n00:51:53,920 --> 00:51:55,319\\nSo, he kept\\n\\n625\\n00:51:56,440 --> 00:51:58,317\\nyanking on her arm.\\n\\n626\\n00:51:59,520 --> 00:52:01,636\\nBut really hard, you know?\\n\\n627\\n00:52:02,960 --> 00:52:04,279\\nToo hard.\\n\\n628\\n00:52:08,400 --> 00:52:10,072\\nI know that feeling.\\n\\n629\\n00:52:13,560 --> 00:52:15,676\\nWhen my dad got that way,\\n\\n630\\n00:52:16,640 --> 00:52:20,030\\nmy brother Colin was always there<br/>to take the worst of it\\n\\n631\\n00:52:20,800 --> 00:52:22,153\\nfor me.\\n\\n632\\n00:52:24,640 --> 00:52:26,471\\nAnd I thought, seeing this little girl,\\n\\n633\\n00:52:26,560 --> 00:52:30,075\\nI thought maybe I could do that\\n\\n634\\n00:52:30,880 --> 00:52:32,233\\nfor her.\\n\\n635\\n00:52:36,560 --> 00:52:38,391\\nBut I just kept watching.\\n\\n636\\n00:52:40,760 --> 00:52:43,399\\nAnd they\\'re about to leave,<br/>and I\\'ve done nothing.\\n\\n637\\n00:52:46,480 --> 00:52:49,119\\nAnd she slips.\\n\\n638\\n00:52:50,800 --> 00:52:53,473\\nAnd it throws him off-balance,<br/>and he hits her.\\n\\n639\\n00:52:55,760 --> 00:52:58,638\\nAnd I wanted so badly to do something\\n\\n640\\n00:52:58,720 --> 00:53:00,438\\nto help her, but...\\n\\n641\\n00:53:00,880 --> 00:53:03,599\\nI did what I always do<br/>when things get hard.\\n\\n642\\n00:53:06,040 --> 00:53:08,474\\nI just panicked and ran.\\n\\n643\\n00:53:08,560 --> 00:53:09,879\\n(SCOFFS)\\n\\n644\\n00:53:11,760 --> 00:53:13,079\\n(SNIFFLES)\\n\\n645\\n00:53:13,760 --> 00:53:15,876\\nLook, we\\'re here.\\n\\n646\\n00:53:16,680 --> 00:53:18,193\\nWe\\'re alive.\\n\\n647\\n00:53:19,400 --> 00:53:21,231\\nAnd that means something.\\n\\n648\\n00:53:24,280 --> 00:53:25,713\\nIt\\'s gotta.\\n\\n649\\n00:53:33,680 --> 00:53:35,193\\n(SIGHS)\\n\\n650\\n00:53:40,040 --> 00:53:42,076\\n(UPBEAT MUSIC PLAYING)\\n\\n651\\n00:54:30,840 --> 00:54:32,671\\n(MAN ULULATING ON TV)\\n\\n652\\n00:54:33,520 --> 00:54:34,839\\n(MAN SCREAMING ON TV)\\n\\n653\\n00:54:58,720 --> 00:55:01,359\\n- You\\'ve got to be kidding me.<br/>- What?\\n\\n654\\n00:55:01,800 --> 00:55:03,791\\nWe\\'re missing pieces here.\\n\\n655\\n00:55:04,560 --> 00:55:08,235\\nLook at this poor cat.<br/>He\\'s been deformed. He\\'s got one eye.\\n\\n656\\n00:55:09,640 --> 00:55:11,870\\nHe\\'s about to go snorkeling<br/>and everything, too.\\n\\n657\\n00:55:14,400 --> 00:55:15,674\\nWhat are you doing?\\n\\n658\\n00:55:20,080 --> 00:55:21,672\\nOoh!\\n\\n659\\n00:55:21,760 --> 00:55:24,320\\nCornering the market on<br/>post-apocalyptic fashion, huh?\\n\\n660\\n00:55:24,400 --> 00:55:25,400\\nMmm-hmm.\\n\\n661\\n00:55:25,520 --> 00:55:27,795\\nYou need more axes and chain saws.\\n\\n662\\n00:55:27,880 --> 00:55:29,757\\nFor what? She has a shotgun.\\n\\n663\\n00:55:29,840 --> 00:55:31,910\\nYeah. But what if up there it\\'s like...\\n\\n664\\n00:55:32,960 --> 00:55:34,837\\nWhat? Lumberjacks?\\n\\n665\\n00:55:34,920 --> 00:55:35,955\\nZombies.\\n\\n666\\n00:55:37,400 --> 00:55:39,914\\nThough even Howard doesn\\'t think<br/>that one\\'s plausible.\\n\\n667\\n00:55:40,400 --> 00:55:43,551\\nBut you should hear his theory<br/>about mutant space worms.\\n\\n668\\n00:55:43,640 --> 00:55:45,039\\n(CHUCKLES SOFTLY)\\n\\n669\\n00:55:45,120 --> 00:55:46,678\\n(RUMBLING)\\n\\n670\\n00:55:48,840 --> 00:55:50,273\\nWhat is that? Howard!\\n\\n671\\n00:55:50,360 --> 00:55:52,430\\nStay calm. We\\'re okay.\\n\\n672\\n00:55:53,920 --> 00:55:55,751\\n(RUMBLING AND CLANGING)\\n\\n673\\n00:55:59,600 --> 00:56:00,749\\n- What was that?<br/>- Quiet.\\n\\n674\\n00:56:04,600 --> 00:56:06,591\\nThat sounds like helicopters.\\n\\n675\\n00:56:07,280 --> 00:56:08,554\\nHOWARD: Could be military.\\n\\n676\\n00:56:09,240 --> 00:56:10,673\\nBut not ours.\\n\\n677\\n00:56:11,240 --> 00:56:14,038\\n- EMMETT: How can you tell?<br/>- Fourteen years in the Navy.\\n\\n678\\n00:56:14,120 --> 00:56:15,997\\nWhat\\'s happening up there?\\n\\n679\\n00:56:16,080 --> 00:56:17,274\\nMy guess?\\n\\n680\\n00:56:18,400 --> 00:56:21,437\\nThose flashes that kicked this all off?\\n\\n681\\n00:56:21,800 --> 00:56:23,472\\nThat was phase one.\\n\\n682\\n00:56:24,120 --> 00:56:26,793\\nTake out your opponent\\'s<br/>population centers\\n\\n683\\n00:56:26,880 --> 00:56:29,678\\nwith big hits, all at once, fast.\\n\\n684\\n00:56:30,480 --> 00:56:31,959\\nAnd then for round two,\\n\\n685\\n00:56:32,480 --> 00:56:34,118\\nground sweeps.\\n\\n686\\n00:56:34,200 --> 00:56:37,829\\nA satellite log showed an increase<br/>in coded traffic recently.\\n\\n687\\n00:56:38,200 --> 00:56:40,395\\nPossibly extraterrestrial signals.\\n\\n688\\n00:56:41,000 --> 00:56:44,231\\nI bet what we just heard<br/>were airborne patrols\\n\\n689\\n00:56:44,320 --> 00:56:47,232\\nsent to hunt down<br/>the remaining signs of life.\\n\\n690\\n00:56:48,280 --> 00:56:49,599\\nLike us.\\n\\n691\\n00:56:50,960 --> 00:56:53,315\\n- (SOFT WHIRRING)<br/>- (ALARM BUZZING)\\n\\n692\\n00:56:55,360 --> 00:56:57,555\\nOkay. Oh, boy.\\n\\n693\\n00:56:58,000 --> 00:56:59,433\\nThat\\'s bad.\\n\\n694\\n00:57:03,440 --> 00:57:04,759\\n(GRUNTS)\\n\\n695\\n00:57:04,840 --> 00:57:06,512\\nAnd that\\'s worse.\\n\\n696\\n00:57:07,720 --> 00:57:09,199\\nWhat\\'s up there?\\n\\n697\\n00:57:09,840 --> 00:57:11,876\\nAir filtration system.\\n\\n698\\n00:57:12,720 --> 00:57:14,039\\nI can\\'t... (GRUNTS)\\n\\n699\\n00:57:14,680 --> 00:57:16,671\\nSomething blocking the hatch.\\n\\n700\\n00:57:19,240 --> 00:57:22,869\\nIf we can\\'t get it back on, we\\'re gonna<br/>run out of breathable air fast.\\n\\n701\\n00:57:29,720 --> 00:57:30,789\\n(HOWARD GRUNTS)\\n\\n702\\n00:57:30,880 --> 00:57:33,075\\nYou\\'re the only one<br/>small enough to reach it.\\n\\n703\\n00:57:33,720 --> 00:57:34,789\\nReach what?\\n\\n704\\n00:57:34,880 --> 00:57:37,678\\nThe filtration system.<br/>Through there, the main duct.\\n\\n705\\n00:57:37,760 --> 00:57:40,638\\nSomeone needs to get in there<br/>and restart it.\\n\\n706\\n00:57:44,360 --> 00:57:45,475\\nGive me a hand.\\n\\n707\\n00:57:46,200 --> 00:57:48,400\\nLet me go. She\\'s not gonna<br/>know her way around the unit.\\n\\n708\\n00:57:48,480 --> 00:57:50,789\\nYou won\\'t fit. Plus your arm.<br/>She\\'ll be fine.\\n\\n709\\n00:57:51,480 --> 00:57:55,632\\nNow, to restart the unit,<br/>you just swing the handle off,\\n\\n710\\n00:57:55,720 --> 00:57:58,029\\nthen on, off, then on.\\n\\n711\\n00:57:59,200 --> 00:58:00,679\\nThat should do it.\\n\\n712\\n00:58:03,400 --> 00:58:06,915\\nAnd neither of us will be able to go in<br/>and help you if you get stuck.\\n\\n713\\n00:58:10,600 --> 00:58:11,953\\nDon\\'t get stuck.\\n\\n714\\n00:58:26,480 --> 00:58:27,754\\n(GRUNTING SOFTLY)\\n\\n715\\n00:58:53,280 --> 00:58:54,633\\nHOWARD: Michelle!\\n\\n716\\n00:58:55,120 --> 00:58:56,314\\nEverything okay up there?\\n\\n717\\n00:58:58,280 --> 00:59:00,191\\nIt looks like a dead end.\\n\\n718\\n00:59:00,280 --> 00:59:01,633\\nHOWARD: That\\'s the incline.\\n\\n719\\n00:59:01,720 --> 00:59:04,393\\nClimb up that and you\\'re almost there.\\n\\n720\\n00:59:07,000 --> 00:59:08,513\\nAh, this sucks.\\n\\n721\\n00:59:11,240 --> 00:59:12,798\\n(GRUNTING)\\n\\n722\\n00:59:15,840 --> 00:59:17,478\\n(WHIRRING)\\n\\n723\\n00:59:40,480 --> 00:59:41,674\\n(SIGHING)\\n\\n724\\n01:01:20,600 --> 01:01:21,828\\nEMMETT: What\\'s wrong?\\n\\n725\\n01:01:22,920 --> 01:01:24,148\\n(WHISPERS) Howard.\\n\\n726\\n01:01:25,280 --> 01:01:27,271\\nHe lied, he lied about Megan.\\n\\n727\\n01:01:28,760 --> 01:01:30,113\\nWhat do you mean?\\n\\n728\\n01:01:30,880 --> 01:01:33,110\\nI think he did something horrible to her.\\n\\n729\\n01:01:34,160 --> 01:01:37,948\\nNo, his family moved<br/>to Chicago years ago.\\n\\n730\\n01:01:40,880 --> 01:01:42,233\\nWhat\\'s this?\\n\\n731\\n01:01:45,040 --> 01:01:46,632\\nIs that blood?\\n\\n732\\n01:01:47,440 --> 01:01:48,793\\nHere, come with me.\\n\\n733\\n01:01:57,760 --> 01:01:59,876\\nWait, that... That\\'s not Megan.\\n\\n734\\n01:02:01,160 --> 01:02:02,559\\nWhat do you mean?\\n\\n735\\n01:02:02,640 --> 01:02:04,232\\nYeah. Her name is Brittany.<br/>I remember her.\\n\\n736\\n01:02:04,320 --> 01:02:06,470\\nShe went to high school<br/>with my little sister.\\n\\n737\\n01:02:07,000 --> 01:02:08,000\\nShe...\\n\\n738\\n01:02:09,120 --> 01:02:11,588\\nShe went missing. Two years back.\\n\\n739\\n01:02:12,680 --> 01:02:13,795\\nIt was on the news and everything.\\n\\n740\\n01:02:13,880 --> 01:02:15,791\\nMost people just thought<br/>she skipped town.\\n\\n741\\n01:02:18,000 --> 01:02:19,991\\nThere was a message up there.\\n\\n742\\n01:02:20,960 --> 01:02:22,075\\nIt said \"Help.\"\\n\\n743\\n01:02:22,160 --> 01:02:24,390\\nIt was scratched<br/>on the inside of the window.\\n\\n744\\n01:02:24,480 --> 01:02:25,480\\nAnd this earring...\\n\\n745\\n01:02:26,480 --> 01:02:28,357\\nThis earring was with it.\\n\\n746\\n01:02:28,440 --> 01:02:31,113\\nDid she ever show back up<br/>after she went missing?\\n\\n747\\n01:02:34,840 --> 01:02:37,752\\nHe said to me... He said to my face,<br/>that this was his daughter.\\n\\n748\\n01:02:37,840 --> 01:02:39,671\\nHe said this was Megan.\\n\\n749\\n01:03:06,360 --> 01:03:09,272\\n- He took her and he killed her.<br/>- (CLATTERING)\\n\\n750\\n01:03:15,520 --> 01:03:17,317\\n(WHISPERS) All right, let\\'s just think.\\n\\n751\\n01:03:18,120 --> 01:03:20,873\\nMaybe we take away his gun.\\n\\n752\\n01:03:21,840 --> 01:03:24,160\\nTie him up, get him to confess<br/>to whatever it is he\\'s done.\\n\\n753\\n01:03:24,280 --> 01:03:26,430\\nConfess to who? The police?\\n\\n754\\n01:03:27,840 --> 01:03:32,118\\nLook, like I said,<br/>we can\\'t be the only survivors, right?\\n\\n755\\n01:03:32,720 --> 01:03:34,392\\nThe woman,<br/>she was able to get around, right?\\n\\n756\\n01:03:34,480 --> 01:03:35,480\\nAt least a little.\\n\\n757\\n01:03:35,560 --> 01:03:37,312\\nYeah, until she died.\\n\\n758\\n01:03:37,400 --> 01:03:39,960\\nDirectly above us,<br/>making choking noises.\\n\\n759\\n01:03:40,240 --> 01:03:41,480\\nOf all the people to save us...\\n\\n760\\n01:03:41,520 --> 01:03:43,556\\nHOWARD: Now, that was<br/>a great example of teamwork.\\n\\n761\\n01:03:44,880 --> 01:03:47,758\\nVery well done. I feel like some music.\\n\\n762\\n01:03:47,840 --> 01:03:49,592\\n(PUNCHING BUTTONS)\\n\\n763\\n01:03:49,720 --> 01:03:52,712\\nProblem solving always puts me<br/>in a musical mood.\\n\\n764\\n01:03:52,920 --> 01:03:54,956\\n(CHEERFUL MUSIC PLAYING)\\n\\n765\\n01:03:56,880 --> 01:03:58,279\\nMichelle,\\n\\n766\\n01:03:58,360 --> 01:04:00,555\\nyou should go shower, just in case.\\n\\n767\\n01:04:03,600 --> 01:04:04,600\\nSure.\\n\\n768\\n01:04:04,880 --> 01:04:06,791\\n(CHEERFUL MUSIC<br/>CONTINUES PLAYING)\\n\\n769\\n01:04:26,120 --> 01:04:27,678\\n(SHOWER RUNNING)\\n\\n770\\n01:04:44,000 --> 01:04:45,752\\nI think I might have an idea.\\n\\n771\\n01:04:50,480 --> 01:04:51,993\\n\"Ten Better Ways to Style My Bangs\"?\\n\\n772\\n01:04:52,080 --> 01:04:53,832\\nNo, not the article. This.\\n\\n773\\n01:04:54,400 --> 01:04:57,790\\nI think I can only make one,<br/>but it\\'s a start.\\n\\n774\\n01:04:57,880 --> 01:04:59,233\\nNo kidding.\\n\\n775\\n01:05:01,520 --> 01:05:03,556\\n<i>What are you doing up?<br/>I didn\\'t wake you up yet.</i>\\n\\n776\\n01:05:03,640 --> 01:05:05,120\\nMAN: <i>Well, I\\'m fixing your breakfast.</i>\\n\\n777\\n01:05:05,200 --> 01:05:06,838\\n<i>One egg over medium.</i>\\n\\n778\\n01:05:07,120 --> 01:05:08,269\\nHey, Howard.\\n\\n779\\n01:05:10,280 --> 01:05:12,714\\nWhat is this?<br/>You re-watching <i>Sixteen Candles?</i>\\n\\n780\\n01:05:12,800 --> 01:05:14,438\\n<i>Pretty in Pink.</i>\\n\\n781\\n01:05:14,880 --> 01:05:18,634\\nIt was one of Megan\\'s favorite movies.<br/>Can I help you with something?\\n\\n782\\n01:05:18,720 --> 01:05:19,755\\nNo.\\n\\n783\\n01:05:20,160 --> 01:05:21,798\\nNo, I\\'m just grabbing some water.\\n\\n784\\n01:05:21,880 --> 01:05:23,359\\n(CLEARS THROAT)\\n\\n785\\n01:05:24,080 --> 01:05:25,957\\n(MOVIE CONTINUES PLAYING)\\n\\n786\\n01:05:56,000 --> 01:05:57,228\\nSay, um...\\n\\n787\\n01:05:58,520 --> 01:06:00,715\\nYou know, I was just thinking...<br/>(CLEARS THROAT)\\n\\n788\\n01:06:02,560 --> 01:06:05,757\\nNot that I\\'m trying to tell you<br/>how to run this place or anything.\\n\\n789\\n01:06:05,840 --> 01:06:08,638\\nI\\'m just a little curious.\\n\\n790\\n01:06:11,160 --> 01:06:12,388\\nMichelle...\\n\\n791\\n01:06:12,920 --> 01:06:16,799\\nSay, how close do you think she got<br/>to that air filtration unit?\\n\\n792\\n01:06:16,880 --> 01:06:18,518\\nYou think she touched it?\\n\\n793\\n01:06:18,600 --> 01:06:21,398\\nYeah, I\\'m pretty sure she touched it.\\n\\n794\\n01:06:23,600 --> 01:06:26,319\\nWell, I know she cleaned up<br/>after and everything,\\n\\n795\\n01:06:26,400 --> 01:06:28,516\\nbut I\\'m just thinking,\\n\\n796\\n01:06:28,600 --> 01:06:32,878\\ngiven that unit filters<br/>God knows what through from outside,\\n\\n797\\n01:06:32,960 --> 01:06:36,748\\nif she tracked anything back in with her,<br/>it\\'d be pretty concentrated.\\n\\n798\\n01:06:36,840 --> 01:06:40,116\\nAnd, I mean, it could be<br/>all over the shower and the sink\\n\\n799\\n01:06:40,200 --> 01:06:42,077\\nin your bathroom, right now.\\n\\n800\\n01:06:45,360 --> 01:06:47,032\\nAnyway, it\\'s just a thought.\\n\\n801\\n01:06:50,920 --> 01:06:52,831\\n(MOVIE RESUMES PLAYING)\\n\\n802\\n01:06:55,400 --> 01:06:56,799\\n(SHUTS TV OFF)\\n\\n803\\n01:08:17,600 --> 01:08:19,750\\nEMMETT: Not bad so far, partner.\\n\\n804\\n01:08:19,840 --> 01:08:22,308\\nMICHELLE: If Howard finds this,<br/>he\\'s gonna kill us.\\n\\n805\\n01:08:24,720 --> 01:08:27,678\\nAll right, so,<br/>we get the gun away from him.\\n\\n806\\n01:08:28,360 --> 01:08:31,193\\nAll right. We tie him up,<br/>make sure he isn\\'t going anywhere.\\n\\n807\\n01:08:32,280 --> 01:08:34,430\\nAnd then one of us just\\n\\n808\\n01:08:36,160 --> 01:08:38,310\\ngoes out and looks for help.\\n\\n809\\n01:08:43,800 --> 01:08:45,119\\n(SIGHS)\\n\\n810\\n01:08:48,160 --> 01:08:49,593\\n(TIMER TICKING)\\n\\n811\\n01:08:49,840 --> 01:08:51,068\\nUm...\\n\\n812\\n01:08:52,640 --> 01:08:53,709\\nFirst word.\\n\\n813\\n01:08:55,040 --> 01:08:56,109\\nUh...\\n\\n814\\n01:08:56,200 --> 01:08:57,349\\nTiny.\\n\\n815\\n01:08:58,320 --> 01:08:59,992\\nSmall. Pygmy. Um...\\n\\n816\\n01:09:00,600 --> 01:09:01,828\\n- Little.<br/>- Yep! Mmm-hmm.\\n\\n817\\n01:09:02,480 --> 01:09:04,391\\nAll right, uh, second word.\\n\\n818\\n01:09:05,520 --> 01:09:08,512\\nOoh! Michelle is a...\\n\\n819\\n01:09:08,800 --> 01:09:10,438\\n(STAMMERING)\\n\\n820\\n01:09:11,320 --> 01:09:12,639\\nA girl.\\n\\n821\\n01:09:13,080 --> 01:09:14,718\\n(STAMMERING CONTINUES)\\n\\n822\\n01:09:14,800 --> 01:09:16,711\\nA girl. A child. Um...\\n\\n823\\n01:09:17,920 --> 01:09:19,273\\n(GRUNTS)\\n\\n824\\n01:09:21,240 --> 01:09:22,240\\nA girl.\\n\\n825\\n01:09:22,320 --> 01:09:24,754\\nNo, she\\'s older, see, so she is a...\\n\\n826\\n01:09:27,400 --> 01:09:28,400\\n\"Little Princess\"?\\n\\n827\\n01:09:28,440 --> 01:09:29,634\\n(TIMER RINGING)\\n\\n828\\n01:09:35,440 --> 01:09:37,749\\nUm... No, it was woman.\\n\\n829\\n01:09:38,240 --> 01:09:39,673\\nUm, Little Women.\\n\\n830\\n01:09:41,680 --> 01:09:43,318\\nWow. Little woman.\\n\\n831\\n01:09:45,440 --> 01:09:46,793\\n(SIGHS)\\n\\n832\\n01:09:47,200 --> 01:09:48,519\\n(SNORTS)\\n\\n833\\n01:09:49,000 --> 01:09:52,117\\nNext time,<br/>try being a little more specific.\\n\\n834\\n01:09:55,520 --> 01:09:57,033\\nLet\\'s see here.\\n\\n835\\n01:10:02,120 --> 01:10:03,712\\n(TIMER STARTS TICKING)\\n\\n836\\n01:10:08,920 --> 01:10:10,592\\nI\\'m always watching.\\n\\n837\\n01:10:11,680 --> 01:10:12,829\\nAlways.\\n\\n838\\n01:10:20,000 --> 01:10:21,319\\nUm...\\n\\n839\\n01:10:21,960 --> 01:10:23,279\\nGod.\\n\\n840\\n01:10:23,640 --> 01:10:25,437\\nI go wherever I want.\\n\\n841\\n01:10:27,800 --> 01:10:28,915\\nUh...\\n\\n842\\n01:10:29,000 --> 01:10:30,718\\nI mean... Well, I don\\'t know.\\n\\n843\\n01:10:30,800 --> 01:10:33,394\\nI know what you\\'re doing.<br/>I see what you\\'re doing.\\n\\n844\\n01:10:35,920 --> 01:10:36,920\\nUm...\\n\\n845\\n01:10:37,000 --> 01:10:39,468\\nI know what you\\'re up to.\\n\\n846\\n01:10:39,760 --> 01:10:42,521\\n(STAMMERING) Look, Howard,<br/>I don\\'t know what you\\'re getting at, but...\\n\\n847\\n01:10:42,600 --> 01:10:44,318\\nI see you when you\\'re sleeping.\\n\\n848\\n01:10:45,000 --> 01:10:48,993\\nI know what you\\'re doing,<br/>and I\\'m always watching.\\n\\n849\\n01:10:49,080 --> 01:10:51,469\\nAlways watching! I\\'m always watching!\\n\\n850\\n01:10:51,600 --> 01:10:52,828\\nSanta Claus!\\n\\n851\\n01:10:53,920 --> 01:10:55,399\\n(CHUCKLES)\\n\\n852\\n01:10:55,520 --> 01:10:56,748\\nYou\\'re Santa Claus.\\n\\n853\\n01:10:58,160 --> 01:10:59,354\\n(TIMER RINGING)\\n\\n854\\n01:11:00,240 --> 01:11:01,958\\nYeah, Michelle, that\\'s great.\\n\\n855\\n01:11:03,120 --> 01:11:05,076\\nExcept it was Emmett\\'s turn.\\n\\n856\\n01:11:05,160 --> 01:11:06,434\\nSorry, I just got a little excited.\\n\\n857\\n01:11:06,520 --> 01:11:08,351\\nYeah, well, I\\'m keeping that point.\\n\\n858\\n01:11:09,560 --> 01:11:10,993\\nTotally. You earned it.\\n\\n859\\n01:11:17,000 --> 01:11:18,513\\n(TAPPING PEN)\\n\\n860\\n01:11:31,440 --> 01:11:33,112\\n(FOOTSTEPS)\\n\\n861\\n01:11:35,560 --> 01:11:36,709\\nEmmett?\\n\\n862\\n01:11:46,520 --> 01:11:47,873\\n(SHRIEKS)\\n\\n863\\n01:11:52,240 --> 01:11:53,275\\nHey.\\n\\n864\\n01:11:54,400 --> 01:11:56,231\\nI need your help with something.\\n\\n865\\n01:11:59,440 --> 01:12:00,589\\nSure.\\n\\n866\\n01:12:06,080 --> 01:12:07,115\\nYou.\\n\\n867\\n01:12:07,880 --> 01:12:09,199\\nOn deck.\\n\\n868\\n01:12:27,880 --> 01:12:29,233\\nWhat is this?\\n\\n869\\n01:12:29,600 --> 01:12:30,635\\nHOWARD: The barrel.\\n\\n870\\n01:12:32,520 --> 01:12:33,839\\nWhat\\'s in it?\\n\\n871\\n01:12:34,520 --> 01:12:36,511\\nMove it into the bathroom.\\n\\n872\\n01:12:46,440 --> 01:12:48,510\\nHOWARD: This is perchloric acid.\\n\\n873\\n01:12:50,720 --> 01:12:52,153\\nDo either of you know what that is?\\n\\n874\\n01:12:55,120 --> 01:12:59,875\\nIt\\'s usually produced as a precursor<br/>to ammonium perchlorate,\\n\\n875\\n01:13:01,160 --> 01:13:02,513\\na fuel\\n\\n876\\n01:13:03,480 --> 01:13:06,153\\nused for launching<br/>naval satellites into orbit.\\n\\n877\\n01:13:07,960 --> 01:13:09,791\\nIt\\'s highly corrosive.\\n\\n878\\n01:13:12,880 --> 01:13:17,192\\nDissolves most biological<br/>material on contact.\\n\\n879\\n01:13:18,160 --> 01:13:22,153\\nWith humans, right down to the bone.\\n\\n880\\n01:13:25,480 --> 01:13:29,155\\nHey, Howard, uh,<br/>what are you showing this to us for?\\n\\n881\\n01:13:33,080 --> 01:13:34,911\\nYou think I\\'m an idiot?\\n\\n882\\n01:13:35,640 --> 01:13:37,232\\nEMMETT: Uh...<br/>(CHUCKLES NERVOUSLY)\\n\\n883\\n01:13:37,320 --> 01:13:38,753\\nHoward, please,<br/>you\\'re gonna have to tell us\\n\\n884\\n01:13:38,840 --> 01:13:40,114\\nwhat it is that you\\'re talking about.\\n\\n885\\n01:13:40,200 --> 01:13:42,760\\nI\\'m talking about<br/>getting rid of some waste.\\n\\n886\\n01:13:46,040 --> 01:13:47,996\\nTell me what you two<br/>were doing with these.\\n\\n887\\n01:13:54,200 --> 01:13:56,031\\nYou tell me what you two<br/>were planning, right now!\\n\\n888\\n01:13:56,160 --> 01:13:57,832\\nHoward, listen, just take it easy.<br/>Take it easy.\\n\\n889\\n01:13:57,920 --> 01:13:59,239\\nHoward, come on, please.\\n\\n890\\n01:13:59,320 --> 01:14:01,276\\nNo. I\\'m giving you one chance.\\n\\n891\\n01:14:03,320 --> 01:14:04,355\\nEMMETT: Hey.\\n\\n892\\n01:14:04,920 --> 01:14:06,069\\nHoward, just calm down.\\n\\n893\\n01:14:06,160 --> 01:14:09,948\\nOne chance to answer<br/>with some dignity, or I swear to God,\\n\\n894\\n01:14:10,040 --> 01:14:12,474\\nyou\\'re going into this barrel<br/>while you\\'re alive to feel it.\\n\\n895\\n01:14:12,560 --> 01:14:13,754\\nIt was me.\\n\\n896\\n01:14:17,320 --> 01:14:19,038\\nAll right? Not her. It\\'s just me.\\n\\n897\\n01:14:19,120 --> 01:14:20,633\\n- No, no, no, we...<br/>- Stay out of this, all right?\\n\\n898\\n01:14:20,720 --> 01:14:22,870\\nShe doesn\\'t have a clue<br/>what you\\'re talking about.\\n\\n899\\n01:14:23,720 --> 01:14:25,199\\nI wanted your gun.\\n\\n900\\n01:14:27,200 --> 01:14:31,398\\nAnd so, I was thinking<br/>about making a weapon\\n\\n901\\n01:14:32,720 --> 01:14:34,711\\nto get it from you.\\n\\n902\\n01:14:42,880 --> 01:14:45,997\\nI want her to respect me<br/>the way that she respects you.\\n\\n903\\n01:14:49,480 --> 01:14:51,675\\nI\\'m not saying that I was right, okay?\\n\\n904\\n01:14:53,000 --> 01:14:54,479\\nAnd I\\'m sorry.\\n\\n905\\n01:14:58,920 --> 01:15:00,148\\nYou\\'re sorry?\\n\\n906\\n01:15:00,240 --> 01:15:01,593\\nI\\'m sorry.\\n\\n907\\n01:15:04,400 --> 01:15:06,038\\nI accept your apology.\\n\\n908\\n01:15:07,200 --> 01:15:08,315\\n(SIGHS)\\n\\n909\\n01:15:16,960 --> 01:15:18,632\\n(INAUDIBLE)\\n\\n910\\n01:15:19,760 --> 01:15:22,513\\nListen to me.<br/>You heard him. You heard him.\\n\\n911\\n01:15:22,600 --> 01:15:25,194\\nHe was making a weapon.<br/>He was gonna hurt us.\\n\\n912\\n01:15:25,280 --> 01:15:27,794\\nHe was gonna hurt you. And it\\'s okay.\\n\\n913\\n01:15:27,920 --> 01:15:30,593\\nThis was the way<br/>it was always supposed to be.\\n\\n914\\n01:15:30,680 --> 01:15:31,829\\nYou\\'re safe.\\n\\n915\\n01:15:32,320 --> 01:15:34,390\\nNow it\\'s just you and me.\\n\\n916\\n01:15:35,000 --> 01:15:36,353\\nIt\\'s okay, you know.\\n\\n917\\n01:15:37,600 --> 01:15:40,114\\nYou should go to your room now.\\n\\n918\\n01:15:40,760 --> 01:15:43,274\\nThis next part isn\\'t something<br/>you need to see.\\n\\n919\\n01:15:44,280 --> 01:15:45,349\\nOkay.\\n\\n920\\n01:15:46,120 --> 01:15:47,269\\nGo on.\\n\\n921\\n01:16:26,760 --> 01:16:27,829\\n(SNIFFLES)\\n\\n922\\n01:16:33,760 --> 01:16:35,113\\n(SIGHING)\\n\\n923\\n01:16:40,680 --> 01:16:41,999\\nHOWARD: Michelle?\\n\\n924\\n01:16:42,680 --> 01:16:43,749\\nHey.\\n\\n925\\n01:16:46,000 --> 01:16:48,560\\nI thought we\\'d change things up tonight\\n\\n926\\n01:16:49,120 --> 01:16:51,190\\nand have dessert before dinner.\\n\\n927\\n01:16:51,520 --> 01:16:54,080\\nAfter all,<br/>we can do whatever we want now.\\n\\n928\\n01:17:00,880 --> 01:17:03,030\\nWould you like a cone or a bowl?\\n\\n929\\n01:17:06,480 --> 01:17:08,277\\nMegan always wanted hers in a bowl.\\n\\n930\\n01:17:08,360 --> 01:17:10,396\\nShe said the cones were too messy.\\n\\n931\\n01:17:13,080 --> 01:17:15,913\\nI know that this isn\\'t<br/>the life you\\'d prefer,\\n\\n932\\n01:17:17,040 --> 01:17:20,032\\nthat it isn\\'t easy for<br/>you living down here,\\n\\n933\\n01:17:20,680 --> 01:17:23,069\\nbut I want us to be a happy family.\\n\\n934\\n01:17:23,880 --> 01:17:25,233\\nYou and me.\\n\\n935\\n01:17:28,080 --> 01:17:30,071\\nThe mess is all taken care of.\\n\\n936\\n01:17:31,080 --> 01:17:34,675\\nSo, just hang loose<br/>and I\\'ll go get dinner started.\\n\\n937\\n01:18:21,800 --> 01:18:23,074\\nHOWARD: Michelle?\\n\\n938\\n01:18:32,120 --> 01:18:33,189\\n(DOOR OPENS)\\n\\n939\\n01:18:40,400 --> 01:18:41,469\\nEverything all right?\\n\\n940\\n01:18:42,800 --> 01:18:45,030\\nYeah, I was just about<br/>to do some reading.\\n\\n941\\n01:18:47,520 --> 01:18:48,714\\nHmm.\\n\\n942\\n01:18:49,880 --> 01:18:51,632\\nIt\\'s time to set the table.\\n\\n943\\n01:18:52,800 --> 01:18:54,313\\nSupper\\'s ready.\\n\\n944\\n01:18:56,840 --> 01:18:57,840\\nYeah.\\n\\n945\\n01:18:58,600 --> 01:18:59,600\\nOkay.\\n\\n946\\n01:19:01,240 --> 01:19:02,434\\n(METALLIC CLANK)\\n\\n947\\n01:19:11,280 --> 01:19:13,430\\nIt keeps doing that.<br/>(STUTTERING) I don\\'t know why.\\n\\n948\\n01:19:26,520 --> 01:19:29,080\\nMichelle, why is this loose?\\n\\n949\\n01:19:33,800 --> 01:19:35,836\\n- Get up.<br/>- Why?\\n\\n950\\n01:19:35,920 --> 01:19:38,480\\n- Get off the mattress now!<br/>- (GROANS)\\n\\n951\\n01:19:39,880 --> 01:19:41,598\\n(BOTH GRUNTING)\\n\\n952\\n01:19:43,880 --> 01:19:44,995\\nOh, shit!\\n\\n953\\n01:19:46,440 --> 01:19:47,509\\nMichelle!\\n\\n954\\n01:19:47,600 --> 01:19:50,273\\nStop! Goddamn it, get back here!\\n\\n955\\n01:19:50,360 --> 01:19:52,191\\n(PANTING)\\n\\n956\\n01:20:01,400 --> 01:20:03,152\\n(GASPING)\\n\\n957\\n01:20:09,320 --> 01:20:10,640\\nHOWARD: You gonna walk out on me?\\n\\n958\\n01:20:14,440 --> 01:20:19,389\\nAfter I saved you and kept you safe,<br/>this is how you repay me.\\n\\n959\\n01:20:21,160 --> 01:20:22,229\\nNo.\\n\\n960\\n01:20:23,360 --> 01:20:24,554\\nThis is. (GRUNTS)\\n\\n961\\n01:20:26,000 --> 01:20:27,000\\n(SCREAMING)\\n\\n962\\n01:20:33,880 --> 01:20:35,757\\n(HOWARD GROANING)\\n\\n963\\n01:20:38,800 --> 01:20:40,631\\n(HOWARD WHEEZING)\\n\\n964\\n01:20:52,400 --> 01:20:54,197\\n(FIRE ALARM BUZZING)\\n\\n965\\n01:20:59,280 --> 01:21:01,236\\n(HOWARD WHEEZING)\\n\\n966\\n01:21:05,560 --> 01:21:07,039\\n(GROWLING)\\n\\n967\\n01:21:38,680 --> 01:21:40,432\\n(PANTING)\\n\\n968\\n01:21:59,000 --> 01:22:00,752\\n(YELPS)\\n\\n969\\n01:22:05,120 --> 01:22:06,120\\nHOWARD: Michelle!\\n\\n970\\n01:22:12,480 --> 01:22:13,799\\n(GRUNTING)\\n\\n971\\n01:22:14,040 --> 01:22:15,632\\n(SCREAMS)\\n\\n972\\n01:22:20,200 --> 01:22:21,679\\n(HOWARD GROANING LOUDLY)\\n\\n973\\n01:22:22,840 --> 01:22:24,398\\n(GRUNTS)\\n\\n974\\n01:22:30,040 --> 01:22:31,234\\n- Stop!<br/>- (YELPS)\\n\\n975\\n01:22:31,960 --> 01:22:34,235\\nYou don\\'t know what\\'s out there.\\n\\n976\\n01:22:34,720 --> 01:22:36,631\\nYou can\\'t run from them!\\n\\n977\\n01:22:36,720 --> 01:22:37,835\\n(GRUNTS)\\n\\n978\\n01:22:38,520 --> 01:22:40,033\\nHOWARD: Stay with me!\\n\\n979\\n01:22:40,360 --> 01:22:43,033\\nLet me go!\\n\\n980\\n01:22:43,120 --> 01:22:44,599\\n(HOWARD SCREAMS)\\n\\n981\\n01:22:46,720 --> 01:22:48,438\\n(MICHELLE COUGHING)\\n\\n982\\n01:23:16,000 --> 01:23:18,116\\n(COUGHING)\\n\\n983\\n01:23:25,240 --> 01:23:27,071\\n(BREATHING DEEPLY)\\n\\n984\\n01:23:39,280 --> 01:23:40,872\\n(HISSING)\\n\\n985\\n01:23:48,280 --> 01:23:50,032\\n(GRUNTING)\\n\\n986\\n01:24:17,640 --> 01:24:19,471\\n(PANTING)\\n\\n987\\n01:25:13,240 --> 01:25:14,434\\n(RIPPING)\\n\\n988\\n01:25:15,520 --> 01:25:16,873\\n(GASPS)\\n\\n989\\n01:25:19,520 --> 01:25:21,829\\n(GRUNTING)\\n\\n990\\n01:25:24,840 --> 01:25:26,717\\n(GRUNTING FRANTICALLY)\\n\\n991\\n01:25:30,800 --> 01:25:32,472\\n(BREATHING SHAKILY)\\n\\n992\\n01:25:35,680 --> 01:25:37,511\\n(WHIMPERING)\\n\\n993\\n01:25:41,640 --> 01:25:43,392\\n(BIRDS SQUAWKING)\\n\\n994\\n01:25:48,080 --> 01:25:50,150\\n(CHUCKLES)\\n\\n995\\n01:25:58,160 --> 01:25:59,912\\n(BIRDS SQUAWKING)\\n\\n996\\n01:26:36,280 --> 01:26:37,872\\n(CHUCKLES)\\n\\n997\\n01:26:47,880 --> 01:26:49,359\\n(SIGHS)\\n\\n998\\n01:26:57,800 --> 01:26:59,950\\n(WHIRRING IN DISTANCE)\\n\\n999\\n01:27:25,040 --> 01:27:26,837\\n(MUFFLED EXPLODING)\\n\\n1000\\n01:27:33,000 --> 01:27:35,036\\n(MUFFLED EXPLODING)\\n\\n1001\\n01:27:38,720 --> 01:27:40,358\\n- (EXPLODING)<br/>- (GASPS)\\n\\n1002\\n01:28:18,880 --> 01:28:20,108\\nOh, come on.\\n\\n1003\\n01:28:46,360 --> 01:28:48,191\\n(ALARM WAILING)\\n\\n1004\\n01:28:57,320 --> 01:28:59,356\\n(PANTING)\\n\\n1005\\n01:29:07,760 --> 01:29:09,512\\n(ALARM CONTINUES)\\n\\n1006\\n01:29:11,960 --> 01:29:13,518\\n(SHUDDERING)\\n\\n1007\\n01:29:33,120 --> 01:29:34,872\\n(RUSTLING)\\n\\n1008\\n01:29:46,280 --> 01:29:47,349\\n(THUDDING)\\n\\n1009\\n01:29:48,360 --> 01:29:49,713\\n(GRUNTS)\\n\\n1010\\n01:29:58,160 --> 01:30:00,230\\n(ALARM CONTINUES WAILING)\\n\\n1011\\n01:30:08,000 --> 01:30:09,797\\n(SNARLS)\\n\\n1012\\n01:30:16,040 --> 01:30:17,837\\nKeys, keys, keys.\\n\\n1013\\n01:30:21,360 --> 01:30:22,588\\nCome on, damn it!\\n\\n1014\\n01:30:22,680 --> 01:30:24,159\\n- (THUD ON DOOR)<br/>- (GASPS)\\n\\n1015\\n01:30:25,080 --> 01:30:27,150\\n(THUDDING)\\n\\n1016\\n01:30:29,680 --> 01:30:30,954\\n(GASPS)\\n\\n1017\\n01:30:31,440 --> 01:30:32,589\\n(SQUEAKING)\\n\\n1018\\n01:30:35,840 --> 01:30:36,875\\n(GASPS)\\n\\n1019\\n01:30:39,600 --> 01:30:41,033\\n(PANTING)\\n\\n1020\\n01:30:42,720 --> 01:30:44,358\\nCome on. Come on.\\n\\n1021\\n01:30:45,440 --> 01:30:46,759\\n(ALIEN CHITTERING)\\n\\n1022\\n01:30:49,480 --> 01:30:51,198\\n(CAR ALARM BEEPS)\\n\\n1023\\n01:30:54,040 --> 01:30:55,473\\n(GRUNTING)\\n\\n1024\\n01:30:57,760 --> 01:30:59,637\\n(PANTING)\\n\\n1025\\n01:31:25,280 --> 01:31:27,077\\n(ALIEN CHITTERING)\\n\\n1026\\n01:31:27,840 --> 01:31:30,070\\nHelp! I\\'m out here! Help!\\n\\n1027\\n01:31:36,480 --> 01:31:37,959\\n(RUMBLING)\\n\\n1028\\n01:31:49,680 --> 01:31:51,272\\n(HISSING)\\n\\n1029\\n01:32:17,160 --> 01:32:18,718\\n(PANTING)\\n\\n1030\\n01:32:31,960 --> 01:32:33,359\\n(SNARLING)\\n\\n1031\\n01:32:35,320 --> 01:32:37,072\\n- (GRUNTING)<br/>- (CHITTERING)\\n\\n1032\\n01:32:41,920 --> 01:32:43,273\\n(WHIMPERING)\\n\\n1033\\n01:32:45,360 --> 01:32:46,634\\n(SCREAMS)\\n\\n1034\\n01:32:49,040 --> 01:32:50,075\\nOh, God.\\n\\n1035\\n01:32:50,160 --> 01:32:51,752\\n(RUMBLING)\\n\\n1036\\n01:33:02,160 --> 01:33:03,195\\n(GRUNTING)\\n\\n1037\\n01:33:14,560 --> 01:33:16,312\\n(SNARLS)\\n\\n1038\\n01:33:57,520 --> 01:33:58,839\\n(GROWLS)\\n\\n1039\\n01:34:14,320 --> 01:34:15,594\\n(EXPLODING)\\n\\n1040\\n01:34:21,120 --> 01:34:22,519\\n(SCREAMING)\\n\\n1041\\n01:34:47,360 --> 01:34:48,713\\n(SIGHS)\\n\\n1042\\n01:34:50,680 --> 01:34:52,272\\n(GLASS CLINKING)\\n\\n1043\\n01:34:54,440 --> 01:34:56,237\\n(PANTING)\\n\\n1044\\n01:35:00,240 --> 01:35:01,559\\nOh, fuck.\\n\\n1045\\n01:35:15,720 --> 01:35:17,233\\n(ENGINE SPUTTERS)\\n\\n1046\\n01:35:18,120 --> 01:35:19,838\\n(ENGINE SPUTTERS AND STARTS)\\n\\n1047\\n01:35:26,280 --> 01:35:27,793\\n(TIRES SCREECHING)\\n\\n1048\\n01:36:02,680 --> 01:36:03,829\\n(STATIC ON RADIO)\\n\\n1049\\n01:36:13,400 --> 01:36:16,358\\nFEMALE BROADCASTER: <i>The military<br/>has taken back the southern seaboard.</i>\\n\\n1050\\n01:36:18,200 --> 01:36:21,431\\n<i>If you are hearing this<br/>and aren\\'t in a safe zone,</i>\\n\\n1051\\n01:36:21,520 --> 01:36:23,636\\n<i>head north of Baton Rouge.</i>\\n\\n1052\\n01:36:23,720 --> 01:36:27,952\\n<i>But if you have any medical training<br/>or combat experience,</i>\\n\\n1053\\n01:36:28,040 --> 01:36:29,189\\n<i>we need help.</i>\\n\\n1054\\n01:36:29,960 --> 01:36:31,359\\n<i>There are people in Houston.</i>\\n\\n1055\\n01:36:35,720 --> 01:36:38,154\\n<i>There are survivors at Mercy Hospital.</i>\\n\\n1056\\n01:36:38,240 --> 01:36:39,593\\n<i>Please help.</i>\\n\\n1057\\n01:36:43,760 --> 01:36:47,548\\n<i>Repeat. There are people in Houston<br/>who need our help.</i>\\n\\n1058\\n01:36:49,560 --> 01:36:50,913\\n<i>Come join us.</i>\\n\\n1059\\n01:36:52,240 --> 01:36:54,390\\n<i>We\\'ve taken back<br/>the southern seaboard.</i>\\n\\n1060\\n01:36:55,520 --> 01:36:56,839\\n<i>And we \\'re winning.</i>\\n\\n1061\\n01:36:57,360 --> 01:37:00,636\\n<i>But if you have any medical training<br/>or combat experience,</i>\\n\\n1062\\n01:37:01,440 --> 01:37:03,112\\n<i>there are survivors...</i>\\n\\n1063\\n01:37:08,560 --> 01:37:10,357\\n(TIRES SQUEALING)\\n\\n1064\\n01:37:21,920 --> 01:37:23,558\\n(RUMBLING)'"
      ]
     },
     "execution_count": 26,
     "metadata": {},
     "output_type": "execute_result"
    }
   ],
   "source": [
    "path_sub = Path.cwd() / 'Subtitles_all' / 'Subtitles' / '10_Cloverfield_lane(2016).srt'\n",
    "sub_all = path_sub.read_text()\n",
    "sub_all"
   ]
  },
  {
   "cell_type": "markdown",
   "id": "2fc3a54a",
   "metadata": {},
   "source": [
    "В субтитрах много лишней информации - служебные символы, описание действий в скобках. Время можно использовать для оценки длительности субтитров, но для работы с текстом оно не нужно."
   ]
  },
  {
   "cell_type": "markdown",
   "id": "82af95b6",
   "metadata": {
    "ExecuteTime": {
     "end_time": "2023-06-06T19:36:15.988856Z",
     "start_time": "2023-06-06T19:36:15.977886Z"
    }
   },
   "source": [
    "Создаю функцию для очистки субтитров "
   ]
  },
  {
   "cell_type": "code",
   "execution_count": 27,
   "id": "fa1365c7",
   "metadata": {
    "ExecuteTime": {
     "end_time": "2023-06-07T12:50:33.416048Z",
     "start_time": "2023-06-07T12:50:33.404014Z"
    }
   },
   "outputs": [],
   "source": [
    "# код для предобработки субтитров\n",
    "HTML = r'<.*?>'\n",
    "TAG = r'{.*?}'\n",
    "COMMENTS = r'[\\(\\[][A-Z ]+[\\)\\]]'\n",
    "LETTERS = r'[^a-zA-Z\\'.,!? ]'\n",
    "SPACES = r'([ ])\\1+'\n",
    "DOTS = r'[\\.]+'\n",
    "\n",
    "def clean_subs(subs):\n",
    "    txt = re.sub(HTML, ' ', subs) #html тэги меняем на пробел\n",
    "    txt = re.sub(TAG, ' ', txt) #тэги меняем на пробел\n",
    "    txt = re.sub(COMMENTS, ' ', txt) #комменты меняем на пробел\n",
    "    txt = re.sub(LETTERS, ' ', txt) #все что не буквы меняем на пробел\n",
    "    txt = re.sub(DOTS, r'.', txt)  #многоточие меняем на точку\n",
    "    txt = re.sub(r',', ' ', txt) # запятые меняю на пробел\n",
    "    txt = \".\".join(txt.lower().split('.')[1:-1]) #удаляем первый и последний субтитр (обычно это реклама)\n",
    "    txt = re.sub(r'\\.', ' ', txt) # точку меняю на пробел\n",
    "    txt = re.sub(r'\\?', ' ', txt) # вопрос меняю на пробел\n",
    "    txt = re.sub(r'\\!', ' ', txt) # восклицательный меняю на пробел\n",
    "    txt = re.sub(SPACES, r'\\1', txt) #повторяющиеся пробелы меняем на один пробел\n",
    "    txt = txt.encode('ascii', 'ignore').decode() #удаляем все что не ascii символы\n",
    "    return txt"
   ]
  },
  {
   "cell_type": "code",
   "execution_count": 32,
   "id": "5e5b03e1",
   "metadata": {
    "ExecuteTime": {
     "end_time": "2023-06-07T13:15:09.438521Z",
     "start_time": "2023-06-07T13:15:09.415582Z"
    }
   },
   "outputs": [
    {
     "data": {
      "text/plain": [
       "\" enjoy the flick ben on phone michelle please don't hang up just talk to me okay i can't believe you just left michelle come back please say something michelle talk to me look we had an argument couples fight that is no reason to just leave everything behind running away isn't gonna help it any michelle please newscaster more details on that elsewhere today power has still not been restored to many cities on the southern seaboard in the wake of this afternoon's widespread blackout while there had been some inclement weather in the region the problem seems linked to what authorities are calling a catastrophic power surge that has crippled traffic in the area no no damn okay okay please please please don't hurt me please just let me go okay i won't tell anybody i promise okay please just let me go please man you need fluids you were in shock what are you going to do to me i'm going to keep you alive work on getting handy with these my boyfriend was expecting me he'll send the cops looking i'm sorry but no one is looking for you you've got some fight in you i can respect that but don't even think about trying that again you're lucky to be here at all and my generosity only extends so far eggs toradol to help with your pain please please just let me go please there is nowhere to go michelle i looked through your wallet given as how i saved your life i think that's acceptable you're lucky to be here at all what do you mean i found you and i saved your life by bringing you here i don't understand i there's been an attack what an attack a big one i'm not sure yet if it's chemical or nuclear but down here we're safe and where are we exactly underneath my farmhouse forty miles outside of lake charles i was driving north of here you were in an accident you were turned over on the side of the road i was driving by and i saw i saved your life michelle i couldn't just leave you there okay well thank you so much for saving my life i guess i should go to a hospital now you can't leave an attack means fallout which contaminates the air above ground that's how it works how long do we have to wait until it's safe depends on the proximity of the closest blast one year maybe two and that's if we're talking about weapons that we know of russians are developing some nasty stuff and if the martians finally figured out a way to get here their weapons will make the russkies' look like sticks and stones luckily i've prepared for this right well i'll need to use your phone then to call my family and tell them that i'm safe here and make sure they're okay michelle they're not okay how do you know that everyone outside of here is dead but what about you don't you have a family who's that excuse me howard what did you do you know what michelle i'm gonna tell you what i told him you need to eat you need to sleep and you need to start showing me a little bit of appreciation my name is howard by the way oh god oh shit i'm sorry i'm sorry about that uh i didn't mean to scare you are you um here you hungry so how are you doing you okay what is this it's a bunker your room's a little bit of a fixer upper but at least you got a door a scary door but you still got a door how long have you been down here couple of days i think you know it's actually kind of hard to tell with no windows or sunlight or anything i mean how do we get out of here oh he didn't tell you about getting out of here is the last thing you want to do because the air up there it's contaminated howard i see you've met emmett what happened to him he did that to himself and his stumbling around isn't helping anything what you heard earlier was him knocking over a shelf with a whole week's worth of food which he's sorry for correct totally let's go bathroom time howard this is the common area good for r r as you can see i've planned for a long stay the aquaponics system cleans the air and keeps it fresh this is the living room help yourself to any reading if you like to watch films i have some on dvd and vhs cassette just make sure you put them back in their sleeve when they're done the kitchen's fully functional has an electric stove refrigerator freezer silverware and that table's a family heirloom which means watch your glasses always use coasters and placemats keep your hands to yourself understand no touching take a seat this way this is my private space off limits unless i give express permission go ahead i don't need to you will though and i've got to pace these things out so please i need privacy you're welcome to close the curtain i can't with you standing there and i can't trust you not to burn this place down this is for my own safety i'm not some pervert just go howard don't flush unless you've gone we can't afford wasted flushes take a seat are you hungry those are megan's she never went anywhere without two or three of those things who's megan megan's not with us anymore don't worry just the generator maybe it's a car outside that's not possible i heard one earlier above my room if you had heard a car the driver would be long dead by now well shouldn't we at least try to call the police or someone to find out what actually happened there's no one left to call see that nothing's coming through you think i sound crazy i mean it's amazing you people you wear helmets when you ride your bikes you have seat belts in your cars you have alarm systems to protect your homes but what do you do when those alarms go off crazy is building your ark after the flood has already come i think maybe it's time you met frank and mildred closest i could get to an airlock see what happened to them they weren't as lucky as you it's the air michelle that's what happens when you get exposed i keep this door sealed at all times no one comes in or out emmett met frank and mildred huh it's funny right the whole world ends and the thing he's most upset about is a pair of dead pigs you in need of some reading material i took all the quizzes sorry but i did learn how to do a french braid so you know if you want me to do that for you just let me know what do you know about him he was in the navy i know that i guess he did uh some stuff with satellites what kind of stuff satellite stuff well what brought him out here i'm not sure he bought this property a while back but i never paid much attention till he hired me to help him get this place set up the work was entertaining though that's for sure you know howard's like a black belt in conspiracy theory plus you know how often do you get hired to help build a doomsday bunker so he didn't kidnap you no what about your arm weren't you trying to escape i was trying to get in i watched howard build this place piece by piece for years he was always talking about you know possible attacks from al qaeda russia south korea you mean north korea is that the crazy one so yeah that one and uh you know poured all his money into this place took to it like his life depended on it which you know that stays with you so he told you all this while you're building his bomb shelter and now he says that the air is contaminated and everybody's dead yeah i know what you're getting at but there's more to it howard abducted me he drove me off the road and he dragged me here so whatever he's telling you about the air some big attack the purpose of this shelter is a lie no no way the attack i saw it myself what do you mean i was on my way home from work and it looked like a flash bright red like an explosion from way far off it wasn't like fireworks naw this was more like something you'd read about in the bible so what you saw what a flash of light lightning a fire that flared up i'm not explaining it right this wasn't like anything i'd ever seen and so my first thought was to come here and when i got here howard was closing the door and i could see it right there on his face he knew something was happening something bad and so i fought my way in i heard a car right here above us you heard someone right above us that isn't possible the air is what contaminated how do you know that because i told him dinner's ready i see you two are getting along hmm how's that sauce it's fine as cooks go i'm okay not great but okay megan was a good cook you'll learn to love cooking mmm emmett mmm it's delicious that's the best sauce i've ever tasted are you being funny no i mean considering the alternative which is you know getting burnt up in a chemical attack or nuclear i'd say being alive and down here would make a fried turd taste pretty good so best damn sauce i ever had that's not a bad point and please watch your language at table right you know what i haven't been able to get out of my head for some reason ever since i got down here tattoos always wanted one but i never got any 'cause everybody always said no no emmett you'll never get a decent job if you do that whatever like that matters now right t ell you what if i had known this was coming i would've gotten like of them i swear man i would look like a circus freak or something i'd just be covered head to toe tattoos all over my you know everywhere face sure right there across my forehead just my name emmett or you know thug life yolo i don't even know what that means but you know i hear people saying it all the time so it must be cool hey what about you howard anything you wish you'd done in all honesty no no no crazy nights in vegas maybe uh take a pilgrimage to waco everything i wanted to do i did i focused on being prepared and i was and here we are emmett oh my goodness is that monopoly there we go yeah that's how we kill the time what would you say howard we're gonna be down here what like a year two maybe i bet you if we started a game right now we might even get halfway finished by the time stop talking you don't need to make jokes about how long we're going to be down here when nobody knows how long that's going to be your humor is not funny i don't appreciate it while i'm trying to eat and neither does michelle now please shut up and let us eat in peace hmm emmett would you pass me a napkin thank you i know what you're saying i never could finish monopoly that game really does take forever right for me though it was um chutes and ladders uh sorry and trouble you know the thing with the dice and the thing that you pressed what was that called the both pop o matic bubble yeah did you ever play that um what was that operation loved operation i'm telling you man i couldn't play that game it terrified me why that noise that thing would make when you hit that edge i mean good lord it was pretty scary could you hand me the salt please ah shoot i'm sorry i'm gonna need the pepper also what exactly do you think you're doing i'm asking for pepper like hell you were what was that i don't know what you're talking about howard are you trying to insult me here in the shelter that i built that's keeping you alive you don't think i see what you just did is that how you thank me for saving your life howard calm down shut up shut up and stay in your seat is it now let me tell you i know what a traitor looks like understand i have shown you nothing but generosity and hospitality i want you to apologize to tell me you're going to behave i will you will what i'll behave and i'm so sorry howard sit ah have to stay hydrated hmm that's easy to forget down here what's wrong nothing where are my keys michelle michelle stop give me those keys michelle come on howard no don't stop no no don't don't don't open that door there's a car there's a car i see a car howard no here here here howard michelle listen to me don't do this oh god thank god there's a woman woman open the door it's okay i just want to come inside she looks hurt she wants me to let her in do not let her in look at her face michelle no no no no no oh my god i'm fine i really am fine no please i'm okay there's it really only it only touched me a little a little so could you open the door open it she's begging me you can't help her no one can let me in i'll be okay i'll be okay it really hardly touched me at all open the door howard don't listen to her god open the door you bitch let me in let me in let me in let me in let me in you you you you you i know it's hard realizing they're all gone the ones you love i have something to confess to you i crashed into your car your accident was my fault when i found out about the incoming attack i got frantic i knew i needed to get back here as soon as possible so i was driving like a maniac i tried to pass you and i'm the reason you went off the road i mean i know i seem like a sensible guy but at the time i wasn't myself it was an accident but it was my fault i was afraid to tell you and i'm sorry um you should shower even the smallest amount of air that came through the hinges could be toxic these were megan's if you want i recognized that woman's car her name was leslie i think you knew her she was a neighbor emmett wasn't the only one who knew about this place if any others somehow survived they could be coming here too as of friday kindness and generosity are antiquated customs i'm going to need some stitches what you want me to this is your doing isn't it i mean i don't think i'm really qualified i'll walk you through it here have a drink what is it technically it's vodka ah it's safe i distilled it myself i just said i distilled it i didn't say anything about it actually tasting good yeah that's awful you want it on the rocks little trick i taught myself as a young man stationed on a ship with way too much free time every now and again if the c o was working us too hard we'd freeze and snap the knob off the bathroom door while he was still inside it usually took him an hour or two to get out i'm good suit yourself cheers ah this is clean all you need to do is stitch you're doing fine howard some stuff i grabbed from your car i didn't have time to bring in the booze sadly what is all that i wanted to design clothes no wonder you were so good with the stitches megan wanted to be an artist she was your daughter yes she was smart loved to read the magazines were just for fun she inhaled books anything with paris she liked their movies their culture you know we used to have this little joke every once in a while i'd ask her what do you want to be when you grow up you know what she'd say french anyway her mother turned her against me took her off to chicago people are strange creatures you can't always convince them that safety is in their own best interest you don't know they're gone anyway at least i tried to help them emmett hey there was nothing you could've done for that woman even if you let her in she still would've died you asked earlier about regrets yeah i've got some of those welcome to the club i mean i lived my life in a mile radius and that was by design i made sure that happened i was so fast in high school i even managed to outrun my bad grades i was all state track three years in a row caught a full ride to louisiana tech up there in ruston i remember i spent the last two weeks of that summer showing off the bus ticket they sent me to anybody who'd take a look at it and then came the night before i was supposed to leave and i just got so worried about how bad i was gonna do up there with all those smart kids so i went out of my way to get just piss wasted so bad that i knew there was no chance i was waking up in the morning so i missed the bus and i didn't buy a ticket for the next one or the one after that well if you'd gone you might be dead now yeah lucky me right lucky us a few years ago i was at a hardware store and there was this little girl with her dad and he was in a hurry and she wasn't keeping up so he kept yanking on her arm but really hard you know too hard i know that feeling when my dad got that way my brother colin was always there to take the worst of it for me and i thought seeing this little girl i thought maybe i could do that for her but i just kept watching and they're about to leave and i've done nothing and she slips and it throws him off balance and he hits her and i wanted so badly to do something to help her but i did what i always do when things get hard i just panicked and ran look we're here we're alive and that means something it's gotta you've got to be kidding me what we're missing pieces here look at this poor cat he's been deformed he's got one eye he's about to go snorkeling and everything too what are you doing ooh cornering the market on post apocalyptic fashion huh mmm hmm you need more axes and chain saws for what she has a shotgun yeah but what if up there it's like what lumberjacks zombies though even howard doesn't think that one's plausible but you should hear his theory about mutant space worms what is that howard stay calm we're okay what was that quiet that sounds like helicopters howard could be military but not ours emmett how can you tell fourteen years in the navy what's happening up there my guess those flashes that kicked this all off that was phase one take out your opponent's population centers with big hits all at once fast and then for round two ground sweeps a satellite log showed an increase in coded traffic recently possibly extraterrestrial signals i bet what we just heard were airborne patrols sent to hunt down the remaining signs of life like us okay oh boy that's bad and that's worse what's up there air filtration system i can't something blocking the hatch if we can't get it back on we're gonna run out of breathable air fast you're the only one small enough to reach it reach what the filtration system through there the main duct someone needs to get in there and restart it give me a hand let me go she's not gonna know her way around the unit you won't fit plus your arm she'll be fine now to restart the unit you just swing the handle off then on off then on that should do it and neither of us will be able to go in and help you if you get stuck don't get stuck howard michelle everything okay up there it looks like a dead end howard that's the incline climb up that and you're almost there ah this sucks emmett what's wrong howard he lied he lied about megan what do you mean i think he did something horrible to her no his family moved to chicago years ago what's this is that blood here come with me wait that that's not megan what do you mean yeah her name is brittany i remember her she went to high school with my little sister she she went missing two years back it was on the news and everything most people just thought she skipped town there was a message up there it said help it was scratched on the inside of the window and this earring this earring was with it did she ever show back up after she went missing he said to me he said to my face that this was his daughter he said this was megan he took her and he killed her all right let's just think maybe we take away his gun tie him up get him to confess to whatever it is he's done confess to who the police look like i said we can't be the only survivors right the woman she was able to get around right at least a little yeah until she died directly above us making choking noises of all the people to save us howard now that was a great example of teamwork very well done i feel like some music problem solving always puts me in a musical mood michelle you should go shower just in case sure i think i might have an idea ten better ways to style my bangs no not the article this i think i can only make one but it's a start no kidding what are you doing up i didn't wake you up yet man well i'm fixing your breakfast one egg over medium hey howard what is this you re watching sixteen candles pretty in pink it was one of megan's favorite movies can i help you with something no no i'm just grabbing some water say um you know i was just thinking not that i'm trying to tell you how to run this place or anything i'm just a little curious michelle say how close do you think she got to that air filtration unit you think she touched it yeah i'm pretty sure she touched it well i know she cleaned up after and everything but i'm just thinking given that unit filters god knows what through from outside if she tracked anything back in with her it'd be pretty concentrated and i mean it could be all over the shower and the sink in your bathroom right now anyway it's just a thought emmett not bad so far partner michelle if howard finds this he's gonna kill us all right so we get the gun away from him all right we tie him up make sure he isn't going anywhere and then one of us just goes out and looks for help um first word uh tiny small pygmy um little yep mmm hmm all right uh second word ooh michelle is a a girl a girl a child um a girl no she's older see so she is a little princess um no it was woman um little women wow little woman next time try being a little more specific let's see here i'm always watching always um god i go wherever i want uh i mean well i don't know i know what you're doing i see what you're doing um i know what you're up to look howard i don't know what you're getting at but i see you when you're sleeping i know what you're doing and i'm always watching always watching i'm always watching santa claus you're santa claus yeah michelle that's great except it was emmett's turn sorry i just got a little excited yeah well i'm keeping that point totally you earned it emmett hey i need your help with something sure you on deck what is this howard the barrel what's in it move it into the bathroom howard this is perchloric acid do either of you know what that is it's usually produced as a precursor to ammonium perchlorate a fuel used for launching naval satellites into orbit it's highly corrosive dissolves most biological material on contact with humans right down to the bone hey howard uh what are you showing this to us for you think i'm an idiot emmett uh howard please you're gonna have to tell us what it is that you're talking about i'm talking about getting rid of some waste tell me what you two were doing with these you tell me what you two were planning right now howard listen just take it easy take it easy howard come on please no i'm giving you one chance emmett hey howard just calm down one chance to answer with some dignity or i swear to god you're going into this barrel while you're alive to feel it it was me all right not her it's just me no no no we stay out of this all right she doesn't have a clue what you're talking about i wanted your gun and so i was thinking about making a weapon to get it from you i want her to respect me the way that she respects you i'm not saying that i was right okay and i'm sorry you're sorry i'm sorry i accept your apology listen to me you heard him you heard him he was making a weapon he was gonna hurt us he was gonna hurt you and it's okay this was the way it was always supposed to be you're safe now it's just you and me it's okay you know you should go to your room now this next part isn't something you need to see okay go on howard michelle hey i thought we'd change things up tonight and have dessert before dinner after all we can do whatever we want now would you like a cone or a bowl megan always wanted hers in a bowl she said the cones were too messy i know that this isn't the life you'd prefer that it isn't easy for you living down here but i want us to be a happy family you and me the mess is all taken care of so just hang loose and i'll go get dinner started howard michelle everything all right yeah i was just about to do some reading hmm it's time to set the table supper's ready yeah okay it keeps doing that i don't know why michelle why is this loose get up why get off the mattress now oh shit michelle stop goddamn it get back here howard you gonna walk out on me after i saved you and kept you safe this is how you repay me no this is howard michelle stop you don't know what's out there you can't run from them howard stay with me let me go oh come on keys keys keys come on damn it come on come on help i'm out here help oh god oh fuck female broadcaster the military has taken back the southern seaboard if you are hearing this and aren't in a safe zone head north of baton rouge but if you have any medical training or combat experience we need help there are people in houston there are survivors at mercy hospital please help repeat there are people in houston who need our help come join us we've taken back the southern seaboard and we 're winning but if you have any medical training or combat experience there are survivors\""
      ]
     },
     "execution_count": 32,
     "metadata": {},
     "output_type": "execute_result"
    }
   ],
   "source": [
    "clean_subs(sub_all)"
   ]
  },
  {
   "cell_type": "markdown",
   "id": "dfc82750",
   "metadata": {},
   "source": [
    "Создаю функцию для предобработки очищенного текста субтитров по алгоритму:\n",
    "\n",
    "- Токенизация, то есть разбить текст на список из слов.\n",
    "\n",
    "- Убрать слова, не влияющие на содержание текста, например предлоги, артикли. Для этого использую список стоп-слов из библиотеки `nltk`, дополняю его сокращениями вспомогательных слов.\n",
    "\n",
    "- Лемматизация - приведение слов к начальной форме с помощью `WordNetLemmatizer` из библиотеки `nltk`.\n",
    "\n",
    "- Разделяю текст на 3 части, чтобы увеличить количество наблюдений."
   ]
  },
  {
   "cell_type": "code",
   "execution_count": 48,
   "id": "c49ad361",
   "metadata": {
    "ExecuteTime": {
     "end_time": "2023-06-07T14:19:28.183508Z",
     "start_time": "2023-06-07T14:19:28.168547Z"
    }
   },
   "outputs": [],
   "source": [
    "stop_words = nltk.corpus.stopwords.words('english')\n",
    "stop_words.extend([\"'m\", \"n't\", \"'re\", \"'ve\", \"'s\", \"'ll\", \"'d\"])\n",
    "lemmatizer = WordNetLemmatizer()\n",
    "\n",
    "def sub_preprocessing(sub_text):\n",
    "    \n",
    "    # очистка субтитров\n",
    "    sub_text = clean_subs(sub_text)\n",
    "  \n",
    "    # токенизация\n",
    "    sub_words_list = nltk.word_tokenize(sub_text)\n",
    "  \n",
    "    # удаление стоп-слов - предлогов, артиклей и т.п.\n",
    "    sub_words_list = [w for w in sub_words_list if not w in stop_words] \n",
    "    \n",
    "    # лемматизация\n",
    "    sub_words_list = [lemmatizer.lemmatize(w) for w in sub_words_list]\n",
    "    \n",
    "    num_words = len(sub_words_list)\n",
    "  \n",
    "    # разделение субтитра на 3 части\n",
    "    sub_text_cleaned = []\n",
    "    n = num_words // 3\n",
    "    k = 2 * n\n",
    "    sub_text_cleaned.append(' '.join(sub_words_list[:n]))\n",
    "    sub_text_cleaned.append(' '.join(sub_words_list[n:k]))\n",
    "    sub_text_cleaned.append(' '.join(sub_words_list[k:]))\n",
    "  \n",
    "    return sub_text_cleaned"
   ]
  },
  {
   "cell_type": "markdown",
   "id": "cb33928b",
   "metadata": {},
   "source": [
    "Проверяю работу функции"
   ]
  },
  {
   "cell_type": "code",
   "execution_count": 45,
   "id": "4039c9f1",
   "metadata": {
    "ExecuteTime": {
     "end_time": "2023-06-07T14:08:54.991601Z",
     "start_time": "2023-06-07T14:08:54.920537Z"
    }
   },
   "outputs": [
    {
     "data": {
      "text/plain": [
       "([\"enjoy flick ben phone michelle please hang talk okay ca believe left michelle come back please say something michelle talk look argument couple fight reason leave everything behind running away gon na help michelle please newscaster detail elsewhere today power still restored many city southern seaboard wake afternoon widespread blackout inclement weather region problem seems linked authority calling catastrophic power surge crippled traffic area damn okay okay please please please hurt please let go okay wo tell anybody promise okay please let go please man need fluid shock going going keep alive work getting handy boyfriend expecting send cop looking sorry one looking got fight respect even think trying lucky generosity extends far egg toradol help pain please please let go please nowhere go michelle looked wallet given saved life think acceptable lucky mean found saved life bringing understand attack attack big one sure yet chemical nuclear safe exactly underneath farmhouse forty mile outside lake charles driving north accident turned side road driving saw saved life michelle could leave okay well thank much saving life guess go hospital ca leave attack mean fallout contaminates air ground work long wait safe depends proximity closest blast one year maybe two talking weapon know russian developing nasty stuff martian finally figured way get weapon make russkies ' look like stick stone luckily prepared right well need use phone call family tell safe make sure okay michelle okay know everyone outside dead family excuse howard know michelle gon na tell told need eat need sleep need start showing little bit appreciation name howard way oh god oh shit sorry sorry uh mean scare um hungry okay bunker room little bit fixer upper least got door scary door still got door long couple day think know actually kind hard tell window sunlight anything mean get oh tell getting last thing want air contaminated howard see met emmett happened stumbling around helping anything heard earlier knocking shelf whole week worth food sorry correct totally let go bathroom time howard common area good r r see planned long stay aquaponics system clean air keep fresh living room help reading like watch film dvd vhs cassette make sure put back sleeve done kitchen fully functional electric stove refrigerator freezer silverware table family heirloom mean watch glass always use coaster placemats keep hand understand touching take seat way private space limit unless give express permission go ahead need though got pace thing please need privacy welcome close curtain ca standing ca trust burn place safety pervert go howard flush unless gone ca afford wasted flush take seat hungry megan never went anywhere without two three thing megan megan u anymore worry generator maybe car outside possible heard one earlier room heard car driver would long dead well least try call police someone find actually happened one left call see nothing coming think sound crazy mean amazing people wear helmet ride bike seat belt car alarm system protect home alarm go crazy building ark flood already come think maybe time met frank mildred closest could get airlock see happened lucky air michelle happens get exposed keep door sealed time one come emmett met frank mildred huh funny right whole world end thing upset pair dead pig need reading material took quiz sorry learn french braid know want let know know navy know guess uh stuff satellite kind stuff satellite stuff well brought sure bought property back never paid much attention till hired help get place set work entertaining though sure know howard like black belt conspiracy theory plus know often get hired help build doomsday bunker kidnap arm trying escape trying get watched howard build place piece piece year always talking know possible attack al qaeda russia south korea mean north korea crazy one yeah one uh know poured money place took like life depended know stay told building bomb shelter say air contaminated everybody dead yeah know getting howard abducted drove road dragged whatever telling air big attack purpose shelter lie way attack saw mean way home work looked like flash bright red like explosion way far like firework naw like something read bible saw flash light lightning fire flared explaining right like anything ever seen first thought come got howard closing door could see right face knew something happening something bad fought way heard car right u heard someone right u possible air contaminated know told dinner ready see two getting along hmm sauce fine cook go okay great okay megan good cook learn love cooking mmm emmett mmm delicious best\",\n",
       "  \"sauce ever tasted funny mean considering alternative know getting burnt chemical attack nuclear say alive would make fried turd taste pretty good best damn sauce ever bad point please watch language table right know able get head reason ever since got tattoo always wanted one never got 'cause everybody always said emmett never get decent job whatever like matter right ell known coming would gotten like swear man would look like circus freak something covered head toe tattoo know everywhere face sure right across forehead name emmett know thug life yolo even know mean know hear people saying time must cool hey howard anything wish done honesty crazy night vega maybe uh take pilgrimage waco everything wanted focused prepared emmett oh goodness monopoly go yeah kill time would say howard gon na like year two maybe bet started game right might even get halfway finished time stop talking need make joke long going nobody know long going humor funny appreciate trying eat neither michelle please shut let u eat peace hmm emmett would pas napkin thank know saying never could finish monopoly game really take forever right though um chute ladder uh sorry trouble know thing dice thing pressed called pop matic bubble yeah ever play um operation loved operation telling man could play game terrified noise thing would make hit edge mean good lord pretty scary could hand salt please ah shoot sorry gon na need pepper also exactly think asking pepper like hell know talking howard trying insult shelter built keeping alive think see thank saving life howard calm shut shut stay seat let tell know traitor look like understand shown nothing generosity hospitality want apologize tell going behave behave sorry howard sit ah stay hydrated hmm easy forget wrong nothing key michelle michelle stop give key michelle come howard stop open door car car see car howard howard michelle listen oh god thank god woman woman open door okay want come inside look hurt want let let look face michelle oh god fine really fine please okay really touched little little could open door open begging ca help one let okay okay really hardly touched open door howard listen god open door bitch let let let let let know hard realizing gone one love something confess crashed car accident fault found incoming attack got frantic knew needed get back soon possible driving like maniac tried pas reason went road mean know seem like sensible guy time accident fault afraid tell sorry um shower even smallest amount air came hinge could toxic megan want recognized woman car name leslie think knew neighbor emmett one knew place others somehow survived could coming friday kindness generosity antiquated custom going need stitch want mean think really qualified walk drink technically vodka ah safe distilled said distilled say anything actually tasting good yeah awful want rock little trick taught young man stationed ship way much free time every c working u hard freeze snap knob bathroom door still inside usually took hour two get good suit cheer ah clean need stitch fine howard stuff grabbed car time bring booze sadly wanted design clothes wonder good stitch megan wanted artist daughter yes smart loved read magazine fun inhaled book anything paris liked movie culture know used little joke every ask want grow know say french anyway mother turned took chicago people strange creature ca always convince safety best interest know gone anyway least tried help emmett hey nothing could done woman even let still would died asked earlier regret yeah got welcome club mean lived life mile radius design made sure happened fast high school even managed outrun bad grade state track three year row caught full ride louisiana tech ruston remember spent last two week summer showing bus ticket sent anybody take look came night supposed leave got worried bad gon na smart kid went way get piss wasted bad knew chance waking morning missed bus buy ticket next one one well gone might dead yeah lucky right lucky u year ago hardware store little girl dad hurry keeping kept yanking arm really hard know hard know feeling dad got way brother colin always take worst thought seeing little girl thought maybe could kept watching leave done nothing slip throw balance hit wanted badly something help always thing get hard panicked ran look alive mean something got ta got kidding missing piece look poor cat deformed got one eye go snorkeling everything ooh cornering market post apocalyptic fashion huh mmm hmm need ax chain saw\",\n",
       "  'shotgun yeah like lumberjack zombie though even howard think one plausible hear theory mutant space worm howard stay calm okay quiet sound like helicopter howard could military emmett tell fourteen year navy happening guess flash kicked phase one take opponent population center big hit fast round two ground sweep satellite log showed increase coded traffic recently possibly extraterrestrial signal bet heard airborne patrol sent hunt remaining sign life like u okay oh boy bad worse air filtration system ca something blocking hatch ca get back gon na run breathable air fast one small enough reach reach filtration system main duct someone need get restart give hand let go gon na know way around unit wo fit plus arm fine restart unit swing handle neither u able go help get stuck get stuck howard michelle everything okay look like dead end howard incline climb almost ah suck emmett wrong howard lied lied megan mean think something horrible family moved chicago year ago blood come wait megan mean yeah name brittany remember went high school little sister went missing two year back news everything people thought skipped town message said help scratched inside window earring earring ever show back went missing said said face daughter said megan took killed right let think maybe take away gun tie get confess whatever done confess police look like said ca survivor right woman able get around right least little yeah died directly u making choking noise people save u howard great example teamwork well done feel like music problem solving always put musical mood michelle go shower case sure think might idea ten better way style bang article think make one start kidding wake yet man well fixing breakfast one egg medium hey howard watching sixteen candle pretty pink one megan favorite movie help something grabbing water say um know thinking trying tell run place anything little curious michelle say close think got air filtration unit think touched yeah pretty sure touched well know cleaned everything thinking given unit filter god know outside tracked anything back pretty concentrated mean could shower sink bathroom right anyway thought emmett bad far partner michelle howard find gon na kill u right get gun away right tie make sure going anywhere one u go look help um first word uh tiny small pygmy um little yep mmm hmm right uh second word ooh michelle girl girl child um girl older see little princess um woman um little woman wow little woman next time try little specific let see always watching always um god go wherever want uh mean well know know see um know look howard know getting see sleeping know always watching always watching always watching santa claus santa claus yeah michelle great except emmett turn sorry got little excited yeah well keeping point totally earned emmett hey need help something sure deck howard barrel move bathroom howard perchloric acid either know usually produced precursor ammonium perchlorate fuel used launching naval satellite orbit highly corrosive dissolve biological material contact human right bone hey howard uh showing u think idiot emmett uh howard please gon na tell u talking talking getting rid waste tell two tell two planning right howard listen take easy take easy howard come please giving one chance emmett hey howard calm one chance answer dignity swear god going barrel alive feel right stay right clue talking wanted gun thinking making weapon get want respect way respect saying right okay sorry sorry sorry accept apology listen heard heard making weapon gon na hurt u gon na hurt okay way always supposed safe okay know go room next part something need see okay go howard michelle hey thought change thing tonight dessert dinner whatever want would like cone bowl megan always wanted bowl said cone messy know life prefer easy living want u happy family mess taken care hang loose go get dinner started howard michelle everything right yeah reading hmm time set table supper ready yeah okay keep know michelle loose get get mattress oh shit michelle stop goddamn get back howard gon na walk saved kept safe repay howard michelle stop know ca run howard stay let go oh come key key key come damn come come help help oh god oh fuck female broadcaster military taken back southern seaboard hearing safe zone head north baton rouge medical training combat experience need help people houston survivor mercy hospital please help repeat people houston need help come join u taken back southern seaboard winning medical training combat experience survivor'],\n",
       " 2259)"
      ]
     },
     "execution_count": 45,
     "metadata": {},
     "output_type": "execute_result"
    }
   ],
   "source": [
    "sub_preprocessing(sub_all)"
   ]
  },
  {
   "cell_type": "markdown",
   "id": "d3bca7a5",
   "metadata": {},
   "source": [
    "Создаю функцию для вычисления общей и средней длительности субтитров в качестве дополнительных признаков."
   ]
  },
  {
   "cell_type": "code",
   "execution_count": 47,
   "id": "aa5c1f81",
   "metadata": {
    "ExecuteTime": {
     "end_time": "2023-06-07T14:17:38.105614Z",
     "start_time": "2023-06-07T14:17:38.082608Z"
    }
   },
   "outputs": [],
   "source": [
    "# функция для определения длительности субтитров\n",
    "def subtitle_duration(subtitle_path, subtitle_encoding):\n",
    "    # Открытие файла субтитров с учётом разной кодировки\n",
    "    try:\n",
    "        subs = pysrt.open(subtitle_path, encoding=subtitle_encoding)\n",
    "    except:\n",
    "        try:\n",
    "            subs = pysrt.open(subtitle_path, encoding='utf-16')\n",
    "        except:\n",
    "            subs = pysrt.open(subtitle_path, encoding='windows-1251')\n",
    "\n",
    "    duration_avg = 0\n",
    "    duration_list = []\n",
    "\n",
    "    for i in range(len(subs)):\n",
    "        start_time = subs[i].start.to_time()\n",
    "        end_time = subs[i].end.to_time()\n",
    "        start_datetime = datetime.combine(datetime.today(), start_time)\n",
    "        end_datetime = datetime.combine(datetime.today(), end_time)\n",
    "        \n",
    "        # Вычисление продолжительности субтитра\n",
    "        duration = (end_datetime - start_datetime).total_seconds()\n",
    "\n",
    "        # Сохранение продолжительности в список\n",
    "        duration_list.append(duration)\n",
    "        \n",
    "    duration_avg = sum(duration_list) / len(duration_list)\n",
    "    return round(sum(duration_list), 2), round(duration_avg, 2)\n"
   ]
  },
  {
   "cell_type": "markdown",
   "id": "a39f0138",
   "metadata": {},
   "source": [
    "Заношу обработанный текст субтитров и дополнительные признаки в отдельный датафрейм"
   ]
  },
  {
   "cell_type": "code",
   "execution_count": 53,
   "id": "b14f3b13",
   "metadata": {
    "ExecuteTime": {
     "end_time": "2023-06-07T14:22:57.808337Z",
     "start_time": "2023-06-07T14:22:25.504101Z"
    }
   },
   "outputs": [],
   "source": [
    "df_sub = pd.DataFrame(columns=['sub_text', 'level', 'subs_duration', 'subs_duration_avg'])\n",
    "sub_folder = Path.cwd() / 'Subtitles_all' \n",
    "sub_files = sub_folder.glob('**/*.srt')\n",
    "detector = UniversalDetector()\n",
    "\n",
    "for sub_file in sub_files:\n",
    "    sub_name = sub_file.stem\n",
    "    closest_match = get_close_matches(sub_name, movies['movie'].values, n=1, cutoff=0.7)\n",
    "    \n",
    "    if closest_match:\n",
    "        # определяю кодировку файла\n",
    "        detector.feed(sub_file.read_bytes())\n",
    "        sub_encoding = detector.result['encoding']\n",
    "        detector.reset\n",
    "        \n",
    "        sub_text = sub_preprocessing(sub_file.read_text(errors='replace', encoding=sub_encoding))\n",
    "        subs_duration, subs_duration_avg = subtitle_duration(sub_file, sub_encoding)\n",
    "        level = movies[movies['movie'] == closest_match[0]].to_string(index=False, columns=['level'], header=False)\n",
    "        for s in sub_text:\n",
    "            df_sub.loc[len(df_sub)] = [s, level, subs_duration/2, subs_duration_avg]"
   ]
  },
  {
   "cell_type": "code",
   "execution_count": 54,
   "id": "45dac7a1",
   "metadata": {
    "ExecuteTime": {
     "end_time": "2023-06-07T14:24:54.256959Z",
     "start_time": "2023-06-07T14:24:54.233987Z"
    }
   },
   "outputs": [
    {
     "data": {
      "text/html": [
       "<div>\n",
       "<style scoped>\n",
       "    .dataframe tbody tr th:only-of-type {\n",
       "        vertical-align: middle;\n",
       "    }\n",
       "\n",
       "    .dataframe tbody tr th {\n",
       "        vertical-align: top;\n",
       "    }\n",
       "\n",
       "    .dataframe thead th {\n",
       "        text-align: right;\n",
       "    }\n",
       "</style>\n",
       "<table border=\"1\" class=\"dataframe\">\n",
       "  <thead>\n",
       "    <tr style=\"text-align: right;\">\n",
       "      <th></th>\n",
       "      <th>sub_text</th>\n",
       "      <th>level</th>\n",
       "      <th>subs_duration</th>\n",
       "      <th>subs_duration_avg</th>\n",
       "    </tr>\n",
       "  </thead>\n",
       "  <tbody>\n",
       "    <tr>\n",
       "      <th>0</th>\n",
       "      <td>little girl afraid okay little girl panting gr...</td>\n",
       "      <td>A2</td>\n",
       "      <td>738.810</td>\n",
       "      <td>2.2</td>\n",
       "    </tr>\n",
       "    <tr>\n",
       "      <th>1</th>\n",
       "      <td>phone click clatter electrical humming chain c...</td>\n",
       "      <td>A2</td>\n",
       "      <td>738.810</td>\n",
       "      <td>2.2</td>\n",
       "    </tr>\n",
       "    <tr>\n",
       "      <th>2</th>\n",
       "      <td>froze place plan move worked yet lot gone miss...</td>\n",
       "      <td>A2</td>\n",
       "      <td>738.810</td>\n",
       "      <td>2.2</td>\n",
       "    </tr>\n",
       "    <tr>\n",
       "      <th>3</th>\n",
       "      <td>pot rattling luck tell poison uh one sure way ...</td>\n",
       "      <td>A2</td>\n",
       "      <td>638.055</td>\n",
       "      <td>2.2</td>\n",
       "    </tr>\n",
       "    <tr>\n",
       "      <th>4</th>\n",
       "      <td>anybody else hmm anybody rick yeah grunting he...</td>\n",
       "      <td>A2</td>\n",
       "      <td>638.055</td>\n",
       "      <td>2.2</td>\n",
       "    </tr>\n",
       "  </tbody>\n",
       "</table>\n",
       "</div>"
      ],
      "text/plain": [
       "                                            sub_text level  subs_duration  subs_duration_avg\n",
       "0  little girl afraid okay little girl panting gr...    A2        738.810                2.2\n",
       "1  phone click clatter electrical humming chain c...    A2        738.810                2.2\n",
       "2  froze place plan move worked yet lot gone miss...    A2        738.810                2.2\n",
       "3  pot rattling luck tell poison uh one sure way ...    A2        638.055                2.2\n",
       "4  anybody else hmm anybody rick yeah grunting he...    A2        638.055                2.2"
      ]
     },
     "execution_count": 54,
     "metadata": {},
     "output_type": "execute_result"
    }
   ],
   "source": [
    "df_sub.head()"
   ]
  },
  {
   "cell_type": "code",
   "execution_count": 55,
   "id": "58dad3fa",
   "metadata": {
    "ExecuteTime": {
     "end_time": "2023-06-07T14:24:59.913892Z",
     "start_time": "2023-06-07T14:24:59.896937Z"
    }
   },
   "outputs": [
    {
     "name": "stdout",
     "output_type": "stream",
     "text": [
      "<class 'pandas.core.frame.DataFrame'>\n",
      "Int64Index: 708 entries, 0 to 707\n",
      "Data columns (total 4 columns):\n",
      " #   Column             Non-Null Count  Dtype  \n",
      "---  ------             --------------  -----  \n",
      " 0   sub_text           708 non-null    object \n",
      " 1   level              708 non-null    object \n",
      " 2   subs_duration      708 non-null    float64\n",
      " 3   subs_duration_avg  708 non-null    float64\n",
      "dtypes: float64(2), object(2)\n",
      "memory usage: 27.7+ KB\n"
     ]
    }
   ],
   "source": [
    "df_sub.info()"
   ]
  },
  {
   "cell_type": "code",
   "execution_count": 56,
   "id": "61066a0a",
   "metadata": {
    "ExecuteTime": {
     "end_time": "2023-06-07T14:25:21.913488Z",
     "start_time": "2023-06-07T14:25:21.896546Z"
    }
   },
   "outputs": [
    {
     "data": {
      "text/plain": [
       "(236, 2)"
      ]
     },
     "execution_count": 56,
     "metadata": {},
     "output_type": "execute_result"
    }
   ],
   "source": [
    "movies.shape"
   ]
  },
  {
   "cell_type": "markdown",
   "id": "7c3d69c6",
   "metadata": {},
   "source": [
    "Наблюдений стало ровно в 3 раза больше, т.к. каждый текс субтитра поделен на 3 части."
   ]
  },
  {
   "cell_type": "code",
   "execution_count": 57,
   "id": "983f2acb",
   "metadata": {
    "ExecuteTime": {
     "end_time": "2023-06-07T14:26:08.328464Z",
     "start_time": "2023-06-07T14:26:08.305526Z"
    }
   },
   "outputs": [
    {
     "data": {
      "text/plain": [
       "count     708.000000\n",
       "mean     1406.255657\n",
       "std       575.717867\n",
       "min       453.695000\n",
       "25%       986.541250\n",
       "50%      1158.602500\n",
       "75%      1843.738750\n",
       "max      3633.945000\n",
       "Name: subs_duration, dtype: float64"
      ]
     },
     "execution_count": 57,
     "metadata": {},
     "output_type": "execute_result"
    }
   ],
   "source": [
    "df_sub['subs_duration'].describe()"
   ]
  },
  {
   "cell_type": "code",
   "execution_count": 58,
   "id": "a4b46db2",
   "metadata": {
    "ExecuteTime": {
     "end_time": "2023-06-07T14:32:11.752570Z",
     "start_time": "2023-06-07T14:32:11.730481Z"
    }
   },
   "outputs": [
    {
     "data": {
      "text/plain": [
       "count    708.000000\n",
       "mean       2.316271\n",
       "std        0.444022\n",
       "min        1.530000\n",
       "25%        2.010000\n",
       "50%        2.200000\n",
       "75%        2.532500\n",
       "max        3.930000\n",
       "Name: subs_duration_avg, dtype: float64"
      ]
     },
     "execution_count": 58,
     "metadata": {},
     "output_type": "execute_result"
    }
   ],
   "source": [
    "df_sub['subs_duration_avg'].describe()"
   ]
  },
  {
   "cell_type": "markdown",
   "id": "d21c7f40",
   "metadata": {},
   "source": [
    "Большинство фильмов имеют общую длительность субтитров в диапазоне от 986 до 1843 секунд, длительность одного субтитра - от 2 до 2,5 секунд."
   ]
  },
  {
   "cell_type": "markdown",
   "id": "c555e688",
   "metadata": {},
   "source": [
    "### Разделение на выборки"
   ]
  },
  {
   "cell_type": "markdown",
   "id": "4a7eeee3",
   "metadata": {},
   "source": [
    "Выделяю тестовую выборку для проверки. Создаю отдельные выборки с дополнительными признаками и без них, чтобы проверить их влияние на качество модели."
   ]
  },
  {
   "cell_type": "code",
   "execution_count": 61,
   "id": "e22f6933",
   "metadata": {
    "ExecuteTime": {
     "end_time": "2023-06-07T14:37:22.745791Z",
     "start_time": "2023-06-07T14:37:22.728833Z"
    }
   },
   "outputs": [],
   "source": [
    "X = df_sub.drop(['level', 'subs_duration', 'subs_duration_avg'], axis=1)\n",
    "X_s = df_sub.drop(['level'], axis=1)\n",
    "y = df_sub['level']"
   ]
  },
  {
   "cell_type": "code",
   "execution_count": 62,
   "id": "9200f1ed",
   "metadata": {
    "ExecuteTime": {
     "end_time": "2023-06-07T14:37:26.032106Z",
     "start_time": "2023-06-07T14:37:26.018114Z"
    }
   },
   "outputs": [],
   "source": [
    "X_train, X_test, y_train, y_test = train_test_split(\n",
    "     X, y, test_size=0.2, random_state=RND_STATE, stratify=y)"
   ]
  },
  {
   "cell_type": "code",
   "execution_count": 63,
   "id": "b7402da3",
   "metadata": {
    "ExecuteTime": {
     "end_time": "2023-06-07T14:38:01.752074Z",
     "start_time": "2023-06-07T14:38:01.737115Z"
    }
   },
   "outputs": [],
   "source": [
    "X_s_train, X_s_test = train_test_split(\n",
    "     X_s, test_size=0.2, random_state=RND_STATE, stratify=y)"
   ]
  },
  {
   "cell_type": "code",
   "execution_count": 65,
   "id": "dc2d6e7a",
   "metadata": {
    "ExecuteTime": {
     "end_time": "2023-06-07T14:38:24.002581Z",
     "start_time": "2023-06-07T14:38:23.985314Z"
    }
   },
   "outputs": [
    {
     "data": {
      "text/plain": [
       "(566, 1)"
      ]
     },
     "execution_count": 65,
     "metadata": {},
     "output_type": "execute_result"
    }
   ],
   "source": [
    "X_train.shape"
   ]
  },
  {
   "cell_type": "code",
   "execution_count": 66,
   "id": "4a879104",
   "metadata": {
    "ExecuteTime": {
     "end_time": "2023-06-07T14:38:40.784874Z",
     "start_time": "2023-06-07T14:38:40.777895Z"
    }
   },
   "outputs": [
    {
     "data": {
      "text/plain": [
       "(566, 3)"
      ]
     },
     "execution_count": 66,
     "metadata": {},
     "output_type": "execute_result"
    }
   ],
   "source": [
    "X_s_train.shape"
   ]
  },
  {
   "cell_type": "code",
   "execution_count": 68,
   "id": "bc4f97d5",
   "metadata": {
    "ExecuteTime": {
     "end_time": "2023-06-07T14:39:14.326150Z",
     "start_time": "2023-06-07T14:39:14.306192Z"
    }
   },
   "outputs": [
    {
     "data": {
      "text/plain": [
       "(566,)"
      ]
     },
     "execution_count": 68,
     "metadata": {},
     "output_type": "execute_result"
    }
   ],
   "source": [
    "y_train.shape"
   ]
  },
  {
   "cell_type": "markdown",
   "id": "c476d1ff",
   "metadata": {},
   "source": [
    "### Векторизация"
   ]
  },
  {
   "cell_type": "markdown",
   "id": "c9ddf6de",
   "metadata": {},
   "source": [
    "#### Bag of words"
   ]
  },
  {
   "cell_type": "code",
   "execution_count": 69,
   "id": "98331550",
   "metadata": {
    "ExecuteTime": {
     "end_time": "2023-06-07T14:40:09.053318Z",
     "start_time": "2023-06-07T14:40:08.058273Z"
    }
   },
   "outputs": [
    {
     "name": "stdout",
     "output_type": "stream",
     "text": [
      "X_train_bow shape:  (566, 4241)\n",
      "X_test_bow shape:  (142, 4241)\n"
     ]
    }
   ],
   "source": [
    "vect = CountVectorizer(min_df=10)\n",
    "\n",
    "X_train_bow = vect.fit(X_train['sub_text'])\n",
    "X_train_bow = vect.transform(X_train['sub_text'])\n",
    "X_test_bow = vect.transform(X_test['sub_text'])\n",
    "\n",
    "print('X_train_bow shape: ', X_train_bow.shape)\n",
    "print('X_test_bow shape: ', X_test_bow.shape)"
   ]
  },
  {
   "cell_type": "markdown",
   "id": "6dea07e8",
   "metadata": {},
   "source": [
    "#### TF-IDF"
   ]
  },
  {
   "cell_type": "code",
   "execution_count": 70,
   "id": "46017171",
   "metadata": {
    "ExecuteTime": {
     "end_time": "2023-06-07T14:40:24.598914Z",
     "start_time": "2023-06-07T14:40:24.032419Z"
    }
   },
   "outputs": [
    {
     "name": "stdout",
     "output_type": "stream",
     "text": [
      "X_train_tfidf shape:  (566, 4241)\n",
      "X_test_tfidf shape:  (142, 4241)\n"
     ]
    }
   ],
   "source": [
    "vect_tfidf = TfidfVectorizer(min_df=10)\n",
    "\n",
    "X_train_tfidf = vect_tfidf.fit_transform(X_train['sub_text'])\n",
    "X_test_tfidf = vect_tfidf.transform(X_test['sub_text'])\n",
    "\n",
    "print('X_train_tfidf shape: ', X_train_tfidf.shape)\n",
    "print('X_test_tfidf shape: ', X_test_tfidf.shape)"
   ]
  },
  {
   "cell_type": "markdown",
   "id": "8fd191c4",
   "metadata": {},
   "source": [
    "## Модели"
   ]
  },
  {
   "cell_type": "markdown",
   "id": "b52ea31f",
   "metadata": {},
   "source": [
    "### LogisticRegressionCV"
   ]
  },
  {
   "cell_type": "code",
   "execution_count": 71,
   "id": "49f8e80e",
   "metadata": {
    "ExecuteTime": {
     "end_time": "2023-06-07T14:41:02.212611Z",
     "start_time": "2023-06-07T14:41:02.201641Z"
    }
   },
   "outputs": [],
   "source": [
    "model_lr = LogisticRegressionCV(cv=5, multi_class='multinomial', random_state=RND_STATE, max_iter=1000, class_weight='balanced')"
   ]
  },
  {
   "cell_type": "code",
   "execution_count": 74,
   "id": "15e036c4",
   "metadata": {
    "ExecuteTime": {
     "end_time": "2023-06-07T14:49:35.077584Z",
     "start_time": "2023-06-07T14:47:20.580909Z"
    }
   },
   "outputs": [
    {
     "name": "stdout",
     "output_type": "stream",
     "text": [
      "Balanced accuracy, logistic regression, bag of words: 0.78 (+/- 0.04\n"
     ]
    }
   ],
   "source": [
    "scores = cross_val_score(model_lr, X_train_bow, y_train, cv=5, scoring='balanced_accuracy', n_jobs=-1)\n",
    "\n",
    "print(f'Balanced accuracy, logistic regression, bag of words: {scores.mean():.2f} (+/- {scores.std():.2f})')"
   ]
  },
  {
   "cell_type": "code",
   "execution_count": 76,
   "id": "7e54124c",
   "metadata": {
    "ExecuteTime": {
     "end_time": "2023-06-07T14:52:25.125486Z",
     "start_time": "2023-06-07T14:51:34.434325Z"
    }
   },
   "outputs": [
    {
     "name": "stdout",
     "output_type": "stream",
     "text": [
      "Balanced accuracy, logistic regression, TF-IDF: 0.85 (+/- 0.04)\n"
     ]
    }
   ],
   "source": [
    "scores_tf = cross_val_score(model_lr, X_train_tfidf, y_train, cv=5, scoring='balanced_accuracy', n_jobs=-1)\n",
    "\n",
    "print(f'Balanced accuracy, logistic regression, TF-IDF: {scores_tf.mean():.2f} (+/- {scores_tf.std():.2f})')"
   ]
  },
  {
   "cell_type": "markdown",
   "id": "ab400437",
   "metadata": {},
   "source": [
    "Для модели логистической регрессии лучше результат с векторизацией TF-IDF"
   ]
  },
  {
   "cell_type": "markdown",
   "id": "6dfd9b43",
   "metadata": {},
   "source": [
    "### Catboost"
   ]
  },
  {
   "cell_type": "markdown",
   "id": "ef2908b3",
   "metadata": {},
   "source": [
    "Использую датасет, векторизованный с помощью bag of words"
   ]
  },
  {
   "cell_type": "code",
   "execution_count": 77,
   "id": "331a44cd",
   "metadata": {
    "ExecuteTime": {
     "end_time": "2023-06-07T14:54:45.592572Z",
     "start_time": "2023-06-07T14:54:45.554636Z"
    }
   },
   "outputs": [],
   "source": [
    "train_pool_bow = Pool(X_train_bow, y_train)"
   ]
  },
  {
   "cell_type": "code",
   "execution_count": 78,
   "id": "9f51ed45",
   "metadata": {
    "ExecuteTime": {
     "end_time": "2023-06-07T14:55:00.709058Z",
     "start_time": "2023-06-07T14:55:00.690108Z"
    }
   },
   "outputs": [],
   "source": [
    "params = {\n",
    "    'iterations': 500,\n",
    "#    'learning_rate': 0.1,\n",
    "    'eval_metric': 'Accuracy',\n",
    "    'loss_function': 'MultiClass',\n",
    "    'random_seed': RND_STATE,\n",
    "    'verbose': 100\n",
    "}"
   ]
  },
  {
   "cell_type": "code",
   "execution_count": 79,
   "id": "54817b2a",
   "metadata": {
    "ExecuteTime": {
     "end_time": "2023-06-07T14:58:13.898397Z",
     "start_time": "2023-06-07T14:55:25.745889Z"
    }
   },
   "outputs": [
    {
     "name": "stdout",
     "output_type": "stream",
     "text": [
      "Training on fold [0/5]\n",
      "\n",
      "bestTest = 0.75\n",
      "bestIteration = 373\n",
      "\n",
      "Training on fold [1/5]\n",
      "\n",
      "bestTest = 0.7456140351\n",
      "bestIteration = 359\n",
      "\n",
      "Training on fold [2/5]\n",
      "\n",
      "bestTest = 0.7767857143\n",
      "bestIteration = 308\n",
      "\n",
      "Training on fold [3/5]\n",
      "\n",
      "bestTest = 0.625\n",
      "bestIteration = 11\n",
      "\n",
      "Training on fold [4/5]\n",
      "\n",
      "bestTest = 0.6875\n",
      "bestIteration = 440\n",
      "\n"
     ]
    }
   ],
   "source": [
    "cv_data_bow = cv(\n",
    "    params=params,\n",
    "    pool=train_pool_bow,\n",
    "    fold_count=5,\n",
    "    shuffle=True,\n",
    "    partition_random_seed=0,\n",
    "    stratified=True,\n",
    "    verbose=False,\n",
    "    early_stopping_rounds=100\n",
    ")"
   ]
  },
  {
   "cell_type": "code",
   "execution_count": null,
   "id": "00a4a620",
   "metadata": {
    "ExecuteTime": {
     "end_time": "2023-06-05T16:24:19.726612Z",
     "start_time": "2023-06-05T16:24:19.706665Z"
    }
   },
   "outputs": [],
   "source": [
    "cv_data.head()"
   ]
  },
  {
   "cell_type": "code",
   "execution_count": 82,
   "id": "e655fe3f",
   "metadata": {
    "ExecuteTime": {
     "end_time": "2023-06-07T15:05:28.088984Z",
     "start_time": "2023-06-07T15:05:28.051981Z"
    }
   },
   "outputs": [
    {
     "data": {
      "text/html": [
       "<div>\n",
       "<style scoped>\n",
       "    .dataframe tbody tr th:only-of-type {\n",
       "        vertical-align: middle;\n",
       "    }\n",
       "\n",
       "    .dataframe tbody tr th {\n",
       "        vertical-align: top;\n",
       "    }\n",
       "\n",
       "    .dataframe thead th {\n",
       "        text-align: right;\n",
       "    }\n",
       "</style>\n",
       "<table border=\"1\" class=\"dataframe\">\n",
       "  <thead>\n",
       "    <tr style=\"text-align: right;\">\n",
       "      <th></th>\n",
       "      <th>iterations</th>\n",
       "      <th>test-Accuracy-mean</th>\n",
       "      <th>test-Accuracy-std</th>\n",
       "      <th>train-Accuracy-mean</th>\n",
       "      <th>train-Accuracy-std</th>\n",
       "      <th>test-MultiClass-mean</th>\n",
       "      <th>test-MultiClass-std</th>\n",
       "      <th>train-MultiClass-mean</th>\n",
       "      <th>train-MultiClass-std</th>\n",
       "    </tr>\n",
       "  </thead>\n",
       "  <tbody>\n",
       "    <tr>\n",
       "      <th>434</th>\n",
       "      <td>434</td>\n",
       "      <td>0.70639</td>\n",
       "      <td>0.065715</td>\n",
       "      <td>0.954162</td>\n",
       "      <td>0.087699</td>\n",
       "      <td>0.763755</td>\n",
       "      <td>0.089887</td>\n",
       "      <td>0.43616</td>\n",
       "      <td>0.192117</td>\n",
       "    </tr>\n",
       "  </tbody>\n",
       "</table>\n",
       "</div>"
      ],
      "text/plain": [
       "     iterations  test-Accuracy-mean  ...  train-MultiClass-mean  train-MultiClass-std\n",
       "434         434             0.70639  ...                0.43616              0.192117\n",
       "\n",
       "[1 rows x 9 columns]"
      ]
     },
     "execution_count": 82,
     "metadata": {},
     "output_type": "execute_result"
    }
   ],
   "source": [
    "cv_data_bow[cv_data_bow['test-Accuracy-mean'] == cv_data_bow['test-Accuracy-mean'].max()]"
   ]
  },
  {
   "cell_type": "markdown",
   "id": "559b42d0",
   "metadata": {},
   "source": [
    "Качество модели хуже, чем у линейной регрессии. Пробую TF-IDF"
   ]
  },
  {
   "cell_type": "code",
   "execution_count": 83,
   "id": "3946d588",
   "metadata": {
    "ExecuteTime": {
     "end_time": "2023-06-07T15:06:43.595891Z",
     "start_time": "2023-06-07T15:06:43.546993Z"
    }
   },
   "outputs": [],
   "source": [
    "train_pool_idf = Pool(X_train_tfidf, y_train)"
   ]
  },
  {
   "cell_type": "code",
   "execution_count": 84,
   "id": "cae3658f",
   "metadata": {
    "ExecuteTime": {
     "end_time": "2023-06-07T15:18:23.741100Z",
     "start_time": "2023-06-07T15:06:47.170958Z"
    }
   },
   "outputs": [
    {
     "name": "stdout",
     "output_type": "stream",
     "text": [
      "Training on fold [0/5]\n",
      "\n",
      "bestTest = 0.724137931\n",
      "bestIteration = 418\n",
      "\n",
      "Training on fold [1/5]\n",
      "\n",
      "bestTest = 0.701754386\n",
      "bestIteration = 245\n",
      "\n",
      "Training on fold [2/5]\n",
      "\n",
      "bestTest = 0.7678571429\n",
      "bestIteration = 261\n",
      "\n",
      "Training on fold [3/5]\n",
      "\n",
      "bestTest = 0.5803571429\n",
      "bestIteration = 13\n",
      "\n",
      "Training on fold [4/5]\n",
      "\n",
      "bestTest = 0.5357142857\n",
      "bestIteration = 28\n",
      "\n"
     ]
    }
   ],
   "source": [
    "cv_data_idf = cv(\n",
    "    params=params,\n",
    "    pool=train_pool_idf,\n",
    "    fold_count=5,\n",
    "    shuffle=True,\n",
    "    partition_random_seed=0,\n",
    "    stratified=True,\n",
    "    verbose=False,\n",
    "    early_stopping_rounds=100\n",
    ")"
   ]
  },
  {
   "cell_type": "code",
   "execution_count": 85,
   "id": "bacfca18",
   "metadata": {
    "ExecuteTime": {
     "end_time": "2023-06-07T15:18:52.279980Z",
     "start_time": "2023-06-07T15:18:52.244882Z"
    }
   },
   "outputs": [
    {
     "data": {
      "text/html": [
       "<div>\n",
       "<style scoped>\n",
       "    .dataframe tbody tr th:only-of-type {\n",
       "        vertical-align: middle;\n",
       "    }\n",
       "\n",
       "    .dataframe tbody tr th {\n",
       "        vertical-align: top;\n",
       "    }\n",
       "\n",
       "    .dataframe thead th {\n",
       "        text-align: right;\n",
       "    }\n",
       "</style>\n",
       "<table border=\"1\" class=\"dataframe\">\n",
       "  <thead>\n",
       "    <tr style=\"text-align: right;\">\n",
       "      <th></th>\n",
       "      <th>iterations</th>\n",
       "      <th>test-Accuracy-mean</th>\n",
       "      <th>test-Accuracy-std</th>\n",
       "      <th>train-Accuracy-mean</th>\n",
       "      <th>train-Accuracy-std</th>\n",
       "      <th>test-MultiClass-mean</th>\n",
       "      <th>test-MultiClass-std</th>\n",
       "      <th>train-MultiClass-mean</th>\n",
       "      <th>train-MultiClass-std</th>\n",
       "    </tr>\n",
       "  </thead>\n",
       "  <tbody>\n",
       "    <tr>\n",
       "      <th>418</th>\n",
       "      <td>418</td>\n",
       "      <td>0.651281</td>\n",
       "      <td>0.105261</td>\n",
       "      <td>0.931693</td>\n",
       "      <td>0.078116</td>\n",
       "      <td>0.816454</td>\n",
       "      <td>0.117403</td>\n",
       "      <td>0.516238</td>\n",
       "      <td>0.206975</td>\n",
       "    </tr>\n",
       "    <tr>\n",
       "      <th>419</th>\n",
       "      <td>419</td>\n",
       "      <td>0.651281</td>\n",
       "      <td>0.105261</td>\n",
       "      <td>0.931693</td>\n",
       "      <td>0.078116</td>\n",
       "      <td>0.816443</td>\n",
       "      <td>0.117412</td>\n",
       "      <td>0.516032</td>\n",
       "      <td>0.207218</td>\n",
       "    </tr>\n",
       "    <tr>\n",
       "      <th>420</th>\n",
       "      <td>420</td>\n",
       "      <td>0.651281</td>\n",
       "      <td>0.105261</td>\n",
       "      <td>0.931693</td>\n",
       "      <td>0.078116</td>\n",
       "      <td>0.816334</td>\n",
       "      <td>0.117495</td>\n",
       "      <td>0.515886</td>\n",
       "      <td>0.207391</td>\n",
       "    </tr>\n",
       "    <tr>\n",
       "      <th>421</th>\n",
       "      <td>421</td>\n",
       "      <td>0.651281</td>\n",
       "      <td>0.105261</td>\n",
       "      <td>0.931693</td>\n",
       "      <td>0.078116</td>\n",
       "      <td>0.816339</td>\n",
       "      <td>0.117491</td>\n",
       "      <td>0.515708</td>\n",
       "      <td>0.207600</td>\n",
       "    </tr>\n",
       "    <tr>\n",
       "      <th>422</th>\n",
       "      <td>422</td>\n",
       "      <td>0.651281</td>\n",
       "      <td>0.105261</td>\n",
       "      <td>0.931693</td>\n",
       "      <td>0.078116</td>\n",
       "      <td>0.816239</td>\n",
       "      <td>0.117568</td>\n",
       "      <td>0.515443</td>\n",
       "      <td>0.207914</td>\n",
       "    </tr>\n",
       "    <tr>\n",
       "      <th>423</th>\n",
       "      <td>423</td>\n",
       "      <td>0.651281</td>\n",
       "      <td>0.105261</td>\n",
       "      <td>0.931693</td>\n",
       "      <td>0.078116</td>\n",
       "      <td>0.816118</td>\n",
       "      <td>0.117661</td>\n",
       "      <td>0.515306</td>\n",
       "      <td>0.208078</td>\n",
       "    </tr>\n",
       "    <tr>\n",
       "      <th>424</th>\n",
       "      <td>424</td>\n",
       "      <td>0.651281</td>\n",
       "      <td>0.105261</td>\n",
       "      <td>0.931693</td>\n",
       "      <td>0.078116</td>\n",
       "      <td>0.815971</td>\n",
       "      <td>0.117775</td>\n",
       "      <td>0.515183</td>\n",
       "      <td>0.208225</td>\n",
       "    </tr>\n",
       "    <tr>\n",
       "      <th>425</th>\n",
       "      <td>425</td>\n",
       "      <td>0.651281</td>\n",
       "      <td>0.105261</td>\n",
       "      <td>0.931693</td>\n",
       "      <td>0.078116</td>\n",
       "      <td>0.815909</td>\n",
       "      <td>0.117824</td>\n",
       "      <td>0.515047</td>\n",
       "      <td>0.208387</td>\n",
       "    </tr>\n",
       "    <tr>\n",
       "      <th>426</th>\n",
       "      <td>426</td>\n",
       "      <td>0.651281</td>\n",
       "      <td>0.105261</td>\n",
       "      <td>0.931693</td>\n",
       "      <td>0.078116</td>\n",
       "      <td>0.815837</td>\n",
       "      <td>0.117880</td>\n",
       "      <td>0.514885</td>\n",
       "      <td>0.208581</td>\n",
       "    </tr>\n",
       "    <tr>\n",
       "      <th>427</th>\n",
       "      <td>427</td>\n",
       "      <td>0.651281</td>\n",
       "      <td>0.105261</td>\n",
       "      <td>0.931693</td>\n",
       "      <td>0.078116</td>\n",
       "      <td>0.815883</td>\n",
       "      <td>0.117844</td>\n",
       "      <td>0.514729</td>\n",
       "      <td>0.208768</td>\n",
       "    </tr>\n",
       "    <tr>\n",
       "      <th>428</th>\n",
       "      <td>428</td>\n",
       "      <td>0.651281</td>\n",
       "      <td>0.105261</td>\n",
       "      <td>0.931693</td>\n",
       "      <td>0.078116</td>\n",
       "      <td>0.815749</td>\n",
       "      <td>0.117949</td>\n",
       "      <td>0.514607</td>\n",
       "      <td>0.208915</td>\n",
       "    </tr>\n",
       "    <tr>\n",
       "      <th>429</th>\n",
       "      <td>429</td>\n",
       "      <td>0.651281</td>\n",
       "      <td>0.105261</td>\n",
       "      <td>0.931693</td>\n",
       "      <td>0.078116</td>\n",
       "      <td>0.815793</td>\n",
       "      <td>0.117915</td>\n",
       "      <td>0.514473</td>\n",
       "      <td>0.209076</td>\n",
       "    </tr>\n",
       "    <tr>\n",
       "      <th>430</th>\n",
       "      <td>430</td>\n",
       "      <td>0.651281</td>\n",
       "      <td>0.105261</td>\n",
       "      <td>0.931693</td>\n",
       "      <td>0.078116</td>\n",
       "      <td>0.815736</td>\n",
       "      <td>0.117959</td>\n",
       "      <td>0.514385</td>\n",
       "      <td>0.209182</td>\n",
       "    </tr>\n",
       "    <tr>\n",
       "      <th>431</th>\n",
       "      <td>431</td>\n",
       "      <td>0.651281</td>\n",
       "      <td>0.105261</td>\n",
       "      <td>0.931693</td>\n",
       "      <td>0.078116</td>\n",
       "      <td>0.815814</td>\n",
       "      <td>0.117898</td>\n",
       "      <td>0.514227</td>\n",
       "      <td>0.209373</td>\n",
       "    </tr>\n",
       "    <tr>\n",
       "      <th>432</th>\n",
       "      <td>432</td>\n",
       "      <td>0.651281</td>\n",
       "      <td>0.105261</td>\n",
       "      <td>0.931693</td>\n",
       "      <td>0.078116</td>\n",
       "      <td>0.815695</td>\n",
       "      <td>0.117992</td>\n",
       "      <td>0.514059</td>\n",
       "      <td>0.209577</td>\n",
       "    </tr>\n",
       "    <tr>\n",
       "      <th>433</th>\n",
       "      <td>433</td>\n",
       "      <td>0.651281</td>\n",
       "      <td>0.105261</td>\n",
       "      <td>0.931693</td>\n",
       "      <td>0.078116</td>\n",
       "      <td>0.815565</td>\n",
       "      <td>0.118095</td>\n",
       "      <td>0.513873</td>\n",
       "      <td>0.209803</td>\n",
       "    </tr>\n",
       "    <tr>\n",
       "      <th>444</th>\n",
       "      <td>444</td>\n",
       "      <td>0.651281</td>\n",
       "      <td>0.105261</td>\n",
       "      <td>0.931693</td>\n",
       "      <td>0.078116</td>\n",
       "      <td>0.815007</td>\n",
       "      <td>0.118544</td>\n",
       "      <td>0.512034</td>\n",
       "      <td>0.212066</td>\n",
       "    </tr>\n",
       "    <tr>\n",
       "      <th>445</th>\n",
       "      <td>445</td>\n",
       "      <td>0.651281</td>\n",
       "      <td>0.105261</td>\n",
       "      <td>0.931693</td>\n",
       "      <td>0.078116</td>\n",
       "      <td>0.814859</td>\n",
       "      <td>0.118665</td>\n",
       "      <td>0.511886</td>\n",
       "      <td>0.212250</td>\n",
       "    </tr>\n",
       "  </tbody>\n",
       "</table>\n",
       "</div>"
      ],
      "text/plain": [
       "     iterations  test-Accuracy-mean  ...  train-MultiClass-mean  train-MultiClass-std\n",
       "418         418            0.651281  ...               0.516238              0.206975\n",
       "419         419            0.651281  ...               0.516032              0.207218\n",
       "420         420            0.651281  ...               0.515886              0.207391\n",
       "421         421            0.651281  ...               0.515708              0.207600\n",
       "422         422            0.651281  ...               0.515443              0.207914\n",
       "423         423            0.651281  ...               0.515306              0.208078\n",
       "424         424            0.651281  ...               0.515183              0.208225\n",
       "425         425            0.651281  ...               0.515047              0.208387\n",
       "426         426            0.651281  ...               0.514885              0.208581\n",
       "427         427            0.651281  ...               0.514729              0.208768\n",
       "428         428            0.651281  ...               0.514607              0.208915\n",
       "429         429            0.651281  ...               0.514473              0.209076\n",
       "430         430            0.651281  ...               0.514385              0.209182\n",
       "431         431            0.651281  ...               0.514227              0.209373\n",
       "432         432            0.651281  ...               0.514059              0.209577\n",
       "433         433            0.651281  ...               0.513873              0.209803\n",
       "444         444            0.651281  ...               0.512034              0.212066\n",
       "445         445            0.651281  ...               0.511886              0.212250\n",
       "\n",
       "[18 rows x 9 columns]"
      ]
     },
     "execution_count": 85,
     "metadata": {},
     "output_type": "execute_result"
    }
   ],
   "source": [
    "cv_data_idf[cv_data_idf['test-Accuracy-mean'] == cv_data_idf['test-Accuracy-mean'].max()]"
   ]
  },
  {
   "cell_type": "markdown",
   "id": "86251077",
   "metadata": {},
   "source": [
    "Значение метрики с TF-IDF у Catboost стало хуже"
   ]
  },
  {
   "cell_type": "markdown",
   "id": "2d7219b7",
   "metadata": {},
   "source": [
    "#### Сatboost textfeatures"
   ]
  },
  {
   "cell_type": "markdown",
   "id": "87f6ffab",
   "metadata": {},
   "source": [
    "Пробую воспользоваться встроенным средством Catboost для векторизации, передаю в модель не векторизованные данные"
   ]
  },
  {
   "cell_type": "code",
   "execution_count": 86,
   "id": "e822336e",
   "metadata": {
    "ExecuteTime": {
     "end_time": "2023-06-07T15:20:32.461121Z",
     "start_time": "2023-06-07T15:20:32.452117Z"
    }
   },
   "outputs": [],
   "source": [
    "text_features = ['sub_text']"
   ]
  },
  {
   "cell_type": "code",
   "execution_count": 87,
   "id": "0dfc0998",
   "metadata": {
    "ExecuteTime": {
     "end_time": "2023-06-07T15:20:36.797204Z",
     "start_time": "2023-06-07T15:20:36.773271Z"
    }
   },
   "outputs": [],
   "source": [
    "train_pool_txt = Pool(X_train, y_train, text_features=text_features)"
   ]
  },
  {
   "cell_type": "code",
   "execution_count": 98,
   "id": "9c06b127",
   "metadata": {
    "ExecuteTime": {
     "end_time": "2023-06-07T16:18:55.939835Z",
     "start_time": "2023-06-07T16:18:55.920785Z"
    }
   },
   "outputs": [],
   "source": [
    "params = {\n",
    "    'iterations': 500,\n",
    "    'learning_rate': 0.07,\n",
    "    'eval_metric': 'Accuracy',\n",
    "    'loss_function': 'MultiClass',\n",
    "    'random_seed': RND_STATE,\n",
    "    'verbose': 100\n",
    "#    'logging_level': 'Silent',\n",
    "}"
   ]
  },
  {
   "cell_type": "code",
   "execution_count": 99,
   "id": "1ba57578",
   "metadata": {
    "ExecuteTime": {
     "end_time": "2023-06-07T16:34:34.347742Z",
     "start_time": "2023-06-07T16:18:58.391453Z"
    }
   },
   "outputs": [
    {
     "name": "stdout",
     "output_type": "stream",
     "text": [
      "Training on fold [0/5]\n",
      "\n",
      "bestTest = 0.8620689655\n",
      "bestIteration = 58\n",
      "\n",
      "Training on fold [1/5]\n",
      "\n",
      "bestTest = 0.9210526316\n",
      "bestIteration = 236\n",
      "\n",
      "Training on fold [2/5]\n",
      "\n",
      "bestTest = 0.8392857143\n",
      "bestIteration = 105\n",
      "\n",
      "Training on fold [3/5]\n",
      "\n",
      "bestTest = 0.8392857143\n",
      "bestIteration = 131\n",
      "\n",
      "Training on fold [4/5]\n",
      "\n",
      "bestTest = 0.8660714286\n",
      "bestIteration = 215\n",
      "\n"
     ]
    }
   ],
   "source": [
    "cv_data_txt = cv(\n",
    "    params=params,\n",
    "    pool=train_pool_txt,\n",
    "    fold_count=5,\n",
    "    shuffle=True,\n",
    "    partition_random_seed=0,\n",
    "    stratified=True,\n",
    "    verbose=False,\n",
    "    early_stopping_rounds=200\n",
    ")"
   ]
  },
  {
   "cell_type": "code",
   "execution_count": 100,
   "id": "eec4dab8",
   "metadata": {
    "ExecuteTime": {
     "end_time": "2023-06-07T16:35:05.073052Z",
     "start_time": "2023-06-07T16:35:05.034103Z"
    }
   },
   "outputs": [
    {
     "data": {
      "text/html": [
       "<div>\n",
       "<style scoped>\n",
       "    .dataframe tbody tr th:only-of-type {\n",
       "        vertical-align: middle;\n",
       "    }\n",
       "\n",
       "    .dataframe tbody tr th {\n",
       "        vertical-align: top;\n",
       "    }\n",
       "\n",
       "    .dataframe thead th {\n",
       "        text-align: right;\n",
       "    }\n",
       "</style>\n",
       "<table border=\"1\" class=\"dataframe\">\n",
       "  <thead>\n",
       "    <tr style=\"text-align: right;\">\n",
       "      <th></th>\n",
       "      <th>iterations</th>\n",
       "      <th>test-Accuracy-mean</th>\n",
       "      <th>test-Accuracy-std</th>\n",
       "      <th>train-Accuracy-mean</th>\n",
       "      <th>train-Accuracy-std</th>\n",
       "      <th>test-MultiClass-mean</th>\n",
       "      <th>test-MultiClass-std</th>\n",
       "      <th>train-MultiClass-mean</th>\n",
       "      <th>train-MultiClass-std</th>\n",
       "    </tr>\n",
       "  </thead>\n",
       "  <tbody>\n",
       "    <tr>\n",
       "      <th>298</th>\n",
       "      <td>298</td>\n",
       "      <td>0.862013</td>\n",
       "      <td>0.031867</td>\n",
       "      <td>0.994694</td>\n",
       "      <td>0.002003</td>\n",
       "      <td>0.459455</td>\n",
       "      <td>0.079556</td>\n",
       "      <td>0.171571</td>\n",
       "      <td>0.017408</td>\n",
       "    </tr>\n",
       "    <tr>\n",
       "      <th>299</th>\n",
       "      <td>299</td>\n",
       "      <td>0.862013</td>\n",
       "      <td>0.031867</td>\n",
       "      <td>0.994694</td>\n",
       "      <td>0.002003</td>\n",
       "      <td>0.459417</td>\n",
       "      <td>0.079756</td>\n",
       "      <td>0.171272</td>\n",
       "      <td>0.017581</td>\n",
       "    </tr>\n",
       "    <tr>\n",
       "      <th>300</th>\n",
       "      <td>300</td>\n",
       "      <td>0.862013</td>\n",
       "      <td>0.031867</td>\n",
       "      <td>0.994694</td>\n",
       "      <td>0.002003</td>\n",
       "      <td>0.459512</td>\n",
       "      <td>0.079993</td>\n",
       "      <td>0.170853</td>\n",
       "      <td>0.017826</td>\n",
       "    </tr>\n",
       "    <tr>\n",
       "      <th>301</th>\n",
       "      <td>301</td>\n",
       "      <td>0.862013</td>\n",
       "      <td>0.031867</td>\n",
       "      <td>0.994694</td>\n",
       "      <td>0.002003</td>\n",
       "      <td>0.459337</td>\n",
       "      <td>0.080432</td>\n",
       "      <td>0.170487</td>\n",
       "      <td>0.018008</td>\n",
       "    </tr>\n",
       "    <tr>\n",
       "      <th>302</th>\n",
       "      <td>302</td>\n",
       "      <td>0.862013</td>\n",
       "      <td>0.031867</td>\n",
       "      <td>0.994694</td>\n",
       "      <td>0.002003</td>\n",
       "      <td>0.458885</td>\n",
       "      <td>0.080257</td>\n",
       "      <td>0.170042</td>\n",
       "      <td>0.018239</td>\n",
       "    </tr>\n",
       "    <tr>\n",
       "      <th>...</th>\n",
       "      <td>...</td>\n",
       "      <td>...</td>\n",
       "      <td>...</td>\n",
       "      <td>...</td>\n",
       "      <td>...</td>\n",
       "      <td>...</td>\n",
       "      <td>...</td>\n",
       "      <td>...</td>\n",
       "      <td>...</td>\n",
       "    </tr>\n",
       "    <tr>\n",
       "      <th>432</th>\n",
       "      <td>432</td>\n",
       "      <td>0.862013</td>\n",
       "      <td>0.031867</td>\n",
       "      <td>0.995577</td>\n",
       "      <td>0.002728</td>\n",
       "      <td>0.445833</td>\n",
       "      <td>0.092677</td>\n",
       "      <td>0.145420</td>\n",
       "      <td>0.040247</td>\n",
       "    </tr>\n",
       "    <tr>\n",
       "      <th>433</th>\n",
       "      <td>433</td>\n",
       "      <td>0.862013</td>\n",
       "      <td>0.031867</td>\n",
       "      <td>0.995577</td>\n",
       "      <td>0.002728</td>\n",
       "      <td>0.445607</td>\n",
       "      <td>0.093161</td>\n",
       "      <td>0.145300</td>\n",
       "      <td>0.040383</td>\n",
       "    </tr>\n",
       "    <tr>\n",
       "      <th>434</th>\n",
       "      <td>434</td>\n",
       "      <td>0.862013</td>\n",
       "      <td>0.031867</td>\n",
       "      <td>0.995577</td>\n",
       "      <td>0.002728</td>\n",
       "      <td>0.445576</td>\n",
       "      <td>0.093228</td>\n",
       "      <td>0.145261</td>\n",
       "      <td>0.040428</td>\n",
       "    </tr>\n",
       "    <tr>\n",
       "      <th>435</th>\n",
       "      <td>435</td>\n",
       "      <td>0.862013</td>\n",
       "      <td>0.031867</td>\n",
       "      <td>0.995577</td>\n",
       "      <td>0.002728</td>\n",
       "      <td>0.445529</td>\n",
       "      <td>0.093327</td>\n",
       "      <td>0.145185</td>\n",
       "      <td>0.040516</td>\n",
       "    </tr>\n",
       "    <tr>\n",
       "      <th>436</th>\n",
       "      <td>436</td>\n",
       "      <td>0.862013</td>\n",
       "      <td>0.031867</td>\n",
       "      <td>0.995577</td>\n",
       "      <td>0.002728</td>\n",
       "      <td>0.445469</td>\n",
       "      <td>0.093455</td>\n",
       "      <td>0.145131</td>\n",
       "      <td>0.040578</td>\n",
       "    </tr>\n",
       "  </tbody>\n",
       "</table>\n",
       "<p>139 rows × 9 columns</p>\n",
       "</div>"
      ],
      "text/plain": [
       "     iterations  test-Accuracy-mean  ...  train-MultiClass-mean  train-MultiClass-std\n",
       "298         298            0.862013  ...               0.171571              0.017408\n",
       "299         299            0.862013  ...               0.171272              0.017581\n",
       "300         300            0.862013  ...               0.170853              0.017826\n",
       "301         301            0.862013  ...               0.170487              0.018008\n",
       "302         302            0.862013  ...               0.170042              0.018239\n",
       "..          ...                 ...  ...                    ...                   ...\n",
       "432         432            0.862013  ...               0.145420              0.040247\n",
       "433         433            0.862013  ...               0.145300              0.040383\n",
       "434         434            0.862013  ...               0.145261              0.040428\n",
       "435         435            0.862013  ...               0.145185              0.040516\n",
       "436         436            0.862013  ...               0.145131              0.040578\n",
       "\n",
       "[139 rows x 9 columns]"
      ]
     },
     "execution_count": 100,
     "metadata": {},
     "output_type": "execute_result"
    }
   ],
   "source": [
    "cv_data_txt[cv_data_txt['test-Accuracy-mean'] == cv_data_txt['test-Accuracy-mean'].max()]"
   ]
  },
  {
   "cell_type": "code",
   "execution_count": 111,
   "id": "6f8c6e07",
   "metadata": {
    "ExecuteTime": {
     "end_time": "2023-06-07T17:58:58.249035Z",
     "start_time": "2023-06-07T17:58:58.240001Z"
    }
   },
   "outputs": [],
   "source": [
    "acc_catboost = cv_data_txt[\"test-Accuracy-mean\"].max()\n",
    "acc_std_catboost = cv_data_txt[cv_data_txt['test-Accuracy-mean'] == cv_data_txt['test-Accuracy-mean'].max()]['test-Accuracy-std'].min()"
   ]
  },
  {
   "cell_type": "markdown",
   "id": "5ca4f636",
   "metadata": {},
   "source": [
    "Значение метрики получилось значительно выше при использовании встроенных средств векторизации текста Catboost.\n",
    "\n",
    "Пробую использовать датасет с дополнительными признаками."
   ]
  },
  {
   "cell_type": "code",
   "execution_count": 101,
   "id": "0b2c1977",
   "metadata": {
    "ExecuteTime": {
     "end_time": "2023-06-07T16:36:53.007919Z",
     "start_time": "2023-06-07T16:36:52.976932Z"
    }
   },
   "outputs": [],
   "source": [
    "train_pool_s_txt = Pool(X_s_train, y_train, text_features=text_features)"
   ]
  },
  {
   "cell_type": "code",
   "execution_count": 102,
   "id": "fffedf75",
   "metadata": {
    "ExecuteTime": {
     "end_time": "2023-06-07T16:51:51.443440Z",
     "start_time": "2023-06-07T16:37:08.609559Z"
    }
   },
   "outputs": [
    {
     "name": "stdout",
     "output_type": "stream",
     "text": [
      "Training on fold [0/5]\n",
      "\n",
      "bestTest = 0.8620689655\n",
      "bestIteration = 58\n",
      "\n",
      "Training on fold [1/5]\n",
      "\n",
      "bestTest = 0.9298245614\n",
      "bestIteration = 488\n",
      "\n",
      "Training on fold [2/5]\n",
      "\n",
      "bestTest = 0.8392857143\n",
      "bestIteration = 96\n",
      "\n",
      "Training on fold [3/5]\n",
      "\n",
      "bestTest = 0.8392857143\n",
      "bestIteration = 139\n",
      "\n",
      "Training on fold [4/5]\n",
      "\n",
      "bestTest = 0.8660714286\n",
      "bestIteration = 250\n",
      "\n"
     ]
    }
   ],
   "source": [
    "cv_data_s_txt = cv(\n",
    "    params=params,\n",
    "    pool=train_pool_s_txt,\n",
    "    fold_count=5,\n",
    "    shuffle=True,\n",
    "    partition_random_seed=0,\n",
    "    stratified=True,\n",
    "    verbose=False,\n",
    "    early_stopping_rounds=200\n",
    ")"
   ]
  },
  {
   "cell_type": "code",
   "execution_count": 103,
   "id": "1eabf48f",
   "metadata": {
    "ExecuteTime": {
     "end_time": "2023-06-07T17:41:22.191030Z",
     "start_time": "2023-06-07T17:41:22.153397Z"
    }
   },
   "outputs": [
    {
     "data": {
      "text/html": [
       "<div>\n",
       "<style scoped>\n",
       "    .dataframe tbody tr th:only-of-type {\n",
       "        vertical-align: middle;\n",
       "    }\n",
       "\n",
       "    .dataframe tbody tr th {\n",
       "        vertical-align: top;\n",
       "    }\n",
       "\n",
       "    .dataframe thead th {\n",
       "        text-align: right;\n",
       "    }\n",
       "</style>\n",
       "<table border=\"1\" class=\"dataframe\">\n",
       "  <thead>\n",
       "    <tr style=\"text-align: right;\">\n",
       "      <th></th>\n",
       "      <th>iterations</th>\n",
       "      <th>test-Accuracy-mean</th>\n",
       "      <th>test-Accuracy-std</th>\n",
       "      <th>train-Accuracy-mean</th>\n",
       "      <th>train-Accuracy-std</th>\n",
       "      <th>test-MultiClass-mean</th>\n",
       "      <th>test-MultiClass-std</th>\n",
       "      <th>train-MultiClass-mean</th>\n",
       "      <th>train-MultiClass-std</th>\n",
       "    </tr>\n",
       "  </thead>\n",
       "  <tbody>\n",
       "    <tr>\n",
       "      <th>488</th>\n",
       "      <td>488</td>\n",
       "      <td>0.865583</td>\n",
       "      <td>0.037608</td>\n",
       "      <td>0.996462</td>\n",
       "      <td>0.001992</td>\n",
       "      <td>0.433607</td>\n",
       "      <td>0.092626</td>\n",
       "      <td>0.130214</td>\n",
       "      <td>0.042371</td>\n",
       "    </tr>\n",
       "    <tr>\n",
       "      <th>490</th>\n",
       "      <td>490</td>\n",
       "      <td>0.865583</td>\n",
       "      <td>0.037608</td>\n",
       "      <td>0.996462</td>\n",
       "      <td>0.001992</td>\n",
       "      <td>0.433452</td>\n",
       "      <td>0.092968</td>\n",
       "      <td>0.130128</td>\n",
       "      <td>0.042481</td>\n",
       "    </tr>\n",
       "    <tr>\n",
       "      <th>491</th>\n",
       "      <td>491</td>\n",
       "      <td>0.865583</td>\n",
       "      <td>0.037608</td>\n",
       "      <td>0.996462</td>\n",
       "      <td>0.001992</td>\n",
       "      <td>0.433497</td>\n",
       "      <td>0.092868</td>\n",
       "      <td>0.130077</td>\n",
       "      <td>0.042548</td>\n",
       "    </tr>\n",
       "    <tr>\n",
       "      <th>492</th>\n",
       "      <td>492</td>\n",
       "      <td>0.865583</td>\n",
       "      <td>0.037608</td>\n",
       "      <td>0.996462</td>\n",
       "      <td>0.001992</td>\n",
       "      <td>0.433470</td>\n",
       "      <td>0.092929</td>\n",
       "      <td>0.130012</td>\n",
       "      <td>0.042632</td>\n",
       "    </tr>\n",
       "  </tbody>\n",
       "</table>\n",
       "</div>"
      ],
      "text/plain": [
       "     iterations  test-Accuracy-mean  ...  train-MultiClass-mean  train-MultiClass-std\n",
       "488         488            0.865583  ...               0.130214              0.042371\n",
       "490         490            0.865583  ...               0.130128              0.042481\n",
       "491         491            0.865583  ...               0.130077              0.042548\n",
       "492         492            0.865583  ...               0.130012              0.042632\n",
       "\n",
       "[4 rows x 9 columns]"
      ]
     },
     "execution_count": 103,
     "metadata": {},
     "output_type": "execute_result"
    }
   ],
   "source": [
    "cv_data_s_txt[cv_data_s_txt['test-Accuracy-mean'] == cv_data_s_txt['test-Accuracy-mean'].max()]"
   ]
  },
  {
   "cell_type": "markdown",
   "id": "2cdf5658",
   "metadata": {},
   "source": [
    "Добавление признаков не дало улучшения метрики. \n",
    "\n",
    "Как итог, выбираю и обучаю на всех данных две модели - LogisticRegressionCV и Catboost."
   ]
  },
  {
   "cell_type": "markdown",
   "id": "dcf217ae",
   "metadata": {},
   "source": [
    "### Проверка на тестовой выборке"
   ]
  },
  {
   "cell_type": "code",
   "execution_count": 113,
   "id": "e5603907",
   "metadata": {
    "ExecuteTime": {
     "end_time": "2023-06-07T17:59:40.983425Z",
     "start_time": "2023-06-07T17:59:40.972326Z"
    }
   },
   "outputs": [
    {
     "name": "stdout",
     "output_type": "stream",
     "text": [
      "Результаты метрик Balanced accuracy на обучающей выборке:\n",
      "LogisticRegressionCV, TF-IDF: 0.85 (+/- 0.04)\n",
      "Catboost, text features: 0.86 (+/- 0.03)\n"
     ]
    }
   ],
   "source": [
    "print('Результаты метрик Balanced accuracy на обучающей выборке:')\n",
    "print(f'LogisticRegressionCV, TF-IDF: {scores_tf.mean():.2f} (+/- {scores_tf.std():.2f})')\n",
    "print(f'Catboost, text features: {acc_catboost:.2f} (+/- {acc_std_catboost:.2f})')"
   ]
  },
  {
   "cell_type": "markdown",
   "id": "10169dec",
   "metadata": {},
   "source": [
    "Значения метрик для LogisticRegressionCV и Catboost близкие, хотя для Catboost немного выше и немного меньше стандартное отклонение.\n",
    "\n",
    "Проверяю значения на тестовой выборке"
   ]
  },
  {
   "cell_type": "code",
   "execution_count": 114,
   "id": "6c9325ec",
   "metadata": {
    "ExecuteTime": {
     "end_time": "2023-06-07T18:02:17.420691Z",
     "start_time": "2023-06-07T18:02:17.416098Z"
    }
   },
   "outputs": [],
   "source": [
    "params = {\n",
    "    'iterations': 300,\n",
    "    'learning_rate': 0.07,\n",
    "    'eval_metric': 'Accuracy',\n",
    "    'loss_function': 'MultiClass',\n",
    "    'random_seed': RND_STATE,\n",
    "    'verbose': 100\n",
    "#    'logging_level': 'Silent',\n",
    "}"
   ]
  },
  {
   "cell_type": "code",
   "execution_count": 115,
   "id": "e131a3e3",
   "metadata": {
    "ExecuteTime": {
     "end_time": "2023-06-07T18:04:53.259918Z",
     "start_time": "2023-06-07T18:02:27.167627Z"
    }
   },
   "outputs": [
    {
     "name": "stdout",
     "output_type": "stream",
     "text": [
      "0:\tlearn: 0.5954064\ttotal: 311ms\tremaining: 1m 32s\n",
      "100:\tlearn: 0.8816254\ttotal: 47.5s\tremaining: 1m 33s\n",
      "200:\tlearn: 0.9611307\ttotal: 1m 37s\tremaining: 48.2s\n",
      "299:\tlearn: 0.9893993\ttotal: 2m 25s\tremaining: 0us\n"
     ]
    },
    {
     "data": {
      "text/plain": [
       "<catboost.core.CatBoostClassifier at 0x13d240ed6d0>"
      ]
     },
     "execution_count": 115,
     "metadata": {},
     "output_type": "execute_result"
    }
   ],
   "source": [
    "model_catboost = CatBoostClassifier(**params)\n",
    "model_catboost.fit(train_pool_txt, verbose=100)"
   ]
  },
  {
   "cell_type": "code",
   "execution_count": 116,
   "id": "bece0bd1",
   "metadata": {
    "ExecuteTime": {
     "end_time": "2023-06-07T18:07:16.903734Z",
     "start_time": "2023-06-07T18:06:12.631880Z"
    }
   },
   "outputs": [
    {
     "data": {
      "text/plain": [
       "LogisticRegressionCV(class_weight='balanced', cv=5, max_iter=1000,\n",
       "                     multi_class='multinomial', random_state=3210)"
      ]
     },
     "execution_count": 116,
     "metadata": {},
     "output_type": "execute_result"
    }
   ],
   "source": [
    "model_lr.fit(X_train_bow, y_train)"
   ]
  },
  {
   "cell_type": "code",
   "execution_count": 117,
   "id": "11f899b7",
   "metadata": {
    "ExecuteTime": {
     "end_time": "2023-06-07T18:07:30.294262Z",
     "start_time": "2023-06-07T18:07:30.200267Z"
    }
   },
   "outputs": [],
   "source": [
    "y_pred_catboost = model_catboost.predict(X_test)"
   ]
  },
  {
   "cell_type": "code",
   "execution_count": 119,
   "id": "68abb6b1",
   "metadata": {
    "ExecuteTime": {
     "end_time": "2023-06-07T18:07:57.376489Z",
     "start_time": "2023-06-07T18:07:57.361387Z"
    }
   },
   "outputs": [],
   "source": [
    "y_pred_lr = model_lr.predict(X_test_tfidf)"
   ]
  },
  {
   "cell_type": "code",
   "execution_count": 121,
   "id": "3402bc15",
   "metadata": {
    "ExecuteTime": {
     "end_time": "2023-06-07T18:08:40.516751Z",
     "start_time": "2023-06-07T18:08:40.503707Z"
    }
   },
   "outputs": [
    {
     "name": "stdout",
     "output_type": "stream",
     "text": [
      "Balanced accuracy test, catboost: 0.9073\n",
      "Balanced accuracy test, logistic regression: 0.2500\n"
     ]
    }
   ],
   "source": [
    "print(f'Balanced accuracy test, catboost: {balanced_accuracy_score(y_test, y_pred_catboost):.4f}')\n",
    "print(f'Balanced accuracy test, logistic regression: {balanced_accuracy_score(y_test, y_pred_lr):.4f}')"
   ]
  },
  {
   "cell_type": "code",
   "execution_count": 122,
   "id": "ab15c165",
   "metadata": {
    "ExecuteTime": {
     "end_time": "2023-06-07T18:09:36.000095Z",
     "start_time": "2023-06-07T18:09:35.979146Z"
    }
   },
   "outputs": [
    {
     "name": "stdout",
     "output_type": "stream",
     "text": [
      "F1 score micro, catboost: 0.8944\n",
      "F1 score micro, logistic regression: 0.169\n"
     ]
    }
   ],
   "source": [
    "print(f'F1 score micro, catboost: {f1_score(y_test, y_pred_catboost, average=\"micro\"):.4}')\n",
    "print(f'F1 score micro, logistic regression: {f1_score(y_test, y_pred_lr, average=\"micro\"):.4}')"
   ]
  },
  {
   "cell_type": "code",
   "execution_count": 123,
   "id": "68f9b5e8",
   "metadata": {
    "ExecuteTime": {
     "end_time": "2023-06-07T18:10:10.103813Z",
     "start_time": "2023-06-07T18:10:10.089817Z"
    }
   },
   "outputs": [
    {
     "name": "stdout",
     "output_type": "stream",
     "text": [
      "F1 score weighted, catboost: 0.8962\n",
      "F1 score weighted, logistic regression: 0.04887\n"
     ]
    }
   ],
   "source": [
    "print(f'F1 score weighted, catboost: {f1_score(y_test, y_pred_catboost, average=\"weighted\"):.4}')\n",
    "print(f'F1 score weighted, logistic regression: {f1_score(y_test, y_pred_lr, average=\"weighted\"):.4}')"
   ]
  },
  {
   "cell_type": "markdown",
   "id": "45842f32",
   "metadata": {},
   "source": [
    "Модель логистической регрессии не прошла проверку на тестовой выборке.\n",
    "\n",
    "Модель Catboost показала такие же высокие результаты, как и на кросс-валидации."
   ]
  },
  {
   "cell_type": "code",
   "execution_count": 125,
   "id": "3a6f6151",
   "metadata": {
    "ExecuteTime": {
     "end_time": "2023-06-07T18:11:31.979700Z",
     "start_time": "2023-06-07T18:11:31.728397Z"
    }
   },
   "outputs": [
    {
     "data": {
      "image/png": "[encoded data removed]",
      "text/plain": [
       "<Figure size 576x360 with 2 Axes>"
      ]
     },
     "metadata": {
      "needs_background": "light"
     },
     "output_type": "display_data"
    }
   ],
   "source": [
    "class_names = ['A2', 'B1', 'B2', 'C1']\n",
    "cm = confusion_matrix(y_test, y_pred_catboost, labels=class_names)\n",
    "cm_df = pd.DataFrame(cm, index=class_names, columns=class_names)\n",
    "plt.figure(figsize=(8, 5))\n",
    "sns.heatmap(cm_df, annot=True)\n",
    "plt.title('Test Confusion Matrix')\n",
    "plt.xlabel('Predicted Class')\n",
    "plt.ylabel('True Class')\n",
    "plt.show()"
   ]
  },
  {
   "cell_type": "markdown",
   "id": "7714eb92",
   "metadata": {},
   "source": [
    "Матрица предсказаний на тестовой выборке показывает, что модель безошибочно определяет класс B1, почти без ошибок класс A2. В классе B2 большая часть ошибочных предсказаний выдаёт класс B1."
   ]
  },
  {
   "cell_type": "markdown",
   "id": "96db0089",
   "metadata": {},
   "source": [
    "## Отчёт"
   ]
  },
  {
   "cell_type": "markdown",
   "id": "58767c2e",
   "metadata": {},
   "source": [
    "Предоставлен датасет с выборкой фильмов и уровнем сложности языка для изучающих английский язык, файлы с субтитрами. Поставлена задача - разработать модель для предсказания уровня сложности фильма по файлу с субтитрами.\n",
    "\n",
    "Датасет с выборкой фильмов предобработан - убраны дубликаты, количество уровней сложности языка сведено к 4-м: `A2`, `B1`, `B2`, `C1`\n",
    "\n",
    "Из файлов с субтитрами получен текст диалогов, произведена его предобработка:\n",
    "- текст очищен от тегов, дополнительных символов\n",
    "- проведена токенизация, удалены стоп-слова\n",
    "- использована лемматизация, слова приведены к начальной форме\n",
    "- добавлены дополнительные признаки - общая продолжительность субтитров и средняя продолжительность одного субтитра\n",
    "- каждый субтитр разбит на 3 части для увеличения количества наблюдений и повышения качества предсказания модели\n",
    "- использованы различные способы векторизации - bag of words, TF-IDF и встроенный в модель Catboost.\n",
    "\n",
    "Рассмотрены модели:\n",
    "- LogisticRegressionCV с использованием векторизации bag of words и TF-IDF\n",
    "- Catboost с использованием векторизации bag of words и TF-IDF, а также с использованием встроенного средства.\n",
    "\n",
    "Проведено обучение моделей на обучающей выборке с использованием кросс-валидации, проведена проверка качества лучших моделей на тестовой выборке.\n",
    "\n",
    "Результаты:\n",
    "- На обучающей выборке были близки результаты LogisticRegressionCV с TF-IDF и Catboost с использованием встроенного средства векторизации.\n",
    "- На тестовой выборке повторить высокие результаты метрики удалось лишь модели Catboost"
   ]
  },
  {
   "cell_type": "code",
   "execution_count": 130,
   "id": "ec7a8cfd",
   "metadata": {
    "ExecuteTime": {
     "end_time": "2023-06-07T18:24:03.203739Z",
     "start_time": "2023-06-07T18:24:03.185847Z"
    }
   },
   "outputs": [
    {
     "name": "stdout",
     "output_type": "stream",
     "text": [
      "Результаты Catboost на кросс-валидации: \n",
      "    balanced accuracy 0.86 (+/- 0.03)\n",
      "\n",
      "Результаты Catboost на тестовой выборке:\n",
      "    balanced accuracy: 0.9073\n",
      "    F1 score micro, catboost: 0.8944\n"
     ]
    }
   ],
   "source": [
    "print(f'Результаты Catboost на кросс-валидации: \\n    balanced accuracy {acc_catboost:.2f} (+/- {acc_std_catboost:.2f})\\n')\n",
    "print('Результаты Catboost на тестовой выборке:')\n",
    "print(f'    balanced accuracy: {balanced_accuracy_score(y_test, y_pred_catboost):.4f}')\n",
    "print(f'    F1 score micro, catboost: {f1_score(y_test, y_pred_catboost, average=\"micro\"):.4}') "
   ]
  },
  {
   "cell_type": "code",
   "execution_count": null,
   "id": "4b60417c",
   "metadata": {},
   "outputs": [],
   "source": []
  }
 ],
 "metadata": {
  "kernelspec": {
   "display_name": "Python 3 (ipykernel)",
   "language": "python",
   "name": "python3"
  },
  "language_info": {
   "codemirror_mode": {
    "name": "ipython",
    "version": 3
   },
   "file_extension": ".py",
   "mimetype": "text/x-python",
   "name": "python",
   "nbconvert_exporter": "python",
   "pygments_lexer": "ipython3",
   "version": "3.9.12"
  },
  "toc": {
   "base_numbering": 1,
   "nav_menu": {},
   "number_sections": true,
   "sideBar": true,
   "skip_h1_title": true,
   "title_cell": "Table of Contents",
   "title_sidebar": "Contents",
   "toc_cell": true,
   "toc_position": {
    "height": "calc(100% - 180px)",
    "left": "10px",
    "top": "150px",
    "width": "291.425px"
   },
   "toc_section_display": true,
   "toc_window_display": true
  }
 },
 "nbformat": 4,
 "nbformat_minor": 5
}
